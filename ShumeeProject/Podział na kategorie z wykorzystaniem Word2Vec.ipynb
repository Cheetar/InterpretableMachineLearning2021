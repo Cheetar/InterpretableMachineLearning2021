{
 "cells": [
  {
   "cell_type": "code",
   "execution_count": 1,
   "metadata": {},
   "outputs": [],
   "source": [
    "import pandas as pd"
   ]
  },
  {
   "cell_type": "code",
   "execution_count": 2,
   "metadata": {},
   "outputs": [],
   "source": [
    "# Wczytanie danych od Shumee\n",
    "df_org = pd.read_excel('shumee_mckinsey -Aktualizacja 01.03.xlsx', index_col=None, engine='openpyxl') "
   ]
  },
  {
   "cell_type": "code",
   "execution_count": 3,
   "metadata": {},
   "outputs": [],
   "source": [
    "def finder(phrase):\n",
    "    return (lambda product_name : str(product_name).find(phrase))\n",
    "\n",
    "df = df_org[df_org['ID zamówienia'].notna()] # usunięcie wpisów gdzie ID zamówienia == NaN\n",
    "df = df[df['Nazwa produktu'] != 'Przesyłka pobraniowa']\n",
    "df = df[df['Nazwa produktu'].map(finder(\"Kod rabatowy\")) == -1] # usuniecie kodow rabatowych\n",
    "df = df[df['Miasto'] != 'test']\n",
    "df = df[df['Miasto'] != 'Test']\n",
    "df = df[df['Miasto'] != 'TEST']\n",
    "df = df[df['Miasto'] != 'ssss']\n",
    "df = df[df['Miasto'] != 'asd']\n",
    "df = df[df['Miasto'] != 'asdasd']\n",
    "df = df[df['Miasto'] != 'dsss']\n",
    "df = df[df['Nazwa produktu'].map(finder(\"TESTOWY PRODUKT\")) == -1]\n",
    "df = df[df['Nazwa produktu'].map(finder(\"PRODUKT TESTOWY\")) == -1]\n",
    "df = df[df['Cena'] >= 0] # usuniecie kodow rabatowych\n",
    "# akceptuję produkty z ceną 0 zł, ponieważ są to produkty zamówione osobiście lub też telefonicznie"
   ]
  },
  {
   "cell_type": "markdown",
   "metadata": {},
   "source": [
    "Na razie ograniczę się tylko do produktów sprzedanych w Polsce:"
   ]
  },
  {
   "cell_type": "code",
   "execution_count": 4,
   "metadata": {},
   "outputs": [],
   "source": [
    "df = df[df[\"Kraj\"]==\"PL\"]"
   ]
  },
  {
   "cell_type": "markdown",
   "metadata": {},
   "source": [
    "Sprawdzam poprawność danych:"
   ]
  },
  {
   "cell_type": "code",
   "execution_count": 5,
   "metadata": {},
   "outputs": [
    {
     "name": "stdout",
     "output_type": "stream",
     "text": [
      "Liczba NaN w każdej kolumnie: \n"
     ]
    },
    {
     "data": {
      "text/plain": [
       "ID zamówienia         0\n",
       "Data                  0\n",
       "Źródło              229\n",
       "Kraj                  0\n",
       "Miasto              270\n",
       "Kod Pocztowy        291\n",
       "Nazwa produktu        0\n",
       "SKU               12613\n",
       "EAN               13725\n",
       "Ilość                 0\n",
       "Cena                  0\n",
       "Waluta                0\n",
       "Koszt dostawy         0\n",
       "Forma dostawy      3432\n",
       "dtype: int64"
      ]
     },
     "execution_count": 5,
     "metadata": {},
     "output_type": "execute_result"
    }
   ],
   "source": [
    "print(\"Liczba NaN w każdej kolumnie: \")\n",
    "df.isna().agg(\"sum\")"
   ]
  },
  {
   "cell_type": "markdown",
   "metadata": {},
   "source": [
    "Teraz załaduję model Word2Vec. Wykorzsytuję bibliotekę Gensim, oraz model wytrenowany m.in. na polskiej Wikipedii, który można pobrać pod tym adresem: https://github.com/sdadas/polish-nlp-resources"
   ]
  },
  {
   "cell_type": "code",
   "execution_count": 6,
   "metadata": {},
   "outputs": [
    {
     "name": "stderr",
     "output_type": "stream",
     "text": [
      "C:\\Users\\PiotrGrabysz\\anaconda3\\lib\\site-packages\\gensim\\similarities\\__init__.py:15: UserWarning: The gensim.similarities.levenshtein submodule is disabled, because the optional Levenshtein package <https://pypi.org/project/python-Levenshtein/> is unavailable. Install Levenhstein (e.g. `pip install python-Levenshtein`) to suppress this warning.\n",
      "  warnings.warn(msg)\n"
     ]
    }
   ],
   "source": [
    "# !pip install --upgrade gensim\n",
    "\n",
    "from gensim.models import KeyedVectors\n",
    "\n",
    "word2vec = KeyedVectors.load(\"./word2vec/word2vec_100_3_polish.bin\")"
   ]
  },
  {
   "cell_type": "markdown",
   "metadata": {},
   "source": [
    "Word2Vec zamienia słowa na wektory (w tym przypadku wektory wymiaru 100). Na przykład słowu \"krzesło\" odpowiada taki wektor:"
   ]
  },
  {
   "cell_type": "code",
   "execution_count": 7,
   "metadata": {},
   "outputs": [
    {
     "data": {
      "text/plain": [
       "array([ 2.012289e+00,  1.462072e+00, -5.004100e+00, -3.441711e+00,\n",
       "        3.990560e-01, -2.565111e+00,  5.030282e+00,  6.047542e+00,\n",
       "        4.548630e+00,  1.738084e+00, -2.758710e-01, -7.522800e-02,\n",
       "        1.855085e+00, -6.247217e+00, -5.888261e+00, -8.400401e+00,\n",
       "       -2.965125e+00, -3.482589e+00,  4.830710e-01, -1.018867e+00,\n",
       "       -8.132490e-01, -3.048696e+00,  4.958340e+00, -1.293860e-01,\n",
       "       -3.085849e+00, -1.863563e+00, -5.953629e+00,  4.385289e+00,\n",
       "        1.279462e+00, -1.170168e+00, -8.543170e-01, -4.681480e-01,\n",
       "        5.515535e+00, -7.276000e-03,  7.161128e+00,  3.059943e+00,\n",
       "        2.034154e+00,  3.861800e-01,  2.643000e+00, -7.206631e+00,\n",
       "       -2.734934e+00,  4.014585e+00,  3.858501e+00, -5.677879e+00,\n",
       "        4.270895e+00,  6.786670e-01,  3.034365e+00,  1.110994e+00,\n",
       "       -4.248924e+00,  2.391838e+00,  2.946400e-02,  1.036666e+00,\n",
       "        5.377800e-01, -5.942716e+00, -4.273711e+00, -1.379860e+00,\n",
       "        2.706288e+00,  2.586019e+00,  3.046250e+00,  1.442850e-01,\n",
       "        2.344921e+00,  2.700333e+00, -3.828824e+00, -2.492035e+00,\n",
       "       -2.816570e+00, -8.655730e-01, -9.096200e-01,  1.111703e+00,\n",
       "        2.977318e+00,  8.109150e-01,  1.862500e-02,  4.680109e+00,\n",
       "       -1.131898e+00, -3.702902e+00,  2.898683e+00,  2.101025e+00,\n",
       "       -3.736189e+00, -5.678101e+00, -3.525910e-01,  7.479200e-01,\n",
       "       -1.773977e+00, -1.363426e+00,  3.593656e+00,  3.630788e+00,\n",
       "        1.863202e+00, -5.153527e+00,  1.361373e+00, -1.006270e-01,\n",
       "       -2.530103e+00, -5.022254e+00,  1.696438e+00, -1.698829e+00,\n",
       "        3.305116e+00,  3.534354e+00,  3.875269e+00, -1.359292e+00,\n",
       "        3.383750e-01, -1.931999e+00, -1.322408e+00,  5.337275e+00],\n",
       "      dtype=float32)"
      ]
     },
     "execution_count": 7,
     "metadata": {},
     "output_type": "execute_result"
    }
   ],
   "source": [
    "word2vec[\"krzesło\"]"
   ]
  },
  {
   "cell_type": "markdown",
   "metadata": {},
   "source": [
    "Na podstawie takiej wektorowej reprezentacji można wyszukać słowa o najbardziej podobnym znaczeniu do danego słowa.\n",
    "\n",
    "Słowa podobne do \"krzesło\":"
   ]
  },
  {
   "cell_type": "code",
   "execution_count": 8,
   "metadata": {},
   "outputs": [
    {
     "name": "stdout",
     "output_type": "stream",
     "text": [
      "[('stołek', 0.9247931241989136), ('taboret', 0.9213142991065979), ('fotel', 0.9031204581260681), ('kanapa', 0.8804746270179749), ('krzesełko', 0.8769845962524414), ('sofa', 0.8673840165138245), ('zydel', 0.8485152125358582), ('tapczan', 0.8382896780967712), ('otomana', 0.8218340277671814), ('szezlong', 0.8153223991394043)]\n"
     ]
    },
    {
     "name": "stderr",
     "output_type": "stream",
     "text": [
      "C:\\Users\\PiotrGrabysz\\anaconda3\\lib\\site-packages\\gensim\\models\\keyedvectors.py:772: RuntimeWarning: invalid value encountered in true_divide\n",
      "  dists = dot(self.vectors[clip_start:clip_end], mean) / self.norms[clip_start:clip_end]\n"
     ]
    }
   ],
   "source": [
    "print(word2vec.similar_by_word(\"krzesło\"))"
   ]
  },
  {
   "cell_type": "markdown",
   "metadata": {},
   "source": [
    "Oraz słowa podobne do słowa \"komputer\""
   ]
  },
  {
   "cell_type": "code",
   "execution_count": 9,
   "metadata": {},
   "outputs": [
    {
     "name": "stdout",
     "output_type": "stream",
     "text": [
      "[('oprogramowanie', 0.799543559551239), ('sterownik', 0.794553279876709), ('kalkulator', 0.7934095859527588), ('skaner', 0.7867334485054016), ('urządzenie', 0.7822620868682861), ('laptop', 0.7730702757835388), ('drukarka', 0.7705292105674744), ('procesor', 0.7685826420783997), ('czytnik', 0.7645211219787598), ('serwer', 0.7605681419372559)]\n"
     ]
    }
   ],
   "source": [
    "print(word2vec.similar_by_word(\"komputer\"))"
   ]
  },
  {
   "cell_type": "markdown",
   "metadata": {},
   "source": [
    "Tworzę zbiór wszystkich słów wykorzystanych w nazwach produktów. Wszystkie wielkie litery zastępuję małymi literami, bo tylko takie słowa są rozpoznawane przez word2vec."
   ]
  },
  {
   "cell_type": "code",
   "execution_count": 8,
   "metadata": {},
   "outputs": [],
   "source": [
    "words_set = set()\n",
    "\n",
    "for name in df[\"Nazwa produktu\"].to_list():\n",
    "    for word in name.lower().split():\n",
    "        words_set.add(word)"
   ]
  },
  {
   "cell_type": "code",
   "execution_count": 9,
   "metadata": {},
   "outputs": [
    {
     "data": {
      "text/plain": [
       "33669"
      ]
     },
     "execution_count": 9,
     "metadata": {},
     "output_type": "execute_result"
    }
   ],
   "source": [
    "len(words_set)"
   ]
  },
  {
   "cell_type": "markdown",
   "metadata": {},
   "source": [
    "W nazwach produktów użyto 33669 różnych słów. Być może niektóre z nich, np oznaczające wymiary (jak 10x10), trzeba będzie odrzucić."
   ]
  },
  {
   "cell_type": "code",
   "execution_count": 10,
   "metadata": {},
   "outputs": [],
   "source": [
    "# Słowa które znalazły się w banku słów word2vec:\n",
    "included_words = []\n",
    "# Słowa których word2vec nie zna\n",
    "removed_words = []\n",
    "# lista wektorów odpowiadających poszeczególnym słowom\n",
    "words_array = []\n",
    "\n",
    "for word in words_set:\n",
    "    try:\n",
    "        vec = word2vec[word]\n",
    "        words_array.append(vec)\n",
    "        included_words.append(word)\n",
    "    except KeyError:\n",
    "        removed_words.append(word)"
   ]
  },
  {
   "cell_type": "code",
   "execution_count": 11,
   "metadata": {},
   "outputs": [
    {
     "name": "stdout",
     "output_type": "stream",
     "text": [
      "Udało się zakodować 9175\n",
      "24494 słów nie znalazło się w bazie słów\n"
     ]
    }
   ],
   "source": [
    "print(f\"Udało się zakodować {len(included_words)}\")\n",
    "print(f\"{len(removed_words)} słów nie znalazło się w bazie słów\")"
   ]
  },
  {
   "cell_type": "code",
   "execution_count": 12,
   "metadata": {},
   "outputs": [],
   "source": [
    "import numpy as np\n",
    "\n",
    "words_array = np.array(words_array)"
   ]
  },
  {
   "cell_type": "markdown",
   "metadata": {},
   "source": [
    "### Klastrowanie za pomocą DBSCAN"
   ]
  },
  {
   "cell_type": "code",
   "execution_count": 13,
   "metadata": {},
   "outputs": [],
   "source": [
    "from sklearn.cluster import DBSCAN\n",
    "import collections"
   ]
  },
  {
   "cell_type": "code",
   "execution_count": 53,
   "metadata": {},
   "outputs": [],
   "source": [
    "clustering = DBSCAN(eps=0.22, min_samples = 5, metric = \"cosine\", algorithm=\"brute\").fit(words_array)"
   ]
  },
  {
   "cell_type": "code",
   "execution_count": 56,
   "metadata": {},
   "outputs": [
    {
     "name": "stdout",
     "output_type": "stream",
     "text": [
      "Klastry: \n",
      "{0, 1, 2, 3, 4, 5, 6, 7, 8, 9, 10, 11, 12, 13, 14, 15, 16, 17, 18, 19, 20, 21, 22, 23, 24, 25, 26, 27, 28, 29, 30, 31, 32, 33, 34, 35, 36, 37, 38, 39, 40, 41, 42, 43, 44, 45, 46, 47, 48, 49, -1}\n"
     ]
    }
   ],
   "source": [
    "print(\"Klastry: \")\n",
    "print(set((clustering.labels_)))"
   ]
  },
  {
   "cell_type": "code",
   "execution_count": 58,
   "metadata": {},
   "outputs": [],
   "source": [
    "# Słownik w którym kluczami są słowa, a wartościami numer klastra w którym znajduje się to słowo\n",
    "word2cluster = dict()\n",
    "\n",
    "# Słownik w którym kluczem jest numer klastra, a wartością lista słów w klastrze\n",
    "cluster2word = collections.defaultdict(list)\n",
    "\n",
    "for idx, word in enumerate(included_words):\n",
    "    word2cluster[word] = clustering.labels_[idx]\n",
    "    cluster2word[clustering.labels_[idx]].append(word)"
   ]
  },
  {
   "cell_type": "code",
   "execution_count": 59,
   "metadata": {},
   "outputs": [
    {
     "name": "stdout",
     "output_type": "stream",
     "text": [
      "Number of outliers: 6718\n",
      "cluster 0: 762\n",
      "cluster 1: 22\n",
      "cluster 2: 181\n",
      "cluster 3: 677\n",
      "cluster 4: 269\n",
      "cluster 5: 12\n",
      "cluster 6: 61\n",
      "cluster 7: 6\n",
      "cluster 8: 6\n",
      "cluster 9: 10\n",
      "cluster 10: 82\n",
      "cluster 11: 9\n",
      "cluster 12: 14\n",
      "cluster 13: 11\n",
      "cluster 14: 10\n",
      "cluster 15: 62\n",
      "cluster 16: 20\n",
      "cluster 17: 16\n",
      "cluster 18: 5\n",
      "cluster 19: 7\n",
      "cluster 20: 6\n",
      "cluster 21: 5\n",
      "cluster 22: 26\n",
      "cluster 23: 6\n",
      "cluster 24: 5\n",
      "cluster 25: 6\n",
      "cluster 26: 8\n",
      "cluster 27: 8\n",
      "cluster 28: 6\n",
      "cluster 29: 7\n",
      "cluster 30: 12\n",
      "cluster 31: 18\n",
      "cluster 32: 7\n",
      "cluster 33: 13\n",
      "cluster 34: 5\n",
      "cluster 35: 6\n",
      "cluster 36: 5\n",
      "cluster 37: 8\n",
      "cluster 38: 10\n",
      "cluster 39: 4\n",
      "cluster 40: 4\n",
      "cluster 41: 4\n",
      "cluster 42: 3\n",
      "cluster 43: 4\n",
      "cluster 44: 3\n",
      "cluster 45: 6\n",
      "cluster 46: 6\n",
      "cluster 47: 5\n",
      "cluster 48: 5\n",
      "cluster 49: 4\n"
     ]
    }
   ],
   "source": [
    "print(f\"Number of outliers: {len(cluster2word[-1])}\")\n",
    "for i in range(len(cluster2word) - 1):\n",
    "    print(f\"cluster {i}: {len(cluster2word[i])}\")"
   ]
  },
  {
   "cell_type": "markdown",
   "metadata": {},
   "source": [
    "Problem jest taki, że niektóre klastry są bardzo małe. Z drugiej strony niektóre z nich wydaja się bardzo sensowne:"
   ]
  },
  {
   "cell_type": "code",
   "execution_count": 18,
   "metadata": {},
   "outputs": [],
   "source": [
    "def print_cluster(cluster):\n",
    "    words_long_string = \"\"\n",
    "    for word in cluster:\n",
    "        words_long_string += word\n",
    "        words_long_string += \", \"\n",
    "    print(words_long_string)"
   ]
  },
  {
   "cell_type": "code",
   "execution_count": 44,
   "metadata": {},
   "outputs": [
    {
     "name": "stdout",
     "output_type": "stream",
     "text": [
      "cluster 0: \n",
      "manometr, plecionka, oberżyna, ruszt, woreczek, linksys, pasek, garnek, leżak, przewodowy, stół, miód, peleryna, zielono, podnośnik, pisuar, notes, czerwono, turkusowo, napój, koronka, palczatka, welurowy, aksamitny, pręt, kurtka, szorty, ravioli, dżins, jasnoczerwony, szuflada, kamizelka, pudło, naczynia, haczyk, wiaderko, czarno, błękitny, sztruksowy, sosna, sekretarzyk, spryskiwacz, olejowy, półeczka, koniczyna, ceownik, wełniany, majtki, pączek, spodenki, turkusowy, szafka, dąb, łyżeczka, szaty, klawisze, figowiec, ananas, jasnobrązowy, ciemnofioletowy, kuchenka, deserowy, joystick, mango, pisak, samsung, mufa, ciemnoniebieski, chlebak, bluetooth, kamelia, nadajnik, dzbanek, falbanka, świder, pieczenia, transmiter, jednofazowy, sygnalizator, krzesło, klinga, kostium, kasztan, talerzyk, talerz, nauszniki, koronkowy, polarowy, czapka, satyna, przewód, nożyce, podkoszulek, haft, bolerko, ręcznik, kalafior, dywan, rododendron, otomana, słoik, kwiat, piecyk, wkrętarka, dres, tequila, słup, niebieski, regał, krzesełko, magnolia, welur, frotte, wiertarka, lawenda, wiklina, narzutka, wiadro, materac, termos, sanyo, ciemnoszary, skrzynia, ipad, aktówka, kołdra, wiśniowy, trzpień, prześcieradło, wino, kontrolka, ekran, redmi, talerze, opiekacz, statyw, paulownia, pojemnik, saszetka, kieliszek, papierowy, zielone, plusz, capuccino, ubranko, detektor, amperomierz, potencjometr, kocioł, scotch, nokia, ścierka, etui, zamsz, slipy, śpioszki, nakrapiany, toshiba, pvc, siekiera, pomarańczowy, kosz, jasnoniebieski, jabłuszko, cytrusowy, wzmacniacz, dmuchawa, ława, ławka, podpórka, serwetka, podłoga, kompozytowy, spodnie, rożen, podstawka, łososiowy, widły, srebrzysty, piżamka, bezrękawnik, miętowy, jasnozielony, kardigan, brytfanna, mięta, eukaliptus, klawiatura, kurczak, piekarnik, mosiądz, ciemnoróżowy, konewka, pomidorowy, beżowy, żeliwo, ściana, chochla, wiskoza, umywalka, burgundowy, bordowy, linka, wanilia, mocowanie, miska, arachidowy, narzuta, wiśnia, teczka, płaszcz, pieczywo, obudowa, tapczan, pilnik, filc, listwa, kombinezon, brązowo, sofa, herbatnik, deska, moskitiera, sztućce, szafirowy, piżama, obuwie, dyfuzor, kolorowa, motorola, oliwkowozielony, lina, kąpielówki, aksamit, obrus, chabrowy, młotek, kaftan, wersalka, dociskowy, kwiatek, dzianina, spaghetti, nylon, róża, sukienka, rozłącznik, juka, półmisek, skórzany, wodoodporny, beżowo, plastikowy, pokrowiec, panasonic, huawei, komoda, lutownica, stringi, zapłonnik, mosiężny, microsd, gablotka, bezpiecznik, poducha, hydraulicznie, walizka, wyświetlacz, portfel, pomarańcz, polerka, trawa, wifi, kabel, ostrze, koperta, śmietankowy, satynowy, płytka, drzewko, łóżko, gigabyte, iphone, okruszek, bukszpan, ściągacz, sieciowy, cynkowy, trójnik, czerwone, rurowy, bluzka, peonia, drążek, oliwkowy, fotel, ecru, jeansy, dźwignia, torba, biszkopt, klusek, wiąz, wspornik, zacisk, czytnik, uszczelka, nylonowy, naczynie, łyżka, jasnoróżowy, poncho, pościel, ławeczka, zestyk, folia, dywanik, lenovo, biała, malwa, sakwa, hamak, mmc, nakładka, uszczelniacz, miecz, patelnia, kwarcowy, czerwony, kolorowy, ideapad, szlifierka, koszula, śmigło, uchwyt, stabilizator, fornir, plastik, jasnobeżowy, nóż, przełącznik, szarobrązowy, asus, worki, róż, bielizna, metalowy, koszyk, kuferek, koc, laserowy, osełka, leginsy, tunika, sklejka, płaskownik, odtwarzacz, lodówka, szmaragdowy, konwerter, szynka, smartphone, okleina, stelaż, przyrząd, okładzina, klamra, but, smycz, pień, zaciskowy, golonka, kokos, cukiernica, torebka, kanister, spódnica, wkrętak, filiżanka, brokatowy, tortownica, kufer, leżanka, koszulka, wierzba, przegroda, kaloryfer, pizza, olcha, brązowoszary, ciemnobrązowy, spódniczka, dioda, konsola, szelki, foliowy, półka, ciemny, sterownik, awokado, bawełniany, dozownik, łóżeczko, stołek, liść, jaśmin, rozgałęźnik, nasadka, halka, piwo, prowadnica, hak, bnc, palenisko, plecak, sandał, komputer, skrobaczka, khaki, wtryskiwacz, butelka, stojak, stycznik, rozdzielnica, sushi, laptop, dętka, stalowy, podgrzewacz, szufla, frak, spawarka, przekładnik, bokserki, pudełko, mufka, kredens, ołowiowy, popychacz, ogranicznik, meblościanka, filcowy, kaptur, pomidor, vlc, sagowiec, popielaty, biało, słuchawkowy, sznurek, notatnik, złocisty, wielobarwny, piec, złączka, odbiornik, łańcuch, napięciowy, toporek, przedłużacz, imac, schowek, szklanka, cappucino, żółto, smoking, nożyczki, jasnoszary, solniczka, ścianka, rdzawy, szalik, szczypce, poszewka, brytfanka, kocyk, dźwig, pulpit, szezlong, czarny, tacka, zielony, sejf, rajstopy, zlew, elektromagnes, chusta, drzewo, drukarka, projektor, malinowy, posłanie, fuksja, zasuwowy, futerał, taboret, kubek, szlafrok, arbuz, biustonosz, monitor, garnitur, kominek, tkanina, futon, lipa, pokrętło, kotwa, logitech, grzejnik, wyciągarka, kompresor, futro, lniany, liliowy, puszka, długopis, beczka, kremowo, jabłkowy, dyktafon, śruba, pompa, zaczep, wkręt, kosa, brulion, rfid, hydrauliczny, golarka, usb, legginsy, zatyczka, plecaczek, promiennik, nierdzewny, palnik, jagnięcina, figi, peruka, obciążnik, aluminium, kasetka, dławik, rondelek, beczek, tort, kontener, fioletowy, różowy, wciągarka, menażka, przetwornica, radar, frytki, jodła, szyna, poliwęglan, neseser, sandisk, akrylowy, aluminiowy, łopata, brandy, podajnik, skaner, kaktus, displayport, żółty, kołek, szmizjerka, czajnik, hitachi, karafka, pchacz, lcd, wiertło, ciasto, notebook, poduszka, kanapa, paska, kociołek, bandaż, qualcomm, neopren, kapelusz, maselniczka, wieszak, kufel, nawilżacz, koparka, chrom, tasak, tablet, frytkownica, mieszadło, sweter, espresso, widelczyk, rajtuzy, cedr, kątownik, bezprzewodowy, trójfazowy, szkła, jeansowy, bidon, przycisk, lin, różowo, szary, szklany, fotelik, czujnik, gumowy, wanienka, misa, wyściółka, rozporowy, słupek, irygator, złącze, woltomierz, słonecznik, zaślepka, serek, biały, szafa, rozdzielacz, ognisko, granatowy, toaletka, hdmi, przecinak, brokat, kalesony, latte, akumulatorek, pinowe, żakiet, bluza, czerwona, brzeszczot, puszek, klawisz, komódka, wyrzynarka, kompozyt, lśniący, ołówek, ramiączko, poliamidowy, wentylator, siedzenie, akacja, banan, frezarka, poliester, dżersej, laser, niebiesko, buta, rękaw, rondel, belka, posypka, panel, czarna, fondue, wanna, przeciwdeszczowy, matowy, szaro, wirówka, tiul, trzcina, worek, wykładzina, drink, biurko, jesion, mankiet, drut, mydelniczka, vga, stolik, alcatel, rura, obręcz, frez, skrzynka, włóknina, xiaomi, foremka, wyłącznik, prążkowany, peniuar, bordo, kremowy, agregat, tenisówki, flanelowy, limonka, cząber, tęczowy, purpurowy, rezystor, kimono, spodni, kanapka, kwietnik, mikrofalówka, opakowanie, siedzisko, tytanowy, jajko, trzonek, nakrętka, sznur, klimatyzator, bagaż, kawa, miseczka, akumulator, cappuccino, transformator, przekładnia, siłownik, hamburger, zlewozmywak, śpiwór, termostat, ethernet, ciemnozielony, draperia, cyprys, szampan, electronics, smokingowy, przekaźnik, paczka, listek, buk, chwytak, przecinarka, naciągowy, pilarka, zasilanie, zasilacz, grafitowy, brzoskwiniowy, aloes, wielokolorowy, dracena, płócienny, wysięgnik, ciśnieniomierz, thinkpad, lilia, flanela, chłodziarka, \n",
      "\n",
      "\n",
      "cluster 1: \n",
      "lecco, catania, palermo, savona, bari, prato, acqua, parma, fano, bianco, siena, andria, toscana, trapani, verona, fiori, chiavari, ragusa, caserta, novara, carrara, modena, \n",
      "\n",
      "\n",
      "cluster 2: \n",
      "tasty, marry, control, therapy, she, shades, sparkle, take, rituals, lovely, only, delight, cherish, puppy, lasting, obsession, fresh, minds, logic, loves, stripper, holistic, markers, convex, leaves, rebel, treats, cooking, words, symbols, induction, abstract, experience, foxy, tones, intense, maintenance, wonderful, delicate, perfection, structural, crucial, learners, coloured, sticks, knives, multi, unite, each, skinny, automatic, simplicity, learn, dots, cascade, pets, licensed, please, gifts, cult, econo, makeup, cubes, immortal, glow, babies, thank, everyday, holographic, prodigy, presence, love, kidz, especially, movers, children's, leave, foil, pure, peaches, glitter, stick, around, kitten, remedy, bottled, tear, indicator, exquisite, defined, back, sleeve, served, vivid, knows, sensitive, dynamic, ionic, compact, accelerator, texture, expertise, look, indigo, make, stay, listen, addition, pretty, boost, circular, vibe, kinetic, pendulum, ageless, nude, herbal, calm, envy, bunnies, serving, cares, crystals, tribe, beats, be, girlfriend, patterns, contour, stronger, keep, surf, rustic, ugly, memories, sense, diaper, preparation, brilliant, balancing, guilty, pearls, active, wheels, cool, blocks, extender, intensive, massive, privilege, authentic, risk, pineapple, effects, reflective, get, ritual, activity, sunglasses, favour, shaggy, shave, asymmetric, umbrella, emotion, ebony, moments, slice, dancer, endless, matters, hungry, just, guess, cleansing, always, lime, him, spirits, rectangle, quartz, \n",
      "\n",
      "\n",
      "cluster 3: \n",
      "1920, 2114, 690, 618, 156, 2633, 1622, 243, 30, 98, 179, 124, 1215, 611, 265, 3600, 1742, 82, 3802, 213, 398, 201, 3025, 906, 350, 173, 872, 03, 2099, 2200, 26, 1908, 540, 018, 161, 835, 01, 166, 580, 67, tlx, 1397, 1485, 756, 2446, 2442, 600, 114, 88, 139, 1216, 534, 570, 125, 2412, 1360, 926, 153, 3217, 918, 360, 081, 2008, 614, 826, 247, 1960, 69, 85, 535, 401, 263, 1363, 1287, 178, 194, 1965, 485, 1399, 16, 828, 70, 146, 212, 36, 186, 113, 94, 33, 630, 380, 351, 193, 39, 930, 158, 1386, 62, 34, 75, 1557, 4050, 903, 023, 206, 95, 110, 1271, 2000, 1222, 1050, 488, 382, 390, 22, 2923, 1424, 152, 3276, 180, 192, 275, 1000, 307, 7500, 181, 170, 205, 133, 795, 239, 174, 187, 330, 732, 900, 2400, 144, 10, 707, 655, 61, 157, 635, 9000, 481, 241, 250, 352, 1043, 914, 49, 465, 604, 221, 472, 083, 40, 2411, 3149, 531, 211, 3561, 2086, 640, 436, 1162, 355, 319, 162, 3944, 137, 613, 270, 244, 1750, 51, 128, 290, 3230, 189, 215, 237, 163, 285, 1113, 840, 1910, 820, 395, 71, 865, 046, 2018, 641, 150, 2182, 9, 430, 2842, 1443, 800, 500, 005, 225, 2789, 171, 38, 289, 2032, 2037, 31, 3076, 777, 105, 302, 1201, 2800, 52, 519, 432, 805, 2016, 455, 610, 05, 381, 1594, 2214, 3100, 1730, 3618, 175, 932, 300, 2970, 19, 025, 80, 1420, 84, 1576, 3900, 1200, 53, 2810, 1130, 195, 90, 5100, 1650, 151, 89, 3, 2955, 1881, 2474, 216, 20, 87, 218, 530, 1780, 249, 3350, 236, 1040, 415, 396, 7, 21, 700, 740, 101, 3040, 280, 3284, 1536, 4250, 4065, 870, 200, 845, 348, 46, 3023, 129, 2040, 81, 1512, 065, 167, 450, 7800, fax, 210, 119, 2850, 4008, 184, 340, 68, 507, 650, 1226, 126, 004, 1401, 190, 576, 2226, 295, 145, 77, 136, 311, 159, 710, 392, 2019, 66, 825, 196, 37, 254, 188, 100, 420, 860, 366, 235, 48, 336, 298, 3528, 283, 2600, 781, 220, 323, 460, 185, 45, 13, 925, 1640, 108, 97, h, 197, 79, 2942, 253, 2324, 6, 1687, 230, 1732, 002, /, 603, 24, 1009, 191, 2, 169, 1152, 258, 93, 310, 103, 578, 733, 457, 320, 198, 232, 120, 1373, 176, 155, 296, 1024, 214, 203, 410, 240, 1548, 645, 74, 1610, 2471, 648, 63, 440, 0000, 6600, 692, 154, 316, 226, f, 306, 123, 370, 742, 274, 1816, 1948, 308, 58, 115, 168, 228, 131, 248, 1148, 233, 17, 555, 06, 121, 2620, 35, 4500, 76, 510, 499, 542, j, 1100, 022, 59, 758, 147, 130, 1025, 1408, 622, 2069, 134, 102, 571, 2105, 25, 1354, 1822, 063, 497, 199, 2457, 28, 3811, 111, 2002, 595, 57, 229, 371, 2835, 1614, l, 4200, 183, 594, 445, 375, 7000, 1044, 140, 177, 3554, 301, 880, 607, 1495, 135, 276, 106, 91, 394, 1433, 1111, 1158, 1601, 2146, 1833, 7400, 764, 550, 27, 78, 605, 850, 752, 3608, 204, 496, 1041, 585, 12, 1300, 64, 3030, 245, 1682, 490, 182, 143, 601, 23, 1134, 11, e, 92, 504, 56, 1160, 32, 1608, 217, 246, 1268, 02, 000, 8000, 2031, 032, 741, 107, 1250, 112, 816, 982, 148, 04, 224, 2009, 527, 60, 405, 15, 2862, 1806, 1, 2212, 325, 341, 141, 07, 1625, 910, 164, 118, 73, 1417, 400, 109, 122, 14, 18, 1526, 292, 1119, 127, 4, 5000, 1232, 680, 1500, c, 2034, 1645, 8, 064, 480, 686, 357, 281, 1570, 520, 305, 256, 4100, 44, 720, 830, 549, 132, 927, 142, 312, 315, 620, 1969, 044, 759, 99, 47, 722, 222, 950, 1974, 2120, 2167, 456, 750, 1446, 86, 50, 1083, 768, 5, 55, 42, 365, 29, 659, 1220, 138, 2100, 8500, 3200, 1396, 260, 590, 1030, 43, 1815, 172, 030, 1400, 1930, 165, 543, 385, 2542, 1427, 65, d, 2500, 417, 827, 116, 96, 0011, 4000, 026, 255, 975, 41, 202, 3500, 1941, 242, 54, 3000, 512, 560, 1425, 1546, 117, 257, 160, 1771, 104, 72, 1800, 1015, 1288, 363, 83, 1411, 207, 1439, 1900, 1600, \n",
      "\n",
      "\n",
      "cluster 4: \n",
      "lulu, donna, dizzy, steve, mandy, karen, greg, david, hunter, green, gina, agata, cynthia, blake, evans, irwin, rusty, fisher, byron, darlene, grey, sandy, natalia, barber, ginger, foster, draper, tommy, trixie, sally, olga, montgomery, paul, loren, matt, james, dusty, baxter, armand, lucy, chloe, jones, laura, dickie, anita, rene, miles, miranda, mary, kenneth, forrest, daria, louie, penny, paterson, jessica, parker, ballard, charity, roba, michelle, ashley, ella, zuzanna, candy, angelina, geoffrey, roger, april, woody, yves, lowe, ursula, melinda, isabelle, rick, megan, murray, phillips, harding, brown, pat, jackson, cherry, scarlett, boyle, leila, brooke, nolan, anna, gavin, curly, teddy, ken, wood, dorothy, anouk, oksana, molly, jean, laila, jennifer, cindy, joe, ruby, wilkinson, sabine, ingrid, evan, charles, kendall, terry, joey, bob, jacobs, margot, zina, olivia, vivian, patricia, emilia, jasper, harry, polly, lexi, shepherd, cloe, ethan, iris, anya, garth, vinson, scooter, barbara, vanessa, sara, marion, troy, małgorzata, justin, louise, simon, sophie, greer, clarissa, brent, tipton, stafford, bunny, hill, jimmy, cooper, dorota, elizabeth, spike, bliss, john, johnny, stanley, naomi, nicole, gary, kathie, hamilton, allen, marc, fluffy, grant, price, mitchell, laurent, katarzyna, alyssa, perry, rose, olive, julius, slim, tina, bobbi, marianne, zosia, benton, carmen, nina, joy, pamela, tim, bobby, sarah, rené, donovan, charlotte, linda, wally, mickey, emma, jack, eva, gordon, spencer, shorty, thierry, charlie, oakley, taylor, alexander, michael, meredith, louis, julia, alicja, sherman, mrs, myra, lena, williams, pierre, natalie, daisy, calvin, lovett, jasmine, victor, henderson, mariola, olivier, kitty, ann, graham, lucas, ross, milton, minnie, wallace, thomas, sandra, margo, doris, stella, lottie, beth, edyta, violet, ewa, noelle, wendy, wick, macpherson, philip, keri, honey, jacob, catherine, angela, gilbert, preston, leyla, miriam, leo, crane, vic, peacock, lily, tiny, kamila, cathy, logan, wanda, \n",
      "\n",
      "\n",
      "cluster 5: \n",
      "zwierzątko, pieski, piesek, małpka, ptaszka, niedźwiadek, kotek, bobas, kociak, miś, misio, zwierzak, \n",
      "\n",
      "\n",
      "cluster 6: \n",
      "bravissima, przezr, nikie, kaiserhoff, lman, 8744, dilos, 7642, diamon, 5423, 5664, 6764, bezbateryjny, 8423, 9220, innov, wkrętkowy, evga, zaok, 4973, datch, alsten, tigi, allonne, śnieżnobia, blate, harto, 5210, zuchwil, gsv, 8641, jixin, 6021, energizing, 4547, opakowan, 5523, pravia, chiva, conserve, półwysokie, migen, zaginarka, 8061, 6832, 5313, 9225, włókn, janista, barcelon, doormat, 8765, roundy, nadg, krawędziarka, zelio, stormtrooper, shaby, 7360, burgis, 3789, \n",
      "\n",
      "\n",
      "cluster 7: \n",
      "ii, vi, iii, vii, iv, viii, \n",
      "\n",
      "\n",
      "cluster 8: \n",
      "cheese, cream, butter, coffee, cake, chocolate, \n",
      "\n",
      "\n",
      "cluster 9: \n",
      "podest, rampa, schody, drabinka, balkon, drabina, schodki, taras, korytarz, drabinki, \n",
      "\n",
      "\n",
      "cluster 10: \n",
      "touareg, przyczepa, lamborghini, śmieciarka, ciężarówka, vw, opel, trójkołowy, dodge, ciągnik, transporter, maserati, samolot, saab, lokomotywa, renault, ferrari, sanki, tiguan, skuter, bmw, seat, terenówka, gt, rover, peugeot, trzykołowy, lotus, hummer, traktor, kabriolet, bugatti, rowerek, wózeczek, auto, speedster, karoq, hatchback, volvo, aygo, porsche, sanie, pociąg, buick, nissan, mercedes, kosiarka, rower, tramwaj, unimog, pojazd, kodiaq, citroen, autobus, toyota, aventador, fiat, wózek, ford, sedan, willys, narty, jeep, wagon, motocykl, touran, czołg, samochód, kangoo, roomster, volkswagen, audi, yaris, kombi, combi, siewnik, wóz, kombajn, scuderia, cadillac, passat, chevrolet, \n",
      "\n",
      "\n",
      "cluster 11: \n",
      "czerwień, fiolet, lazur, zieleń, błękit, seledyn, czerń, szarość, biel, \n",
      "\n",
      "\n",
      "cluster 12: \n",
      "klips, brelok, wisiorek, zapinka, bransoletki, breloczek, kolczyk, diadem, pierścionek, amulet, koraliki, naszyjnik, perła, bransoletka, \n",
      "\n",
      "\n",
      "cluster 13: \n",
      "salon, pokój, pokoik, kuchnia, łazienka, hol, przedpokój, jadalnia, sypialnia, toaleta, sala, \n",
      "\n",
      "\n",
      "cluster 14: \n",
      "detergent, lotion, perfumy, krem, mydło, utrwalacz, aerozol, szampon, dezodorant, samoopalacz, \n",
      "\n",
      "\n",
      "cluster 15: \n",
      "francesca, dimas, gio, pedro, prada, lopez, gabbana, herrera, cattaneo, habana, roberto, arturo, brito, escada, rodriguez, francesco, lagerfeld, armani, dkny, antonio, diego, ignacio, morales, rivera, moschino, trussardi, biagiotti, salvatore, gilmar, enrico, fabia, iglesias, balenciaga, versace, gucci, escalante, salvador, carlo, felice, suarez, emporio, bustamante, mario, luca, narciso, puig, arnaldo, giorgio, missoni, rossi, vallejo, enrique, ruiz, gino, renato, conca, cavalli, rojo, ricci, salinas, alves, carbone, \n",
      "\n",
      "\n",
      "cluster 16: \n",
      "kansas, iowa, vermont, minnesota, boston, tucson, denver, peoria, dallas, chicago, georgia, seattle, hartford, wichita, fresno, michigan, rockford, detroit, wisconsin, milwaukee, \n",
      "\n",
      "\n",
      "cluster 17: \n",
      "bien, mais, jaune, c'est, reve, pour, chaud, que, poudre, elle, un, soleil, tous, adorable, homme, ou, \n",
      "\n",
      "\n",
      "cluster 18: \n",
      "altanka, pergola, ogród, altana, chatka, \n",
      "\n",
      "\n",
      "cluster 19: \n",
      "ramię, palce, dłoń, ręka, plecy, rączka, kolano, \n",
      "\n",
      "\n",
      "cluster 20: \n",
      "wyrzutnia, bateria, głowica, rakieta, sonda, zasobnik, \n",
      "\n",
      "\n",
      "cluster 21: \n",
      "asfalt, beton, cement, cementowy, betonowy, \n",
      "\n",
      "\n",
      "cluster 22: \n",
      "kota, hipopotam, zając, niedźwiedź, lampart, pantera, jeleń, tygrys, jelonek, kot, demon, leniwiec, wiewiórka, troll, wilk, krokodyl, wąż, myszy, słoń, królik, nosorożec, żyrafa, pies, brontozaur, smok, bestia, \n",
      "\n",
      "\n",
      "cluster 23: \n",
      "isparta, antakya, tunceli, giresun, gaziantep, edremit, \n",
      "\n",
      "\n",
      "cluster 24: \n",
      "rekin, żółw, krab, pająk, ślimak, \n",
      "\n",
      "\n",
      "cluster 25: \n",
      "loiret, morlaix, tulle, libourne, dinard, saverne, \n",
      "\n",
      "\n",
      "cluster 26: \n",
      "holownik, ponton, kajak, ścigacz, gondola, łódź, łódka, statek, \n",
      "\n",
      "\n",
      "cluster 27: \n",
      "konie, renifer, kuc, wielbłąd, koń, siodło, klacz, kuca, \n",
      "\n",
      "\n",
      "cluster 28: \n",
      "mi, im, ci, jej, wy, mu, \n",
      "\n",
      "\n",
      "cluster 29: \n",
      "mondo, uomo, buon, sono, baci, piccolo, senza, \n",
      "\n",
      "\n",
      "cluster 30: \n",
      "lagoon, turtle, rabbit, frog, chicken, nest, duck, shark, sheep, cats, crab, bear, \n",
      "\n",
      "\n",
      "cluster 31: \n",
      "owalny, półokrągły, poprzeczny, ażurowy, naroże, okrągły, trójkątny, gładki, sześciokątny, kuliste, płaski, cylindryczny, zakrzywiony, prostokąt, stożkowy, skośny, prostokątny, podłużny, \n",
      "\n",
      "\n",
      "cluster 32: \n",
      "jj, uz, jb, aq, q, pbd, xq, \n",
      "\n",
      "\n",
      "cluster 33: \n",
      "żarówka, latarnia, świecznik, lampa, lampka, żyrandol, świeczka, pochodnia, halogenowy, świetlówka, świeca, świece, kinkiet, \n",
      "\n",
      "\n",
      "cluster 34: \n",
      "eda, martina, erica, paula, carla, \n",
      "\n",
      "\n",
      "cluster 35: \n",
      "flet, fortepian, skrzypce, puzon, pianino, wiolonczela, \n",
      "\n",
      "\n",
      "cluster 36: \n",
      "obieraczka, krajalnica, krajarka, szatkownica, wyciskarka, \n",
      "\n",
      "\n",
      "cluster 37: \n",
      "woal, żaluzja, zasłonka, roleta, parawan, zasłona, krata, kurtyna, \n",
      "\n",
      "\n",
      "cluster 38: \n",
      "quid, aio, velit, legere, postquam, magno, movit, visione, vinum, editi, \n",
      "\n",
      "\n",
      "cluster 39: \n",
      "absolue, noms, chefs, vertus, \n",
      "\n",
      "\n",
      "cluster 40: \n",
      "arianna, flavia, giulia, valeria, \n",
      "\n",
      "\n",
      "cluster 41: \n",
      "furtka, drzwiczki, okno, drzwi, \n",
      "\n",
      "\n",
      "cluster 42: \n",
      "limited, plc, telecom, \n",
      "\n",
      "\n",
      "cluster 43: \n",
      "marmurowy, granit, granitowy, wapienny, \n",
      "\n",
      "\n",
      "cluster 44: \n",
      "sprzęt, aparat, urządzenie, \n",
      "\n",
      "\n",
      "cluster 45: \n",
      "nouvel, jeune, classique, parisienne, univers, clinique, \n",
      "\n",
      "\n",
      "cluster 46: \n",
      "akwamaryn, opal, chryzolit, koral, onyks, turkus, \n",
      "\n",
      "\n",
      "cluster 47: \n",
      "banking, carbon, textile, shell, products, \n",
      "\n",
      "\n",
      "cluster 48: \n",
      "square, drive, avenue, street, road, \n",
      "\n",
      "\n",
      "cluster 49: \n",
      "tarcza, kask, napierśnik, hełm, \n",
      "\n",
      "\n"
     ]
    }
   ],
   "source": [
    "for i in range(len(cluster2word) - 1):\n",
    "    print(f\"Cluster {i}. Core sample {}\")\n",
    "    print_cluster(cluster2word[i])\n",
    "    print(\"\\n\")"
   ]
  },
  {
   "cell_type": "markdown",
   "metadata": {},
   "source": [
    "Jakie słowa znalazły się wśród outlierów?"
   ]
  },
  {
   "cell_type": "code",
   "execution_count": 45,
   "metadata": {},
   "outputs": [
    {
     "name": "stdout",
     "output_type": "stream",
     "text": [
      "stm, nastawny, mys, teraz, wysoki, revlon, korkowy, sonoma, madon, koci, krople, podtynkowy, niełamliwy, przepływ, dym, simba, badge, ced, aurita, inspi, balm, muszka, elf, dwuobwodowy, escape, lurex, zapf, saffi, 0925, donald, afera, trener, visone, dźwięk, śnieżka, militarny, nadruk, zoch, sky, przeciwłupieżowy, mot, ar, clix, jednokomorowy, przyssa, oszczędzacz, pma, siłacz, bejsbolówka, burito, gruba, nitro, neo, mdm, holmes, 3730, paste, amita, stalow, tons, abażur, gimnastyczny, korytko, grafit, velda, power, wibrator, winter, wenecja, spc, ślub, capital, oryginalny, meccano, vt, materiałowy, citizen, bat, poker, drzw, double, brąz, alicante, dover, grzybkowy, shiatsu, book, awex, cfl, królewski, branch, airmax, laski, uht, soka, permanent, miszuk, imitacja, boxe, merveilles, parowar, śliweczka, ro, kredki, pmma, oświetleniowy, torre, robiony, bar, bond, callatis, bukow, drewniany, wishbone, zakrywka, moxy, podra, duży, stojąca, uralny, 3236, kapitana, sofia, 6789, oud, rapid, zjeżdżalnia, sometime, wenge, regulator, rest, zapłonowy, zioła, list, nintendo, bremen, wytaczadło, link, keystone, sabo, prep, repair, champagne, liscie, minijack, kaseta, tabac, czarnozłota, śrubowy, cewka, uemura, dudy, jutowy, prima, gyro, feber, jednobiegunowy, żół, męski, klp, ultradźwiękowy, kolanko, mint, gopro, kartusz, obejma, mopsik, fifa, cross, podus, analiza, chanel, crew, zosi, wielozadaniowy, kracker, ascot, chrani, xps, sterow, urocze, military, trzypoziomowe, bodyboard, taeda, sevi, golden, podwójnie, nierd, bandirma, turquoise, blaise, carolina, moln, plush, torb, azul, pri, mediterranean, bucak, post, drop, serduszka, moje, strzelający, sm, głęboki, poduszcze, mówiąca, elixir, uchylny, clic, ssd, urban, okrągł, sg, bourjois, flip, dilly, copine, odb, russia, all, natural, vani, osobowy, fo, masturbator, rcd, rosse, paloma, wyrywacz, wyposażenie, qc, tresor, jaśkowe, sports, supernova, tapasy, tajemnica, chouchou, ne, tailor, minionki, lounge, lucia, budda, królewna, klon, yarn, poidło, spł, unicorn, mazda, drapaczka, nawiertak, rc, zb, podkład, giria, puder, kitchen, hasbro, rysik, poręcze, napeł, pogotowie, euphoria, klarnet, hodowla, uva, melodia, szyba, nog, podnóżek, dobowy, maszynowy, pokrętny, wojsko, borneo, la, pepper, dive, 8546, płot, simple, barki, deadpool, szlifierski, grill, pióra, termokurczliwy, robak, boks, juta, york, okrutny, pianka, wyśw, fratelli, modus, parking, upo, łapki, czrny, akryl, podczerwień, check, medium, ms, engel, sun, galwa, livigno, jilong, sirius, motyl, cuidado, romek, titanium, mikrofalowy, cel, top, levi, instinct, zams, szablon, chmurka, villette, woman, td, lg, flora, bang, niebies, cabaye, tag, kapelusznik, obroża, ogromny, professi, sauna, select, krzyżakowy, doniczka, carlisle, niko, quin, stolnica, chmura, lan, devon, odporny, neos, parrish, whiskey, pianists, sreb, kształty, gię, kingdom, gxp, sa, merit, transverse, trofeum, łosoś, komfort, canetto, terak, szybkozłącza, pompon, ), kłódka, piaf, musztardowy, instituto, baweł, tweet, sarini, poł, usa, eko, smd, bloom, amerykański, czterokątna, tronto, woof, aplikator, camp, poziom, right, libra, vivi, ofiara, wodospad, sign, ekspres, lublin, tundra, stoper, grassy, dahlia, gnocchi, 0041, zięba, indukcja, y, mb, księżna, załączenie, steely, kar, agrinio, hart, konik, by, summer, pomaranczowy, family, ramona, smalandii, nobel, karde, ukulele, cilly, msc, tekowy, bańka, suchy, pojed, pasy, fa, edycja, kreda, bezb, raven, lgr, tarasowy, chr, focus, nosidło, nóżki, lawa, class, gotas, płacząca, muzyka, toner, świecznikowy, beene, opi, burgund, przeciwko, arc, barek, stymulator, range, fot, wrx, ha, zygzak, mia, grzechotka, borkum, liverpool, alu, zegarowy, melrose, oteo, środki, krd, banani, ekos, zatrzaskowy, light, 1001, pusta, mozaikowy, nevada, conrad, gesi, historyjka, dobry, piła, baloons, catch, twardowski, no, kappa, wyjście, brave, snug, piast, karmelitański, sensational, keyboard, shakira, reveal, winterfell, better, osoba, demontowalny, league, self, gładk, glc, benz, błyszcz, op, mungo, rok, wielkość, hug, oponka, rn, mkm, ciemnobrą, rehabilitacyjny, bie, mglisty, ogrodowy, astra, keychain, opti, lokomotywka, szczot, zwc, white, rubble, bałwan, adapter, rumilly, semi, od, słowac, kieszonkowy, akcent, aqua, lkw, polaroid, lancome, slider, mesko, główka, awaryjny, profis, ntp, niemowlęcy, perfect, tarnik, daktylowiec, gumow, cls, snapp, kos, monza, iron, profi, integral, pomaranczowe, przesiewacz, tv, deskorolka, ph, konektor, crispy, czer, słuchawk, śm, pro, ge, wióro, practise, elegance, orosei, piłka, siljan, klub, samopo, żaluzjowy, roboty, zmyłka, jonc, flamingo, strażacki, vhf, puf, electric, carano, stucchi, beta, duracell, gospodarczy, o, serious, baranek, laleczka, kinzo, pędzelek, pulsar, wiosłam, kontroler, zorro, środkowa, hard, beetle, consul, ogrodniczy, vita, eds, rozsiewacz, raclette, blacklight, lyra, cassetto, ka, hermes, podłokietnik, gran, dpi, proszek, kozioł, live, thon, carmel, kettler, zacieraczka, fish, okręt, bieber, lew, melan, canoa, gru, hocker, średnia, pastel, an, pds, solidny, karmnik, kowbojski, ls, jasnos, flokowany, feeling, spinner, dos, food, jednoręki, koe, montreux, hau, otwornica, people, kotwica, pokojowa, światłowód, fajkowy, stereo, gravity, gamma, klasy, du, eshop, juventus, oiseau, kosmiczny, zwierzeta, dwubiegunowy, wbijak, polipropylen, tomi, chair, swat, muzyczny, silicon, woda, kingston, rozszerzacz, fit, telewizja, born, crystal, impre, softbox, ru, apolline, poziomica, zebra, prawdziwy, volupte, story, ret, słomkowy, wierce, cumbia, largo, 2228, romana, buin, cut, spotkanie, ukp, uk, sok, reveton, atlantic, opona, koło, of, dwukołowy, sensations, bezdotykowy, l'oreal, orientalny, helios, japonki, skakanka, kolba, tahiti, kt, zasięg, toster, mist, selma, lpt, superspeed, szopa, akacjowy, gtx, przygoda, rozpalacz, odświeżacz, sygnał, sweets, jesus, lalka, toaletowy, dvk, napinacz, jednorodzinny, heiko, hide, stan, manhattan, kikka, nietypowy, cha, artec, outlet, latarenka, łagodzący, reflektor, sztuka, mysz, text, cl, dsg, fleetwood, oneida, żyłka, vision, aero, palet, katarynka, farmerka, aurora, chick, qua, to, schwarzkopf, adirondack, cy, narożny, dog, ninjago, nrp, iec, seiko, large, cleanse, tkan, kra, kort, przykładnica, gorju, deliv, amortyzacja, suny, przekaźnikowy, kempingowy, astronauta, bryzgoszczelny, henryk, trio, playboy, ventilator, smyc, permanentny, campingowy, inn, fira, pop, okulary, adaptor, alpha, boos, tth, dryer, spacial, szkielet, chlorek, rona, satara, scent, ict, kart, blender, bord, bezobsługowy, zee, pistol, polir, camea, serce, pils, solar, bam, mone, włosy, reniferowy, ki, aktyw, kalosz, wyciskacz, balance, husl, spręż, łuk, dutch, prin, dziewczęcy, straż, pozytywka, chro, tiani, apple, okienny, lodowy, 7935, weng, aveda, finn, emin, gb, mach, arden, zakupy, gondar, games, swiss, norden, tree, leef, opasek, french, zawieszenie, anillo, acar, rzeźba, charger, victoria, gryf, walking, laweta, uziemienie, concrete, lsa, koła, 4483, barcelona, włókno, hs, marmara, kh, wake, biologiczny, czaszka, obci, dune, domieszka, rl, sd, wiklinowy, twists, thrill, symbo, yuzu, amg, nagrobek, venus, kge, lotto, bela, paint, go, ładowarka, mgu, johnson's, oświe, koala, analny, jumbo, jasn, ciemnoturkusowy, small, smooth, produkcji, dysza, uvc, tutaj, riva, olza, sk, wentylacyjny, przeciwbólowy, fep, wyzwalacz, msi, korona, niemiecki, duo, edelstahl, ży, ostrzegawczy, speckles, smart, oczyszczacz, boomer, złomek, minecraft, hair, fraud, stones, khol, gp, svengali, bojowy, zumba, kennedy, acero, tdci, morellato, tlink, patmos, dione, super, wiesława, dome, mersin, indygo, przezrocz, pk, biesiadny, holder, osłonowy, archeolog, fp, śnież, urodzinowy, milano, numer, holland, brytyjs, złoto, titan, exclusive, derval, toast, 0, korpus, doo, hip, napowietrzacza, axep, motocyklowy, wskaźnik, his, trzeba, śc, cushion, nabierka, alva, budka, spło, naukowy, toaletowa, manualnie, jednofunkcyjny, sombrero, dante, lili, agua, opóź, pomocnik, artero, valentino, ziel, wiertarski, cer, dunhill, wróbel, bts, hermosa, kenda, time, cristiano, jersey, gris, talia, dwupoziomowy, ralna, skye, diamond, hour, cupe, asortyment, beyonce, tesora, marble, avalon, vario, th, brudn, prostownik, luksusowy, trójkąt, vanilla, prince, climate, sobotta, fikus, ghost, cienki, read, our, kontakt, ch, lumix, emilly, gsr, druż, czysta, arrinera, color, krzyż, bąbelki, duty, italeri, kucharz, obrzeże, hq, tekstylny, proof, avila, zasieki, alph, xx, expert, kork, wyciągowy, kagawa, maybelline, pachira, multicolor, nauka, znikopis, wykrywacz, kalejdoskop, disney, willow, strój, regula, tata, antena, peppa, quick, illuminating, termiczny, extensa, kariera, silnikowy, polar, skrętny, nadgarstkowy, pielucha, squares, design, funkcja, fryzjerski, erg, kodak, 5172, sol, fontana, maltepe, marmurek, pastels, ska, chase, chindi, chrystusa, demolition, krystal, dna, aqva, maybel, lava, 2343, akademia, łamany, x, ck, flower, lima, wacusia, wilma, zwora, raver, aussie, baletnica, edland, yka, abc, he, barmański, jeszcze, wrf, efekt, tester, hercules, pus, futerkowy, rinascimento, kompletny, dzwonek, bananowy, knock, tol, wzór, sfx, market, radiowo, who, subwoofer, cubot, united, cynk, marina, stranger, crazy, cosmos, korektor, czółko, exeo, chester, układanka, pierwsze, kolorowanka, er, grecki, dziennik, battuta, grube, transmisja, olejek, wodn, charge, światła, jacuzzi, floral, rod, głośnik, falk, zing, bląd, wash, sw, rogowe, kleofas, tajemniczy, ręc, wewnętrzny, dynamometryczny, linea, direction, makassar, namiotowy, szk, ndz, dual, metalik, monroe, ciemnobrązo, wdu, sześci, aa, fbi, beczkowóz, blu, music, franek, blossom, naszywka, ładowność, satin, illusion, warrior, symulator, silikonowy, pojedynczy, idc, berry, kontaktowy, kapitański, pałac, paulo, mackiewicz, pu, samochów, alhambra, przymiar, wosk, jt, plafoniera, ide, sztuczny, ace, kuracja, kawowy, 2152, impulsive, telephone, liskie, startowy, pido, rack, poziomy, żelazko, aag, hawk, nouveau, jewel, kwiatowy, otwieracz, długość, przednie, kobiecy, twi, pepco, 8160, żywność, maszynka, emil, calze, flash, ni, swobodny, zamienny, looping, for, trójramienny, wa, wage, odlew, po, lola, rockstar, night, bas, catan, impact, fotoelektryczny, dc, matrioszka, zaburtowy, kółka, trenażer, komin, senior, odstraszający, srebro, silvi, gs, constanza, marii, fre, hiacynt, moc, skala, longboard, step, pierwsza, krót, bilardowy, hd, pawilon, syrenka, pułap, senja, raptor, eclat, coupe, igłowy, czujka, thane, drewnia, emulsja, bassania, tacz, obracany, lustro, żołąd, logico, wkladka, aleksandra, meadow, ufo, towarzyski, zwierny, clubhouse, tropez, terre, venue, tapicer, cie, ats, bimetal, batman, olbrzymi, hv, zasię, cirkel, capello, meriva, watches, terenowy, prostoką, screen, słodkości, blond, xmp, academy, rsx, grati, eiffela, frieda, oli, zug, encyklopedia, malos, high, brodzik, adrenaline, wysokość, mut, pavilion, pica, culotte, klip, parasolka, faberge, noa, plant, heavy, ferm, pomarań, lcp, mgiełka, little, analyse, punkto, tupcio, celandine, titanic, bioluminescencyjny, dvd, tunel, ornatus, plastelina, care, dyby, guma, tworzywo, marvo, taczki, pilch, fucino, erebus, economy, szpryca, florida, stworek, nadmiarowy, intercom, kauczuk, udf, humi, must, ukła, westport, sterujący, wh, xtra, przekaź, dp, wod, kai, compressor, robion, romantic, tristar, nel, antoś, neceser, kołyska, prl, wreath, otto, pond's, jednokanałowy, vitrum, ruchomy, rozrusznik, puma, wietrzny, żart, piórka, micallef, morski, szopka, dubaj, soviet, upadek, uplifted, sansewieria, hummels, keer, parnik, ah, vaio, 6004, cegła, kolce, załączać, wyso, hampton, poni, oporowy, wodery, praktyczny, suszarka, senia, cutlery, spray, stolarski, para, mer, tusz, zawora, delco, npm, niedzwiedź, taczka, vit, miotła, szwajcarski, push, sprężyna, siateczka, ślizgowy, nimh, bliscy, 9357, szlache, dolomit, ręcznie, moda, nano, diesel, sabinas, allure, figl, drogowe, pojedyn, odpady, mugler, surat, stonic, buda, 8512, ciepło, lakierniczy, doubles, button, oświetlenie, poli, hone, szen, desktop, muchomorek, biala, bath, liliana, fitness, loong, zakład, molde, 6877, masa, roue, wajnert, storz, brigitt, ham, erekcyjny, elektroniczny, szkolny, aluminio, rattanowy, termofor, segera, nubi, gniazdko, wodoszczelny, promocja, aire, vamo, częściowy, city, klaps, philips, geographical, gaz, varia, bateryjny, corf, dark, obr, tools, akcesorii, świ, data, nie, wstążka, espanol, vernis, pożarowy, rainbow, książka, konst, aaliyah, land, relaxed, alecto, piłkarzyki, typ, collie, kelud, błysk, trejaż, ce, oś, pnącz, cztery, trampolina, jelly, kuma, pias, humorki, taky, taśma, nonius, intensifier, yoda, ruiny, zimny, magnes, sztywny, bowl, ściółka, vader, kolorystycznie, obrotow, carotina, discman, balansowy, guardians, fugl, myphone, aloe, lord, energetyczny, kiwi, manuela, dodatki, arkada, kieliszk, śnieżynka, szczyt, aksam, sto, bde, pajamas, vesa, zaklęcie, taca, padma, dsr, mort, syma, pare, inspekt, deszczomierz, santorini, miejski, rescue, morning, boo, roomba, mikrofonowy, hufflepuff, krawęd, kuchenny, tbs, refleksyjny, neonowy, maska, ssący, europa, bieżnia, fitnes, forix, mos, american, odzys, lekko, vest, abrams, concordia, americano, zolty, twarz, mapa, 4476, polka, saneczkowy, 3320, uno, egger, trapezowy, geometria, front, promo, elementowy, alisa, zwi, dymny, challenger, kwartet, sześciokąt, freeze, guard, christmas, samochodowy, bk, ziołowa, helmand, bakteryjny, siedzący, trefl, bariera, półk, prawo, maskotka, instant, qi, junip, sze, bc, frosted, powershot, pores, centrum, regu, abs, karaoke, doniczkowy, it, epson, gilotyna, klak, hauschka, dance, gah, obwódka, long, ratanowy, piasek, ście, bec, cocoon, piżmo, miejsce, español, dandy, blat, jednorożec, straight, ceram, soho, abundance, napięcia, zc, xxxl, inglesina, swan, kma, boys, rb, nieprzy, fitou, flowe, samowiertny, monta, komi, daszek, alfabet, patera, kajal, mega, invisible, spun, mozai, dymiony, autun, subway, śpiworek, sai, galaxy, 6019, hiko, cardin, cartoon, desigual, outward, peekaboo, reklama, award, klej, delfin, kij, hills, kremow, whitewater, mebel, skoda, wkład, cubby, poalkoholowy, domino, faston, plastikow, picchu, basket, tink, rf, wokół, concertina, przedmiotowy, matik, dźw, biał, osuszacz, drd, tigris, krzywkowy, rme, alto, atike, wąs, descendants, lampion, wwii, poe, bee, francuz, nożycowy, jab, salsa, viper, luxa, italia, btk, węgiel, splot, roalda, tradycyjny, ropa, pastello, harmony, pasyjny, mallal, induktion, rzutki, serwetnik, żwir, nalewajko, flexi, gleboki, retina, tekstowy, simena, trak, wypoczynkowy, apex, schwar, porcelanowy, ogr, chrupcio, mlt, lona, biurkowy, utp, ramka, trolley, tl, kostka, wersja, transparentny, kirikkale, ziemny, gigantyczny, terrakota, cartier, oko, coffe, fine, pleun, rzymu, elvenes, braun, euka, marker, rozdzielczy, premier, moździerz, młot, mih, mikołaj, pływacki, metaliczny, dakota, speed, taś, boczny, konwencjonalny, lk, glukometr, sokowirówka, stand, typhoon, java, passia, globe, próbnik, kubuś, drewn, coverage, miniony, ciastolina, który, fly, sexy, poler, dwukierunkowy, cykliniarka, wędzarnia, lureks, delano, lund, gazowy, ptaszarnia, 9085, trzcinowy, wazon, lekarski, orion, uniwersalny, juruena, ryba, osobówka, teint, comics, garderoba, brązow, layer, aktywator, tor, ptak, elephant, pierścień, vrla, infrared, ydy, sherpa, gun, metalow, karma, fus, +, profes, bloczkowy, motorek, pioneer, 2362, trophy, pumper, jednorozec, preparat, rubik, przeciągarka, opływowy, plakat, materi, beykoz, cęgowy, czytanie, plancha, deodorant, draveil, xxt, bdc, chanson, brother, lucan, zdarzenie, avo, ceramicz, force, phot, ypsilon, rochas, sv, lucerne, obrotnica, grabki, quality, zółty, śmiet, śnieżny, grubość, przekł, national, darcey, suwnicowa, xl, festival, car, kenya, a, prestige, malarz, rsi, zuzia, ośmiorniczka, druga, za, mattes, obustronnie, spalarka, dhl, wfl, kapturek, sen, plug, srebnym, terracotta, rotin, ozdoba, itr, borgio, lewostronny, kolorz, ramy, transportowy, gavi, warm, patrol, cx, technic, król, dolman, felicita, witryna, dziadek, vudu, ręke, total, rossa, sianko, extreme, pokarm, beaut, garbino, tablice, rav, wewnętr, izolacja, umbra, lumo, cush, oprawa, bolton, revolution, climber, elverum, podbródek, ses, zbiornik, set, dre, platinum, sven, master, stetoskop, motor, fryzjer, uprząż, gart, gardena, stream, grafitto, dr, plume, hardshell, drapak, nexus, naprawczy, wyświe, fruit, jut, afk, rozmi, rail, 4039, safari, cologne, stare, sport, pufa, salerno, glebowy, struga, sowa, narzędzie, stop, sta, pini, trim, przepięciowy, cone, repetytorium, dragons, wpc, kurnik, wodny, schodowy, guam, dixie, gaśnica, pcs, zz, zblocze, powrót, dookoła, sonata, zao, animals, heart, hon, harp, jovan, ber, bedding, pocztówkowy, loreal, xy, yorkshire, transp, popiela, samba, fils, allergy, item, bristol, anti, yakima, nyc, pluszowy, triceratops, marchowski, 5325, wolno, velvet, nimes, żwirek, arsenal, stockholm, steper, dritto, wies, jam, ea, fso, miedziany, krokodylek, rożek, hilfiger, poser, noma, czasowy, 6136, toilet, warsztatowy, house, studium, banha, trend, kaśka, cygaro, lszh, wot, fischer, kciuk, gre, nieelektryczny, black, bumper, cwaniaczka, trwały, moro, rybaczki, kosmetyczka, sat, legends, vip, strefa, dcb, brut, powietr, pudełk, slime, sacco, siste, times, garbo, przyjęcie, swoje, corky, ab, miłosny, materiałow, eye, plafon, balestra, 6150, marcela, cwc, tid, ukł, fire, kopyto, vejle, si, aroa, celownik, amiata, azalea, kulki, zega, agenda, fargo, rein, saloon, podłogowy, deca, robio, odpoczynek, shuffle, lorus, ele, tampax, teleskop, watermelon, pierwszy, sinicka, ty, klastra, strzykawka, masażer, cavan, naścienny, ak, subaru, prism, burgun, hex, disco, blacha, tańcząca, resin, aut, elem, niespodzianka, lorica, ay, bily, strug, opio, galwan, sain, memory, napkin, przymiotnik, opera, bistabilny, rumble, clovis, rowerowy, up, sawanna, wężyk, kieszeniowy, zółta, spodek, vidaxl, coach, bajkowy, dortmund, antique, multimedia, muzzle, shopper, listonoszka, piwonia, inez, gol, pług, tonia, eclipse, piórnik, biuro, youngtimer, zsg, wish, star, przytulanka, potrójny, podręcznik, fraiche, pojedyncz, sev, chewbacca, kubb, panna, agueda, spf, między, śmiertelna, łakomczuszek, liczby, gratis, blush, sztucców, poo, magnetic, kalendarium, cozy, bizak, kula, sapphire, rodzina, meramec, grochy, twist, udźwig, żaba, gray, excellent, zło, patyna, ribbon, monstera, złam, bellmann, łamana, wyjściowy, klucz, orchidea, mop, press, lil, tapas, tripod, zigzag, szczerbatek, nocnik, runa, japoński, cinch, kilim, nowe, sr, nier, wide, devil, zaokrą, cętki, kinowy, heritage, robot, szczoteczka, piwny, atex, thalassa, ksz, chłodnica, ambiance, józef, slam, boombox, złoty, toroidalny, mosaic, roc, sym, fiesta, ex, samo, gastronomiczny, wicker, with, wsn, oprawki, dildo, marvel, acer, korka, zagroda, łatwy, kateg, benzynowy, winylowy, travel, pia, studia, środek, bot, caviar, fold, yule, punktowy, kuchenne, hest, biblia, bandyta, yasuni, odkrywca, emas, pnp, głośno, furla, low, cambell, camil, ostrzałka, golfowy, slm, rocky, hi, tewo, roxen, biax, wok, zie, terakota, regalik, dotykać, russian, zmierzchowy, spód, uled, wielopoziomowy, iroha, luneta, artykuły, szczotka, vlt, lectric, deco, kostki, doł, cars, sterowniczy, sklep, curso, purity, international, 7992, ledowy, urus, neon, wik, mama, combo, motylkowy, koralowiec, pacynka, antyczny, avallon, menu, regul, żyletkowy, kryształ, caffe, imadło, porcelana, dekor, testowy, ziemia, happy, roślinka, statecznik, kratkowy, 7456, kura, czarownica, jeans, chopard, wilanów, dług, murek, tan, mr, chopper, manicure, trójnóg, acapulco, montaż, zgniatarka, ironman, wielofunkcyjny, fria, fobos, betoniarka, six, programowalny, stroik, waga, clarins, skó, folly, kampera, nikiel, cięgnowy, instalacj, marsia, brą, tylny, maman, vademecum, slip, teka, kla, kół, duch, pcb, romeo, calmar, mikrofibra, schritte, odpowietrzacz, bialy, niemowlę, ból, cv, natynkowy, łamigłówka, biurowy, cancun, szybka, tylko, sander, sosn, ba, płachta, emoji, mul, #, laz, masters, bla, logo, hipster, camile, artica, walka, frisbee, hifi, orzecho, ip, brązowy, kwa, rbk, spin, girl, golf, vintage, modern, dii, sito, patio, today, lost, mazzini, spinjitzu, bingo, biegowy, tarwacka, everton, metryczny, napęd, nfc, swarovski, pressure, garażowy, młodzieżowy, evo, potega, spirala, monoblok, snake, przepływomierz, automatycznie, pie, srebr, kid, 5909, novato, refill, półmaska, orilla, airplane, english, spirit, andelle, bogart, tarka, sekwana, tanker, wallflower, nato, anza, scuro, panorama, honor, grzewczy, dell, kierunkowy, równoważny, dar, migowy, pani, sweet, mercury, maxy, ultimax, gallet, wideo, pamięci, kropki, orzec, płyta, próżniowy, grave, bio, fsc, daldis, czerwo, flamenco, rzutka, round, denim, picasso, mikro, gladkie, wbudo, garaż, rouge, eg, kordecki, płyt, ai, klick, odette, nail, plac, warkocz, przeciw, vega, szulc, montpellier, wylot, vici, kolanka, fergus, metropolis, obosieczny, estera, premium, obcinak, albatross, pętla, toefl, ogrzewacz, profil, grand, sklepowa, full, sisi, goods, lux, fleur, wycinak, łeb, royston, malabar, mugs, nowy, curl, nowość, pmr, brazylii, anturium, novus, rtv, dziecko, miró, pi, kalifornia, pde, szachy, dragon, dom, darts, finesse, sztaluga, shield, silly, negro, eaton, jedzenie, zg, wampirzyca, błyskawica, karo, kenzo, suzuki, dacia, oslo, recykling, las, kolor, tur, artykułe, ża, turntable, rise, pasażerski, elixa, bye, et, ligh, petit, sól, armored, kąpielowa, berret, converse, sosnowy, instalacyjny, ryżowy, cee, lunchbox, odpychacz, holenderski, paryż, trzyczęściowy, dolls, szacun, szc, two, sznurkowy, plasti, lyndon, antilope, pack, lovato, tito, ud, radiowy, różow, schlesser, obrócić, volume, lau, marynarka, wire, naive, toli, brama, chika, koniec, sklepik, sophia, basi, wielok, anzio, konsolowy, plażowy, fantasia, fresco, połaczeń, kwadratowy, wymienny, wygląd, tablica, system, hindus, sterowany, kadzidło, shar, loom, timer, kołowa, metalo, elementy, home, kości, dekoracyjny, nitownica, obiektyw, magsafe, skin, ss, chodzik, astor, esencia, secret, sunset, 4711, superb, suv, as, bambino, bois, coca, niebi, condor, niagara, widelcy, lhd, bez, łabędź, finish, dotykowy, zbiór, stabilny, dławnica, ronis, eu, santa, frame, wear, zakres, buttons, proszkowo, mindi, nić, brass, atomic, amarok, pulsomierz, space, wina, bergen, laboratorium, pulsoksymetr, mighty, cr, projekcyjny, action, kwadra, bb, ser, smarownica, storczyk, pik, junior, waza, fin, boom, cebo, amerykanka, hit, adidas, góra, żelazny, lovat, wiosło, formi, namiot, tahoe, księga, kablowy, żuraw, 9430, ochrona, rear, rosso, patronum, płyn, knit, lb, fluorescencyjny, asfora, małpa, trzypoziomowa, jasny, spiralny, tyria, 3022, żelazo, pneumatyczny, nica, remote, parka, science, ruff, miedzia, separator, bemar, spring, hasle, oprawny, armia, biust, bain, kluczyk, odblaskowy, prasa, steel, piramida, teleskopowy, shade, cyklonowy, cheri, pink, perth, klawiatu, z, luxury, express, creeper, moe, pendolino, agara, rider, jak, dębowy, aperta, teton, tulip, deere, spa, good, traktorek, piłkarski, renberg, gel, dino, standart, moss, tampa, całkowicie, okara, element, techno, plast, wallet, beter, latitude, catwalk, wenona, harlan, swim, nawrotny, pod, gusto, beckh, dcr, highspeed, copos, obiadowy, gabionowy, świąteczny, flaga, wykopaliska, spacerowy, myjka, kieszeń, football, ałbena, australian, handlowy, quattro, białko, solie, antler, donica, piatnik, tau, rózowy, siatka, botanika, pot, śpiący, petrae, agm, balerina, powietrze, vertical, engine, akcja, półprzewodnikowy, paciorki, geniusz, reprodukcja, tapicerka, wyprawa, 3736, casual, bentley, tron, ju, barierka, pokrycie, żywica, wió, comercial, play, elektromagnetyczny, wap, obrotowy, effect, nadr, żeliwny, cilento, odpylacz, etimat, szklarnia, dora, sculpture, modlitwa, california, szetlandzki, keter, beż, plum, krajobraz, src, krzes, inkubator, gniazdo, cage, miodowy, gwizdek, din, relax, welly, pamiętnik, motala, eau, colonia, pasta, balkonowy, młotkowy, syrena, klaus, pull, your, vdf, redline, sprinkler, kvi, dę, najazd, colorado, mikrofo, portret, defender, vanish, lit, twilight, łań, miłorząb, arvada, ott, rock, aquamarine, nożny, lekki, 5055, femidom, granie, pły, murcielago, uśmiechnięty, centenario, zurich, zabawkowy, szczyc, rozdzielnia, bambus, brasil, chef, eh, uliczny, wine, montblanc, vanderbilt, kojec, waffle, sportback, bug, prądowy, nosidełka, king, lorca, orkney, std, doskonały, perski, homa, wertykalny, płasko, mozaika, hop, skórza, touch, szeroki, massa, signature, swift, amiable, keys, transmisyjny, dymione, com, regal, cas, winna, wn, kasa, opa, fc, mallard, tekno, metall, synchronizator, rosaline, nickel, abizol, musone, wtykowy, euro, dolem, trymer, ielts, sogo, przesło, siano, lynx, łk, hisense, jc, joop, poroże, japan, dentystyczny, sfe, beef, de, factor, smiles, ciśnieniowy, zomer, konstrukcyjny, basic, ridder, pirat, creme, wo, tens, maple, avignon, eden, termowentylator, mała, olya, ło, trumps, mocca, evolution, zuw, obustronny, destylator, prosta, niebiesk, horror, bmi, di, sunny, międzyzdroje, grana, safe, vogar, nowoczesny, podczas, nd, panda, małżeństwo, sony, średniowieczny, mattel, rugby, erges, mojito, dzie, horse, błę, mz, shimmer, dln, szarobrązo, arm, oczyszczający, deluxe, villena, karuzela, myjnia, npn, fotograficzny, sed, pingwin, fiskars, klausberg, pate, zi, kszt, regulacja, famosa, szampański, mini, prawie, tuzla, korki, jamara, prysznic, smrodek, skibob, ciało, żeński, fructis, lighthouses, panty, ghd, desert, kanan, fabryka, grip, przepust, platformowy, uzytkowania, pyrex, ideal, things, internacional, kkl, kreślarski, pudrowy, ściernica, transparent, cristal, futuna, rekl, popielniczka, trix, roll, fohr, abaka, 0840, eight, piktogram, klubowy, tunn, jajo, motyli, sibilla, aplikacja, mandala, odzysk, stk, mhl, sklepowy, catani, rzym, ciemnos, piękne, veet, warnik, tamira, wojskowy, jas, sztu, lonsdale, 5741, rekawice, świetlny, klap, crop, tld, osi, adjust, sortownik, zig, serum, stress, hobby, przedłużenie, lub, widłowy, peperomia, ubijak, cyklon, brzeg, lepik, axer, indra, mechaniczny, dzienny, wyprzedaż, drozd, opryskiwacz, nutrix, objętość, korkociąg, ultime, diva, lisbon, pur, olej, zawiesie, berlinger, szkl, prz, cinema, ecran, magia, fundament, cruze, or, 6664, lusterko, jadalniany, pomoc, zoom, speck, potter, tanga, unifi, online, buźka, aaa, zcl, rcr, talla, farba, riz, sentia, słuchawka, dzień, robota, moller, lamb, out, fuel, melanżowy, rodzinny, kayan, stone, nasadowy, coconut, spongebob, sled, śnieg, piotruś, karre, delice, leśny, ski, grubo, valencia, harmonijkowy, mój, oc, chevron, nad, dzielić, hotel, położeniowy, taupe, test, beżo, prime, royalty, naklejka, odpływ, korek, tkn, intensywnie, blanc, frescas, industrial, ubbink, visionnaire, men, underwater, turystyczny, kasai, seria, powiększenie, compak, mcqueen, słodki, naturaln, optyka, 0046, agatha, uziom, skuwacz, berberyjski, leopard, fuks, creative, ręczny, shine, przebranie, coronet, skimmer, ariel, hantel, samoa, polonez, pozycja, ceramika, splitter, strelicja, nysa, modułowy, rolly, classics, muszla, cedar, adventure, osłona, państwo, arrie, act, krzyżowe, mona, wałek, besson, co, athabasca, size, ottoman, okap, trucks, anton, epic, triangles, fb, wtrysk, avon, octa, seahawks, pic, romantyzm, solo, kon, kastet, zaci, longford, san, kuga, relaksacyjny, rustykalny, vai, sealskin, clean, da, puzzle, ślizg, dental, orco, sgn, benzyna, drzwiowy, so, dinora, digitus, induk, puch, szero, opcja, przeciwprzepięciowy, wps, chelsea, rynienka, initia, brulee, noco, zoomer, naval, osiowy, balon, piknikowy, profesjonalny, długośc, stirrup, wm, basenik, mug, antystresowy, torreador, daga, otg, kó, path, skarbonka, szaniec, turbo, ko, rolki, kasaan, 8751, pendrive, saxon, końcówka, odstraszacz, larp, german, kolumnowy, księżniczka, zapasowy, strzelnica, modesto, electro, gazela, mokro, tobacco, beuer, mause, denny, demre, mlecznik, pax, kość, after, shockwave, savannah, maxi, udv, hebbe, wars, lodziarnia, folio, melchior, santoku, abbey, ronaldo, redke, klosters, dobble, wią, ehz, gniotek, gofrownica, angielski, organizer, toy, junio, barbados, telefon, nc, pla, blaszka, szal, shabby, balsam, ergo, freestyle, sensodyne, cubo, brushed, samoopalający, kładka, kompas, pedicure, odśnieżarka, madison, clip, dekolt, kabina, sgr, stapler, yenice, carat, shiseido, flex, mofe, monix, pz, vesta, samocentrujący, android, milky, volta, uszcz, twar, pau, zoo, pratchett, mleczko, ngs, budowie, wtyczkowy, corda, markiza, tandem, padzik, malarski, singers, psi, jalna, reset, teak, nurse, brs, bastien, rozmiar, siekacz, biznesowy, mikrofon, aberdeen, ramowy, odważnik, kaspersky, del, hmi, re, motion, pł, store, karty, pas, ogrodzeniowy, harrington, sata, młoteczek, zaparzacz, clear, sunred, barocco, cerruti, agrowłóknina, riby, swd, sado, mesa, board, czuczu, włók, bamboo, blocki, wzor, marine, zanna, rs, mikrowłókno, przenośny, gwin, dahla, hm, froya, terrier, sdr, gryzak, miedź, świnka, gazebo, pojemność, world, brit, drobn, ozdobny, klikowy, juliusz, benzynow, akumulatorowy, zimne, strike, cu, antracyt, ben, multipack, flop, spritz, pomara, cubism, lizak, gąsienica, leggins, poseidon, gadget, eleme, pionowy, bergner, 00, satellite, coral, playmobil, dolc, gitara, kopd, nm, szumówka, berg, ciepł, oczkam, pak, haus, wróbli, aler, lets, spaniel, montessori, preci, axos, room, sunflowers, femme, cukiernia, haute, wło, gokart, enano, emc, miedzina, silent, etawah, marmur, 8485, gazetnik, szkocji, evi, century, przemiana, rozgał, brykieciarka, eurostar, equalizer, lavel, bourdon, tobol, choinka, fusion, divano, lewa, maja, matera, elektryczny, poprzeczka, kur, outdoor, rama, fhd, secesja, conn, ślusarski, wiadukt, socket, wewnątrz, przyrzad, miernik, klatka, rangers, vaco, pearl, tuff, print, ibiza, sufitowy, carrera, w, wytresować, pojedyńczy, nuty, powiększacz, vital, vag, kompendium, yellow, future, ver, sos, średni, navy, taku, świat, kwe, seconds, besni, mah, jenga, avengers, tagus, przetł, ruch, www, side, bebo, plain, marmo, davidoff, plantator, aura, szczeb, antracytowy, shape, moduł, -, lpo, internet, dwa, oxie, 2762, polarny, głowa, amdo, marlies, mę, serwis, alumi, brazos, duzy, pomieszczenie, florac, legowisko, przeciwzmarszczkowy, roma, bow, stały, new, sprint, zimno, perel, verino, jura, mississippi, zapa, sportowy, peru, save, kontra, zasuwa, kabru, książeczka, dsc, ter, pol, podbierak, zdjęcia, strumieniowy, modul, chica, castle, ledowe, maroko, płynny, zaciskacz, eliptyczny, kalia, energy, canvas, bronzer, edition, toys, viga, the, syntetyc, deal, platyna, arctic, żo, sensai, brązo, rozgałęziacz, borsa, zeytin, przemysłowy, muszelka, bellary, modiano, ve, rzutek, visco, kamai, do, raster, brush, cera, żabka, scoop, trzy, banderas, deszczownica, ocynk, rp, silver, powięziowy, norway, stav, obrzeża, grzebień, stójka, odl, kominkowy, brekke, ewaporacyjny, danca, okienko, pędzel, moulinex, drylownica, armour, mówić, wykrojnik, pralka, catrin, global, nihoa, nutra, aerator, starz, czar, podstawa, aparacik, zwieracz, bóg, mamba, oktoberfest, bay, click, shot, różany, cheetah, die, podstawowy, freelandera, ściągaczka, infinity, kątomierz, 8001, 6546, wyjątkowo, ., siodełko, maxell, pistolet, dreamhouse, naświetlacz, zielo, omega, bon, poziomowy, dzwonka, choppy, meow, scooby, pół, edp, różdżka, mccartney, ekologiczny, barbecue, dyspenser, nośnik, owczarka, przejściowy, patchworkowy, li, elie, dź, hummingbird, autko, cinnamon, thermic, lemiesz, short, mars, działanie, szkla, true, sensuous, taurus, vie, pendik, esla, ustawa, treningowy, elegancki, bvlgari, leżaczek, president, stp, ho, szkł, riki, elektronicznie, policyjny, juju, aktywny, psm, basen, grigio, integro, ups, medi, odbłyśnik, jor, pillow, arrow, scents, cien, hook, pomadka, koralowy, silence, potraw, podróżniczka, perłowy, pwn, rodes, zegar, lta, en, nieśmiały, studio, ferragamo, zes, staroleśniański, wieszakowy, nożycz, wiko, gruszka, liście, szo, biodrowy, litr, ogłowie, łopatka, cynamonowy, kryty, vampirina, mdf, soft, czysty, jednoczęściowy, krzyżowy, bezbarwny, niemiec, bor, fendt, kobaltowy, nci, hellgrau, madrid, wielki, belfast, westminster, md, ratta, osad, rodzje, lotos, lustrzany, center, ś, uds, balloons, blon, ra, esg, kpl, przelotowy, tap, napoles, eyeliner, kołko, stykowy, adult, barrette, osłonka, nó, ceramiczny, bw, lightning, wassily, wyścigi, scania, rohtak, wall, manualn, samoc, pociągnięcie, kreatywny, everlast, crm, materiały, *, forres, gustav, british, fashionistas, bmx, jurassic, bo, decosta, foam, foka, odzy, narodzenie, manche, ole, niezbędnik, damage, hussarya, pony, spawalniczy, sensoryczny, spłowiały, tworzenie, pilot, media, dzielny, normaln, clothesline, magic, góry, zeszyt, owieczka, amazonia, podróżny, świa, koliber, cysterna, filtr, transformers, owa, lokówka, mhz, teleinformatyczny, grzbietnica, szeni, kobieta, domofonowy, rivie, liquid, trzepaczka, woodrow, axe, kosmetyczny, life, pan, pozi, 0546, boeing, gc, więzienie, zesta, ivar, sam, par, kross, epr, hildegardą, zamiatarka, diii, dinotrux, zws, hlx, plus, kassel, norweski, sl, wibracyjny, pułapka, starter, elementó, uszko, nosek, wałka, lity, advance, boy, ekipa, replika, drabik, budowlany, penguin, cacharel, berino, nerine, stacjonarny, rewolwer, szafirow, mafia, polaris, dębo, przedłużka, siatk, sizalowy, pagaj, es, chisa, amsterdam, confetti, brownie, bramka, narciarz, kaczka, bezbolesny, wl, blokada, barowy, łańcuchowa, paw, zanki, matematyka, appetito, ubijaczka, przyciskowy, narli, on, excellen, 5550, livo, lattes, sylt, koa, zielon, beige, trylogia, kto, connect, swing, explorer, mana, perkusja, gti, wykończony, koloryzacja, dragonfly, varon, mavala, mirror, miod, density, muddler, inteligentny, safety, alkaline, pachołek, młynek, ż, noc, basenowy, sztachetowy, szalony, edisona, rules, mebl, yato, zimowy, beverly, szyfr, dekorator, pierścieniowy, centralka, mauritius, trawnik, niwelator, album, scheppach, les, elektrostymulator, adamów, nida, made, gig, multimedialny, dect, railway, sword, rpm, ring, wysokoś, islan, len, bokserski, interaktywny, giant, algon, flor, blau, parfum, akustyczny, rhine, struck, ognioodporny, kolekcja, magnetyczny, klimt, licznik, oraz, collage, tech, mit, jukka, yoko, sztuczn, wtyk, oparcie, mp, fioletow, darsa, pra, zewnątrz, etoile, delfina, tp, młynarka, piuma, sikar, künstlichen, nks, londynu, beers, neoprenowy, relaksujący, opiekuńczy, corby, tm, gniazdowy, intex, otwarty, sza, ceco, kierownica, ćwiczenia, kitties, zea, helmo, zenera, tip, sterujacych, el, cicho, catia, derma, pielęgnacja, redukcja, obraz, kli, zgrzewarka, defort, u, zapas, kamińskiego, rozk, śniadaniowy, amp, hiszpanii, baht, czerowny, glee, scholl, plasticine, tub, rozciągliwy, ela, orzechowy, przyczepka, automat, bush, matyldo, zawies, pakiet, kręgle, sprawdzian, jaskinia, goa, bambusowy, cza, papier, gwint, kit, moleskine, lucea, abra, pdr, vacuum, jungle, budowniczy, aspire, antr, living, sieć, jasnosz, bop, body, minion, kw, przycinarka, zagłówka, meat, sb, graficzny, strazak, kubus, winyl, wrangler, rozmia, narzędziowy, bater, rowerzysta, cale, chenab, deko, rowerzystka, priorytetowy, penti, malowa, przyczep, corsica, nera, biedronka, purple, przegubowy, slv, krosowy, colmar, curve, campo, fs, larrau, adalar, jasnobrą, muret, oversize, kamerdyner, dystrybucyjny, jednostka, bistro, monopoly, rimmel, hss, cla, spacerówka, karaman, lunch, redken, ep, kostkarka, klepsydra, węglo, szyb, artdeco, melody, venza, terminarzyk, tablicowy, stretch, north, wywrotka, valetta, fungo, adi, vienna, taryfowy, wiggy, schodkowy, sakura, nijdam, terminator, gaming, maszyna, granato, bowling, udry, szybkowar, motyw, tenue, dwustronny, miękki, polish, plecakowy, troop, reprezentacja, kulka, start, apolima, rubber, octavia, droga, lady, tower, podróż, pfc, caterpillar, revell, splendor, piz, face, meteor, tetris, thomson, dworcowy, conway, qbik, dźwi, dodatek, łatwo, interfejsowy, iso, agility, pila, luna, żołnierz, addo, skóra, bit, pens, miniaturowy, włoch, cotton, tg, sztucz, broadway, asli, wstępny, dia, praska, zabezpieczenie, women, scandi, szkoł, gramofon, żniwiarz, zmysłowy, tempera, perk, staw, spliter, fcr, indygowy, estee, sosnow, classic, plandeka, rabanne, marseillais, część, figura, tonujący, cazas, oem, nilo, antenowy, delicious, pet, professionnel, 666, masaż, prezza, tło, podłoże, bule, wolverine, niedzwiedz, malibu, kapt, vitality, kraków, szuf, ścisk, oprawka, zużyty, kicia, tfs, grafi, zac, supreme, mouse, koloro, gladiator, efd, floby, pqi, piaskarka, wąski, przybornik, exp, płaszczyk, cola, buko, oil, wis, singer, domek, model, cottage, świeżość, pir, hansen, kark, zdjęcie, gwiazda, kraina, chill, lightbox, pig, ogrodzenie, fashion, is, kobra, ratt, standard, lumi, fi, zapach, masarski, lanark, schneider, university, odplamiacz, terrain, runebound, sand, hantle, kangurek, koncepcja, roślina, kowbojka, kwadrato, churros, blanca, taker, metal, wklad, bus, simplet, drapieżny, ese, bruder, miraculous, paras, piaskownica, latex, spain, fmd, kn, candle, zagłówek, mecz, gwinner, colt, brav, common, foto, ke, neptun, luau, adler, konwekcyjny, pielęgniarka, lock, oval, bdf, slide, częś, tall, solberg, bezpiecznikowy, kopertówka, troczek, bezna, tr, nos, ostrzowego, kształt, midyat, stopa, borussia, styk, hiszpanka, jumanji, jedno, cał, email, colle, lego, palma, lacoste, elmers, cyfrowy, tom, książkowy, obo, łakocie, welcome, pfeife, kuchenna, furry, wi, devi, mleko, pełnowymiarowy, ready, deep, ad, ana, 8711, hailo, girlanda, quad, noga, pinega, manekin, veno, filmowy, szkocka, eli, suwmiarka, curver, queen, champion, costa, dima, puchatek, siodełkowy, bulldog, globusu, biblioteczka, pajama, chińczyk, bordeaux, podpora, hdpe, wolny, casino, wr, ug, płetwa, viento, mate, ek, simatic, anken, severo, kau, port, ir, chiron, stojący, buggs, brazylijski, wymiar, pomocniczy, mata, panama, kawiarka, styling, savio, oin, mag, tabliczka, pszczółka, ekspozytor, polski, bokser, moonlight, aprilla, biznes, bodega, przeciwsłoneczny, cruiser, dun, arty, bi, stanisław, nottwil, dla, akcesoria, ping, biegówka, dolia, londyński, zest, palec, arv, sibel, cluster, vichy, darth, flow, termometr, sosnowe, western, 5375, czapla, rzeka, geowłóknina, licencja, kwia, stołowy, vida, derbe, nicea, bruno, stulecie, marcus, micco, forest, osis, grande, stylowy, tex, sabatier, buzia, gladka, wmf, magazynowy, tramps, 2291, komorowy, kompaktowy, tibera, cabrillo, heliko, butapren, emerald, essential, silhouette, liniowy, bs, ips, prawostronny, jork, głębokość, nadziewarka, parafinowy, hiding, popiół, ronne, naturalny, sotavento, van, tracer, forward, płotek, moshi, pulse, miła, tak, onyx, ró, gas, ateny, cart, kosmita, imperial, resol, plaża, mannesmann, 2477, chesterfield, marrakesh, capri, prysznicowy, automatyczny, corfu, aksami, hula, mieszarka, metalic, stal, konstytucja, życie, stripes, cactus, wylewka, bristle, pta, tiger, szar, craft, chrysalis, gear, bsx, pidżamersi, vmf, refleks, lotnisko, ts, cabris, masywny, buldog, goodram, llama, słoma, actona, gwizdający, plaster, chłonny, royal, spar, 7020, historical, elysium, morty, mucha, pszczoła, adwentowy, metis, plas, tts, stelvio, floor, wonder, dove, verbatim, prędko, precyzyjny, pepa, podnapięciowy, scruffs, wiata, general, manchester, bottle, wraz, worxx, brzęczyk, średnica, passion, valery, rami, priam, fote, vaporetto, kąpiel, thames, ppm, egzamin, ecko, dart, 5701, korepetycje, gf, sucho, prosty, bezpieczn, lisek, owczarek, colour, dysk, lbs, switch, lni, miura, szybko, meizu, thermo, marmurkowy, surprise, ultrama, melanż, szpatułka, plan, gra, prze, piwowar, duż, łusk, wenko, packers, spuścizna, flaming, rózowe, depilator, bluszcz, lauder, ilm, trainer, balea, maseczka, ny, ballari, ziarno, pomar, przeźroczysty, sprzedawca, blue, emona, evolutive, czteroboczna, toss, extra, organizator, deszcz, chateau, budzik, spotlight, old, testament, uniseks, sodi, quarter, lillemor, propagator, kolory, 3252, wianek, tabletki, solid, crete, excellence, federal, le, impulsowy, samochodzik, rozdrabniacz, olay, bezwładnościowy, kaladium, ste, introligatorski, owoc, axella, klosz, bean, metallic, obl, krótki, jeden, nike, now, splash, cusset, portal, upl, stojaca, sre, oskar, szejk, billow, jumper, me, programowy, ein, esb, workforce, hartow, dicer, elastycz, solier, audio, mademoiselle, cca, ryga, epdm, fresca, thais, rous, sheesha, dziewczynka, 3841, 5338, roboczy, listwowy, madryt, roz, dynamics, um, wędkarski, pokojowy, connec, favorit, sunrise, nowa, italian, przyjemnie, chroma, jamaica, literka, matura, mały, 007, complex, miara, afro, bed, ponga, academic, from, zwijac, gabion, caddy, szkło, plaice, burano, alum, puchar, arte, xti, kolorowo, kamzík, gruby, sterowanie, tormes, boss, roses, mnich, cargo, country, schu, klapka, ciemno, corsa, princesses, półkowy, pistoletowy, hudson, paddling, ava, przedziałowy, hanger, hms, traserski, cob, powerbank, 6237, tma, polti, bbq, sztanga, enzymatyczny, demetria, tek, hurricane, 2752, giętarka, odżywka, tanks, ogniwo, yass, cyganeria, niania, sprężysty, damp, est, kolokazja, anglia, osłaniający, siemens, jasno, cashmere, floyd, pokrywka, makita, dnia, sot, %, pocket, pe, grapefruit, słoneczny, hortensja, lektor, dsp, turin, wezgłowie, roller, wycior, lixo, obsidian, ot, maskownica, cougar, alterna, opór, frykcja, dwuosobowy, przy, belize, despicable, kaczuszka, jamajka, agrotron, komplet, kolumna, petego, dirndl, saint, i, silnik, rabbits, steampunk, business, podwodne, shapers, ti, symetryczny, madera, futerko, maluch, gap, labi, oh, linia, hoker, desire, orlando, tu, helikopter, koziołek, czerwon, aquatic, dead, pieprz, electronic, rattan, gemo, luxe, profesionalna, wylęgarka, hoover, towering, orland, duplex, motyle, casa, gramatyka, pg, cockchafer, powłoka, cooling, antra, cyrkulator, higher, tpu, fuchsia, 4482, estrella, temperówka, trufel, ramienny, francuski, choco, składany, glowy, memo, drużyna, paka, barometr, orient, transformer, dewalt, węglowy, przeg, calypso, mechanizm, amely, teal, ghz, esh, młotowiertarka, rayen, lancaster, uur, premiere, poręcz, kran, pattern, yang, brüder, kokomo, chromow, rewersyjny, chłopięcy, |, seri, gamezone, musk, works, ściemniacz, steffi, słownik, światłowodowy, darken, halloween, regulowa, kosmonauta, piasko, dach, szerokość, jet, mvg, błękitn, brudny, ostrzowy, orzech, conga, about, mt, timberland, retro, wykonanie, azahar, rgb, szcz, shop, spinningowy, difenbachia, kodeks, czoł, dehydrator, fill, kieszen, hermet, shishi, bidet, płytki, fairy, 5044, huśtawka, marilyn, ten, komórkowy, diy, qt, paris, gipsowy, zszywacz, plemię, grm, dystrybutor, rą, parasol, merten, cuisine, seno, wejście, samopompujący, kse, zamek, eos, bannay, jade, ayurveda, materiał, wolnostojący, collection, tube, tmm, springs, dunlop, topper, samum, zdalnie, ice, vroom, akord, txm, twister, miracle, otw, magiczny, tir, glamour, ol, ia, napis, sh, nadprądowy, wymiennik, przelotka, sac, ballica, brubeck, 3060, dzwonkowy, zik, blaupunkt, cambridge, jbl, brc, dodatkow, czyszczenie, vari, krajacz, fontanna, otwor, konopny, tłuszcz, zepo, pamper, rus, zas, rubin, training, mila, ,, fleece, mask, ciepły, box, głębokości, masza, papuga, piana, chance, stalo, tytus, platforma, rolling, elbow, bbl, burberry, sela, warsztat, uhp, profibus, próg, bright, nastolatka, ludzie, villach, łącznik, woodland, trening, avaloru, guatemala, jabłko, atelier, edelweiss, mc, pa, soczewka, paprotka, nose, afrykański, pokr, lato, erma, naziemny, bia, valena, kaleido, rika, wsiąść, wra, zip, nakrycie, bermudy, 4060, code, bisset, declaration, dylan, analogowy, natura, papa, impresja, &, klasyczny, interwałowy, conic, zaba, lis, frozen, tefal, ażur, pamięć, stre, complete, miyaichi, piramidka, hound, dno, bet, shadow, etain, blaze, stardust, buggy, syfon, ed, nordic, easy, blackout, mozela, londyn, indukcyjny, jaskiniowiec, połączeniowy, pv, _, odkurzacz, żelowy, globo, punkt, wykończenie, przystawka, organki, pokrywa, samanta, światło, hb, blk, touche, alpina, friends, tekstylna, podkaszarka, planet, crn, tłuczek, rosalia, bosch, sztuk, cassis, crunch, drava, sqr, czołowy, lgo, flexx, hdp, baskerville, imago, bieżnik, rozruch, transporto, duke, inspiron, odz, zestaw, mustang, szpilki, gatta, imprezowy, nelli, line, cube, varens, broncos, issey, słonik, zeller, nuggets, tmd, nils, rotterda, vigo, zen, uw, tapicerski, esperanza, performance, young, 4340, kątowy, mleczny, you, holy, helly, iniemamocni, impreza, overture, tapeta, jobs, marvis, air, portable, palm, hydromasaż, mind, tugela, izolator, manen, serier, xs, ratunek, przybory, mówiący, butterfly, capi, laguna, trike, smarts, hoop, park, inspirowa, boat, ostrzowa, ryzyko, słuchawki, ga, farmer, batavia, ostrzarka, piracki, porywający, trolls, kanał, żaroodporny, mat, fox, delos, pin, ostrzegacz, przyłączeniowy, sublime, alkohol, częśc, redukcyjny, vels, ghostbusters, traktorka, kolaż, trwała, dębow, chodnik, rk, steamer, mobilny, kolejka, montino, hydra, cylinder, fighter, miarka, dismiss, grundig, intenso, przyszłość, zabawka, xtreme, amber, zwijacz, shukri, kb, hexi, hulajnoga, weiß, poidełko, fantome, shaving, rajd, lama, kenley, replay, długi, ultimate, dzierżoniów, unikat, zegarek, chus, cover, dlp, tavolo, poń, funkcyjny, ocet, animal, kwad, marmu, przejściówka, hokej, satel, kształ, twardy, nautica, piłeczka, ta, fluid, styl, sevilla, toja, łomża, cows, ras, zegarmistrzowski, wieniec, blast, deutsch, defi, wrocław, miu, aeg, paper, laska, rotan, chic, zwijak, opalarka, nerf, zapachowy, angel, pr, pzt, podg, lupa, sz, elipsa, škoda, gruntowy, bolla, wypełnienie, in, gaultier, wskaź, konopie, blac, quai, płach, wings, nominał, nutritive, agni, bubble, półhalka, dj, eugenia, labirynt, bakugan, akkaya, detox, cwp, su, aroma, broń, leś, elsag, erotyczny, galw, karabin, kosmos, benetton, patchwork, ognisty, uhd, stratos, clio, season, sunlight, 0021, carre, piankowy, angry, viola, fpm, princeza, wojna, samoczynny, stunt, hotelowy, wrc, arms, bap, loewe, diavolo, schl, key, bombka, pwm, piaskowy, ślubna, pc, universal, ściąga, nestor, rectangular, izolacyjny, chess, anika, cichy, artisan, dok, competition, bag, parkingowy, materiało, klipp, ochronny, digital, organiser, invictus, xtr, gx, szufelka, virginia, gęsty, match, exit, rhythm, float, comfort, split, saugor, modlitewnik, rumba, aarau, heuer, 4064, wysok, solarny, nawiedzony, bawe, prisma, graphite, merced, blackpool, skrzydłowy, taup, veggies, wpe, bl, alma, river, service, canon, muffinek, 0114, macho, view, drzewny, giarre, kalendarz, czekol, sf, żagiel, industrieller, soy, agar, łata, abercrombie, standardowy, toning, celestia, shu, ozcan, sokownik, pompka, cze, 7421, żel, wtyczka, powietrzny, drabinowy, twin, einhell, pods, pura, kamień, bal, masy, tamagotchi, kia, czarn, cobalt, recorder, znak, intensa, szatyn, floating, wella, walkie, weterynarz, zawias, dominik, polo, terakotowy, krańcowy, zraszacz, blok, conceal, pillar, spiderman, torx, czerw, zabudowa, srebrn, mare, glass, odtłuszczacz, dzi, edc, vancouver, candis, constelation, cleaner, pom, zawodowy, zewnętrzny, miluś, kwi, cornette, cora, syntetycz, nasuwka, tk, nocny, cukier, indian, lips, matte, wieża, rosa, pachnący, msf, sheesh, tt, abdo, przez, wiór, spice, spider, cywilny, seaford, orange, tsi, tottenham, brest, moza, medjugorie, sitko, trol, zeus, water, rz, mel, pojedy, steps, malo, węglik, buforowy, żeton, ó, dwustronnie, origin, cup, nakolannik, mocny, strażak, cit, diamanti, germania, sistem, jerzy, montażowy, bikes, kieł, pzpn, bęben, madras, orc, dama, myszka, spłuczka, router, kapadocją, nikon, wyzwanie, karnawałowy, nicaragua, cap, hub, bardotka, przezroczysty, meridian, dekoracja, wróżka, superman, zero, mutant, magazynowe, gimnazjalny, trigg, kaganiec, plu, wiśn, boots, forte, 4959, dwuwarstwowy, srebny, nu, magnum, 7280, wzorek, first, kinetyczny, dish, regenerujący, claas, klasa, brita, przeź, sup, odcisk, kolczasty, barbie, isla, winda, collec, af, man, riviera, biodynamiczny, plakietka, skagen, laboratorim, quantum, tiffany, has, armor, durex, tuba, ecco, paskowy, pcv, lentia, kanałowy, ścieg, vtv, wyciągacz, program, copper, anian, ustnik, pantene, nicaea, trzon, atri, 0802, fatimy, parę, podwójny, granatow, kołtuny, tigard, cani, gift, alfa, kompostownik, oak, raz, cp, albert, game, noir, tańczący, gg, kąpielowy, cepelia, emb, odzież, jolly, male, egg, akwarium, loft, mix, paszowy, komple, metoda, duct, team, ems, war, amazing, skd, wc, macbook, pisarz, nivea, marynarz, modelarski, okładka, uptown, nox, fant, pianinko, język, melodi, chodzący, emmy, kac, acp, mumia, dill, verk, slk, podręczna, refresher, best, pokuta, edt, rotacyjny, gn, flato, ogródek, programator, dwuramienny, taxi, gwoździarka, studyjny, original, ow, nw, radio, perforacja, leia, ambulans, zap, prior, odznaka, liczarka, wzrostowy, połysk, manteca, stout, dream, praski, ceramic, textil, kozi, winny, eq, maison, seahawk, liścmi, eleonore, profumo, wioślarz, rowenta, note, film, apollo, farma, wb, tygodniowy, piask, economic, lo, miniwieża, flat, twor, parat, camo, danube, mauve, żó, dk, bellies, biżuteria, poise, piggy, atlas, nat, liner, 5203, schleich, venture, blister, suprise, niebezpieczeństwo, halogen, pomiarowy, siempre, 7697, drogowy, dwuczęściowy, my, racines, busan, edukacyjny, tango, worker, truck, garland, polskie, posay, ja, patch, linijka, pajac, obcinacz, des, lites, ton, niski, kurczaczek, podkładka, nora, jaguar, beer, ciemnobeżowy, grimm, dźwiękowy, alize, ekali, pracownia, zwierząta, terminarz, visnes, telewizor, fast, azure, whirl, leta, łado, antyrama, tea, km, ethernetem, lumen, nasada, ist, deer, natu, wycieraczka, wzo, panelowy, mult, podstawek, gillette, podwó, tas, sheer, granada, śmieta, uczennica, szkaplerz, cat, golfista, litra, puro, magne, dyspozytor, venom, colon, diamentowy, santiago, protege, stadnina, składanie, lejek, navarino, uwp, advanced, ścienny, stacja, chi, derka, london, granat, kowboj, pranie, małe, paryża, byblos, ardent, pluszak, ochraniacz, wakuometr, wiatrak, zawieszka, nebulizator, kul, ultra, podwój, aromaterapeutyczny, volante, corona, tenga, mikser, xxl, kleszcze, 4077, walec, przekaznik, romb, toscani, sno, crossfit, klv, przed, oro, shaun, rocket, poly, acro, organy, ogniowy, magma, cemento, uap, nescafé, sezon, tytan, hoverbike, wiejski, ina, karmel, azur, weekend, róz, eris, bawełna, wełna, heroes, olympus, corolla, krówka, stamford, kopenhaga, sorter, nikos, palazzo, błotnik, nosidełko, absolwent, beanz, scarf, elastyczny, spina, spartan, dołownik, skandynawski, talkie, tera, filament, natryskowy, brentwood, przelew, shock, spot, narva, vr, stary, bumblebee, atramentowy, minutnik, lingerie, hellas, tete, passione, lexmark, kids, alarm, toto, zolta, wet, tb, leira, normalna, choo, amoled, nafta, wif, bra, aop, armatka, knp, tarraco, wielodrożny, 6674, spline, apteczka, obrot, case, recco, oznacznik, thapsus, google, bora, wdk, kratka, gorzelnik, heno, flirt, głębia, drewno, srebrny, brico, geforce, oxford, patynowy, przedni, triflora, koncentrat, viki, siesta, szeregowy, na, centralny, strzał, dekoracj, lumineuse, toulouse, karnisz, zamknięty, midi, karta, oxi, pinata, gimnastyczka, yokai, muroto, invicta, parkiet, iceberg, wyciąg, metz, lelo, kwadrat, ociekacz, mobile, flowers, pops, urlic, karan, świnoujście, transit, 3844, albi, million, strupek, sportage, fala, scir, beauty, bh, symb, antywirusowy, vorel, tzo, bank, bity, vista, snow, kallar, slow, policja, maybach, skyline, cc, mieszanka, rozsuwany, faces, udarowy, drabi, opaska, hermetyczny, arabski, real, zadaszenie, semira, eco, uv, pokemon, terraformacja, kąt, boutique, pdu, trojan, 4591, flannel, paisley, yas, rygiel, fender, wild, reling, pase, kredka, hima, kuba, party, hotspur, nadgarstek, feathers, rekawiczki, przybyłek, wycinarka, żaró, touring, away, herb, adore, millefiori, czapli, tornado, melange, moja, jednoręczny, cluedo, most, kompression, va, aviator, juicer, gi, latarka, core, zmiotka, kre, 3340, forma, allika, brick, lakier, silk, stopka, roku, varta, nośny, wkładka, djembe, unisex, turk, nawierzchniowy, irobot, kamera, hpl, opiekunka, poduszeczka, narożnik, innova, rio, bronze, klocki, pokojówka, stepper, podróżna, wgł, nourishing, dio, mbps, prot, bikini, bilard, mo, inox, kucyk, cloud, avra, ateca, krótkowłosy, żółt, meta, obrót, expecto, obs, wymiana, kolorow, masks, preety, woliera, rzutnik, bardzo, gigant, bird, schmitta, geographic, pieszyce, nasad, florance, hdr, island, boot, ewent, gl, mikrofala, jordan, obud, mwa, gold, alarmowy, circ, nature, base, annabell, jesienny, kulochwyt, drewnian, berker, fun, carbide, relief, protech, talisman, caps, jasne, wisteria, under, oczko, ange, creation, ysl, trama, lazurowy, wsporczy, rush, dulux, hand, wejść, hdd, dzieciecy, asx, ł, euk, teczowa, rg, ri, płótno, mal, lunel, powder, hns, aurelia, dziecięcy, lormont, olden, blacko, don, wierzyć, gsm, mudanya, duro, tmax, łapka, baken, goforce, łukowy, telewizyjny, szu, trąbka, hf, sailing, futura, east, lodówkowy, channay, umińska, drobne, baia, hyundai, trójdzielny, chłopiec, twig, rolka, pine, eluru, jawa, kojący, corps, ziros, landmann, ocean, makrama, esencial, wyścigowy, poduszk, lenja, hello, zawór, fabiola, jil, arabesque, gambling, kremo, hers, salemo, rca, speculum, duster, plastiko, damski, wyścig, trabant, pool, rózowa, się, pb, bryza, bamb, 911, supermarket, net, globus, mtn, mor, newcastle, gourmet, shaker, alien, bump, łazienkowy, pj, subito, head, continental, kontenerek, pezzo, tappo, soldier, układ, pomarańc, disneya, purp, aula, zapłon, mostek, czas, dinozaur, talk, millian, hugo, roche, schütte, figurka, dsw, malta, dymek, army, cardinal, elect, earth, meksykański, historia, spiralna, słomk, prostownica, sunless, presidio, adventures, święty, series, ic, impregnat, watch, (, dzbankowy, opaskowa, garden, bull, szkoła, \n"
     ]
    }
   ],
   "source": [
    "print_cluster(cluster2word[-1])"
   ]
  }
 ],
 "metadata": {
  "kernelspec": {
   "display_name": "Python 3",
   "language": "python",
   "name": "python3"
  },
  "language_info": {
   "codemirror_mode": {
    "name": "ipython",
    "version": 3
   },
   "file_extension": ".py",
   "mimetype": "text/x-python",
   "name": "python",
   "nbconvert_exporter": "python",
   "pygments_lexer": "ipython3",
   "version": "3.8.5"
  }
 },
 "nbformat": 4,
 "nbformat_minor": 4
}
