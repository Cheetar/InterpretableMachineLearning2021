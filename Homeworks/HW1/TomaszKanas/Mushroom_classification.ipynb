{
 "cells": [
  {
   "cell_type": "markdown",
   "metadata": {},
   "source": [
    "Solving mushroom classification problem from https://github.com/pbiecek/InterpretableMachineLearning2020/issues/5\n",
    "\n",
    "I will use logistic regression as model."
   ]
  },
  {
   "cell_type": "code",
   "execution_count": 53,
   "metadata": {},
   "outputs": [],
   "source": [
    "import numpy as np\n",
    "import pandas as pd\n",
    "from sklearn import preprocessing\n",
    "from sklearn.linear_model import LogisticRegression\n",
    "from sklearn.model_selection import train_test_split"
   ]
  },
  {
   "cell_type": "markdown",
   "metadata": {},
   "source": [
    "Load the data"
   ]
  },
  {
   "cell_type": "code",
   "execution_count": 54,
   "metadata": {},
   "outputs": [
    {
     "data": {
      "text/html": [
       "<div>\n",
       "<style scoped>\n",
       "    .dataframe tbody tr th:only-of-type {\n",
       "        vertical-align: middle;\n",
       "    }\n",
       "\n",
       "    .dataframe tbody tr th {\n",
       "        vertical-align: top;\n",
       "    }\n",
       "\n",
       "    .dataframe thead th {\n",
       "        text-align: right;\n",
       "    }\n",
       "</style>\n",
       "<table border=\"1\" class=\"dataframe\">\n",
       "  <thead>\n",
       "    <tr style=\"text-align: right;\">\n",
       "      <th></th>\n",
       "      <th>cap-shape</th>\n",
       "      <th>cap-surface</th>\n",
       "      <th>cap-color</th>\n",
       "      <th>bruises%3F</th>\n",
       "      <th>odor</th>\n",
       "      <th>gill-attachment</th>\n",
       "      <th>gill-spacing</th>\n",
       "      <th>gill-size</th>\n",
       "      <th>gill-color</th>\n",
       "      <th>stalk-shape</th>\n",
       "      <th>...</th>\n",
       "      <th>stalk-color-above-ring</th>\n",
       "      <th>stalk-color-below-ring</th>\n",
       "      <th>veil-type</th>\n",
       "      <th>veil-color</th>\n",
       "      <th>ring-number</th>\n",
       "      <th>ring-type</th>\n",
       "      <th>spore-print-color</th>\n",
       "      <th>population</th>\n",
       "      <th>habitat</th>\n",
       "      <th>class</th>\n",
       "    </tr>\n",
       "  </thead>\n",
       "  <tbody>\n",
       "    <tr>\n",
       "      <th>0</th>\n",
       "      <td>'x'</td>\n",
       "      <td>'s'</td>\n",
       "      <td>'n'</td>\n",
       "      <td>'t'</td>\n",
       "      <td>'p'</td>\n",
       "      <td>'f'</td>\n",
       "      <td>'c'</td>\n",
       "      <td>'n'</td>\n",
       "      <td>'k'</td>\n",
       "      <td>'e'</td>\n",
       "      <td>...</td>\n",
       "      <td>'w'</td>\n",
       "      <td>'w'</td>\n",
       "      <td>'p'</td>\n",
       "      <td>'w'</td>\n",
       "      <td>'o'</td>\n",
       "      <td>'p'</td>\n",
       "      <td>'k'</td>\n",
       "      <td>'s'</td>\n",
       "      <td>'u'</td>\n",
       "      <td>'p'</td>\n",
       "    </tr>\n",
       "    <tr>\n",
       "      <th>1</th>\n",
       "      <td>'x'</td>\n",
       "      <td>'s'</td>\n",
       "      <td>'y'</td>\n",
       "      <td>'t'</td>\n",
       "      <td>'a'</td>\n",
       "      <td>'f'</td>\n",
       "      <td>'c'</td>\n",
       "      <td>'b'</td>\n",
       "      <td>'k'</td>\n",
       "      <td>'e'</td>\n",
       "      <td>...</td>\n",
       "      <td>'w'</td>\n",
       "      <td>'w'</td>\n",
       "      <td>'p'</td>\n",
       "      <td>'w'</td>\n",
       "      <td>'o'</td>\n",
       "      <td>'p'</td>\n",
       "      <td>'n'</td>\n",
       "      <td>'n'</td>\n",
       "      <td>'g'</td>\n",
       "      <td>'e'</td>\n",
       "    </tr>\n",
       "    <tr>\n",
       "      <th>2</th>\n",
       "      <td>'b'</td>\n",
       "      <td>'s'</td>\n",
       "      <td>'w'</td>\n",
       "      <td>'t'</td>\n",
       "      <td>'l'</td>\n",
       "      <td>'f'</td>\n",
       "      <td>'c'</td>\n",
       "      <td>'b'</td>\n",
       "      <td>'n'</td>\n",
       "      <td>'e'</td>\n",
       "      <td>...</td>\n",
       "      <td>'w'</td>\n",
       "      <td>'w'</td>\n",
       "      <td>'p'</td>\n",
       "      <td>'w'</td>\n",
       "      <td>'o'</td>\n",
       "      <td>'p'</td>\n",
       "      <td>'n'</td>\n",
       "      <td>'n'</td>\n",
       "      <td>'m'</td>\n",
       "      <td>'e'</td>\n",
       "    </tr>\n",
       "    <tr>\n",
       "      <th>3</th>\n",
       "      <td>'x'</td>\n",
       "      <td>'y'</td>\n",
       "      <td>'w'</td>\n",
       "      <td>'t'</td>\n",
       "      <td>'p'</td>\n",
       "      <td>'f'</td>\n",
       "      <td>'c'</td>\n",
       "      <td>'n'</td>\n",
       "      <td>'n'</td>\n",
       "      <td>'e'</td>\n",
       "      <td>...</td>\n",
       "      <td>'w'</td>\n",
       "      <td>'w'</td>\n",
       "      <td>'p'</td>\n",
       "      <td>'w'</td>\n",
       "      <td>'o'</td>\n",
       "      <td>'p'</td>\n",
       "      <td>'k'</td>\n",
       "      <td>'s'</td>\n",
       "      <td>'u'</td>\n",
       "      <td>'p'</td>\n",
       "    </tr>\n",
       "    <tr>\n",
       "      <th>4</th>\n",
       "      <td>'x'</td>\n",
       "      <td>'s'</td>\n",
       "      <td>'g'</td>\n",
       "      <td>'f'</td>\n",
       "      <td>'n'</td>\n",
       "      <td>'f'</td>\n",
       "      <td>'w'</td>\n",
       "      <td>'b'</td>\n",
       "      <td>'k'</td>\n",
       "      <td>'t'</td>\n",
       "      <td>...</td>\n",
       "      <td>'w'</td>\n",
       "      <td>'w'</td>\n",
       "      <td>'p'</td>\n",
       "      <td>'w'</td>\n",
       "      <td>'o'</td>\n",
       "      <td>'e'</td>\n",
       "      <td>'n'</td>\n",
       "      <td>'a'</td>\n",
       "      <td>'g'</td>\n",
       "      <td>'e'</td>\n",
       "    </tr>\n",
       "  </tbody>\n",
       "</table>\n",
       "<p>5 rows × 23 columns</p>\n",
       "</div>"
      ],
      "text/plain": [
       "  cap-shape cap-surface cap-color bruises%3F odor gill-attachment  \\\n",
       "0       'x'         's'       'n'        't'  'p'             'f'   \n",
       "1       'x'         's'       'y'        't'  'a'             'f'   \n",
       "2       'b'         's'       'w'        't'  'l'             'f'   \n",
       "3       'x'         'y'       'w'        't'  'p'             'f'   \n",
       "4       'x'         's'       'g'        'f'  'n'             'f'   \n",
       "\n",
       "  gill-spacing gill-size gill-color stalk-shape  ... stalk-color-above-ring  \\\n",
       "0          'c'       'n'        'k'         'e'  ...                    'w'   \n",
       "1          'c'       'b'        'k'         'e'  ...                    'w'   \n",
       "2          'c'       'b'        'n'         'e'  ...                    'w'   \n",
       "3          'c'       'n'        'n'         'e'  ...                    'w'   \n",
       "4          'w'       'b'        'k'         't'  ...                    'w'   \n",
       "\n",
       "  stalk-color-below-ring veil-type veil-color ring-number ring-type  \\\n",
       "0                    'w'       'p'        'w'         'o'       'p'   \n",
       "1                    'w'       'p'        'w'         'o'       'p'   \n",
       "2                    'w'       'p'        'w'         'o'       'p'   \n",
       "3                    'w'       'p'        'w'         'o'       'p'   \n",
       "4                    'w'       'p'        'w'         'o'       'e'   \n",
       "\n",
       "  spore-print-color population habitat class  \n",
       "0               'k'        's'     'u'   'p'  \n",
       "1               'n'        'n'     'g'   'e'  \n",
       "2               'n'        'n'     'm'   'e'  \n",
       "3               'k'        's'     'u'   'p'  \n",
       "4               'n'        'a'     'g'   'e'  \n",
       "\n",
       "[5 rows x 23 columns]"
      ]
     },
     "execution_count": 54,
     "metadata": {},
     "output_type": "execute_result"
    }
   ],
   "source": [
    "data = pd.read_csv(\"dataset_24_mushroom.csv\")\n",
    "data.head()"
   ]
  },
  {
   "cell_type": "markdown",
   "metadata": {},
   "source": [
    "Target class is in column \"class\", \"p\" means poissonous, \"e\" means eatible. Let's preprocess the data: one-hot encode classes."
   ]
  },
  {
   "cell_type": "code",
   "execution_count": 55,
   "metadata": {},
   "outputs": [
    {
     "name": "stdout",
     "output_type": "stream",
     "text": [
      "(8124, 117)\n",
      "8124\n",
      "Eatable mushrooms: 4208\n"
     ]
    }
   ],
   "source": [
    "X = preprocessing.OneHotEncoder().fit_transform(data.drop(columns=[\"class\"]))\n",
    "y = [0 if v == \"'p'\" else 1 for v in data[\"class\"]]\n",
    "print(X.shape)\n",
    "print(len(y))\n",
    "print(\"Eatable mushrooms: %d\" % np.count_nonzero(y))"
   ]
  },
  {
   "cell_type": "markdown",
   "metadata": {},
   "source": [
    "Train and evaluate model"
   ]
  },
  {
   "cell_type": "code",
   "execution_count": 56,
   "metadata": {},
   "outputs": [
    {
     "name": "stdout",
     "output_type": "stream",
     "text": [
      "Accuracy: 1.000000\n",
      "[0 1 0 0 1 1 0 1 1 1]\n",
      "[0, 1, 0, 0, 1, 1, 0, 1, 1, 1]\n"
     ]
    }
   ],
   "source": [
    "X_train, X_test, y_train, y_test = train_test_split(X, y, test_size=0.2)\n",
    "classifier = LogisticRegression().fit(X_train, y_train)\n",
    "pred = classifier.predict(X_test)\n",
    "acc = np.mean(pred == y_test)\n",
    "print(\"Accuracy: %f\" % acc)\n",
    "print(pred[:10])\n",
    "print(y_test[:10])"
   ]
  },
  {
   "cell_type": "markdown",
   "metadata": {},
   "source": [
    "We have got perfect accuracy. It seems that this problem was easy."
   ]
  },
  {
   "cell_type": "code",
   "execution_count": null,
   "metadata": {},
   "outputs": [],
   "source": []
  }
 ],
 "metadata": {
  "kernelspec": {
   "display_name": "Python 3",
   "language": "python",
   "name": "python3"
  },
  "language_info": {
   "codemirror_mode": {
    "name": "ipython",
    "version": 3
   },
   "file_extension": ".py",
   "mimetype": "text/x-python",
   "name": "python",
   "nbconvert_exporter": "python",
   "pygments_lexer": "ipython3",
   "version": "3.9.1"
  }
 },
 "nbformat": 4,
 "nbformat_minor": 4
}
