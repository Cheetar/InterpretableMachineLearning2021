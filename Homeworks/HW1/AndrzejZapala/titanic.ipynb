{
 "cells": [
  {
   "cell_type": "code",
   "execution_count": 1,
   "metadata": {},
   "outputs": [],
   "source": [
    "import pandas as pd\n",
    "import numpy as np\n",
    "import lightgbm as lgb\n",
    "\n",
    "from sklearn.model_selection import train_test_split\n",
    "from sklearn.model_selection import cross_validate\n",
    "\n",
    "import matplotlib.pyplot as plt\n",
    "import seaborn as sns\n",
    "import optuna\n",
    "\n",
    "pd.options.mode.chained_assignment = None "
   ]
  },
  {
   "cell_type": "markdown",
   "metadata": {},
   "source": [
    "## Loading data"
   ]
  },
  {
   "cell_type": "code",
   "execution_count": 2,
   "metadata": {},
   "outputs": [
    {
     "name": "stdout",
     "output_type": "stream",
     "text": [
      "titanic.zip: Skipping, found more recently modified local copy (use --force to force download)\r\n"
     ]
    }
   ],
   "source": [
    "!kaggle competitions download -c titanic"
   ]
  },
  {
   "cell_type": "code",
   "execution_count": 3,
   "metadata": {},
   "outputs": [
    {
     "name": "stdout",
     "output_type": "stream",
     "text": [
      "Archive:  titanic.zip\r\n",
      "  inflating: gender_submission.csv   \r\n",
      "  inflating: test.csv                \r\n",
      "  inflating: train.csv               \r\n"
     ]
    }
   ],
   "source": [
    "!unzip -o titanic.zip"
   ]
  },
  {
   "cell_type": "code",
   "execution_count": 4,
   "metadata": {},
   "outputs": [],
   "source": [
    "df_train_all = pd.read_csv('./train.csv')\n",
    "df_train, df_test = train_test_split(df_train_all, test_size=0.2, random_state=42)"
   ]
  },
  {
   "cell_type": "code",
   "execution_count": 5,
   "metadata": {},
   "outputs": [
    {
     "data": {
      "text/html": [
       "<div>\n",
       "<style scoped>\n",
       "    .dataframe tbody tr th:only-of-type {\n",
       "        vertical-align: middle;\n",
       "    }\n",
       "\n",
       "    .dataframe tbody tr th {\n",
       "        vertical-align: top;\n",
       "    }\n",
       "\n",
       "    .dataframe thead th {\n",
       "        text-align: right;\n",
       "    }\n",
       "</style>\n",
       "<table border=\"1\" class=\"dataframe\">\n",
       "  <thead>\n",
       "    <tr style=\"text-align: right;\">\n",
       "      <th></th>\n",
       "      <th>PassengerId</th>\n",
       "      <th>Survived</th>\n",
       "      <th>Pclass</th>\n",
       "      <th>Name</th>\n",
       "      <th>Sex</th>\n",
       "      <th>Age</th>\n",
       "      <th>SibSp</th>\n",
       "      <th>Parch</th>\n",
       "      <th>Ticket</th>\n",
       "      <th>Fare</th>\n",
       "      <th>Cabin</th>\n",
       "      <th>Embarked</th>\n",
       "    </tr>\n",
       "  </thead>\n",
       "  <tbody>\n",
       "    <tr>\n",
       "      <th>331</th>\n",
       "      <td>332</td>\n",
       "      <td>0</td>\n",
       "      <td>1</td>\n",
       "      <td>Partner, Mr. Austen</td>\n",
       "      <td>male</td>\n",
       "      <td>45.5</td>\n",
       "      <td>0</td>\n",
       "      <td>0</td>\n",
       "      <td>113043</td>\n",
       "      <td>28.5000</td>\n",
       "      <td>C124</td>\n",
       "      <td>S</td>\n",
       "    </tr>\n",
       "    <tr>\n",
       "      <th>733</th>\n",
       "      <td>734</td>\n",
       "      <td>0</td>\n",
       "      <td>2</td>\n",
       "      <td>Berriman, Mr. William John</td>\n",
       "      <td>male</td>\n",
       "      <td>23.0</td>\n",
       "      <td>0</td>\n",
       "      <td>0</td>\n",
       "      <td>28425</td>\n",
       "      <td>13.0000</td>\n",
       "      <td>NaN</td>\n",
       "      <td>S</td>\n",
       "    </tr>\n",
       "    <tr>\n",
       "      <th>382</th>\n",
       "      <td>383</td>\n",
       "      <td>0</td>\n",
       "      <td>3</td>\n",
       "      <td>Tikkanen, Mr. Juho</td>\n",
       "      <td>male</td>\n",
       "      <td>32.0</td>\n",
       "      <td>0</td>\n",
       "      <td>0</td>\n",
       "      <td>STON/O 2. 3101293</td>\n",
       "      <td>7.9250</td>\n",
       "      <td>NaN</td>\n",
       "      <td>S</td>\n",
       "    </tr>\n",
       "    <tr>\n",
       "      <th>704</th>\n",
       "      <td>705</td>\n",
       "      <td>0</td>\n",
       "      <td>3</td>\n",
       "      <td>Hansen, Mr. Henrik Juul</td>\n",
       "      <td>male</td>\n",
       "      <td>26.0</td>\n",
       "      <td>1</td>\n",
       "      <td>0</td>\n",
       "      <td>350025</td>\n",
       "      <td>7.8542</td>\n",
       "      <td>NaN</td>\n",
       "      <td>S</td>\n",
       "    </tr>\n",
       "    <tr>\n",
       "      <th>813</th>\n",
       "      <td>814</td>\n",
       "      <td>0</td>\n",
       "      <td>3</td>\n",
       "      <td>Andersson, Miss. Ebba Iris Alfrida</td>\n",
       "      <td>female</td>\n",
       "      <td>6.0</td>\n",
       "      <td>4</td>\n",
       "      <td>2</td>\n",
       "      <td>347082</td>\n",
       "      <td>31.2750</td>\n",
       "      <td>NaN</td>\n",
       "      <td>S</td>\n",
       "    </tr>\n",
       "  </tbody>\n",
       "</table>\n",
       "</div>"
      ],
      "text/plain": [
       "     PassengerId  Survived  Pclass                                Name  \\\n",
       "331          332         0       1                 Partner, Mr. Austen   \n",
       "733          734         0       2          Berriman, Mr. William John   \n",
       "382          383         0       3                  Tikkanen, Mr. Juho   \n",
       "704          705         0       3             Hansen, Mr. Henrik Juul   \n",
       "813          814         0       3  Andersson, Miss. Ebba Iris Alfrida   \n",
       "\n",
       "        Sex   Age  SibSp  Parch             Ticket     Fare Cabin Embarked  \n",
       "331    male  45.5      0      0             113043  28.5000  C124        S  \n",
       "733    male  23.0      0      0              28425  13.0000   NaN        S  \n",
       "382    male  32.0      0      0  STON/O 2. 3101293   7.9250   NaN        S  \n",
       "704    male  26.0      1      0             350025   7.8542   NaN        S  \n",
       "813  female   6.0      4      2             347082  31.2750   NaN        S  "
      ]
     },
     "execution_count": 5,
     "metadata": {},
     "output_type": "execute_result"
    }
   ],
   "source": [
    "df_train.head()"
   ]
  },
  {
   "cell_type": "markdown",
   "metadata": {},
   "source": [
    "## Description of features"
   ]
  },
  {
   "cell_type": "markdown",
   "metadata": {},
   "source": [
    "| Name | Description | Info |\n",
    "| --- | --- | --- |\n",
    "| PassengerId | id |\n",
    "| Survived | Survival | 0 = No, 1 = Yes |\n",
    "| Pclass | Ticket   | class 1 = 1st, 2 = 2nd, 3 = 3rd |\n",
    "| Sex\t |Sex\t\n",
    "| Age | Age in years |\n",
    "| SibSp | number of siblings / spouses aboard the Titanic |\n",
    "|Parch | number of parents / children aboard the Titanic |\n",
    "| Fare | Passenger fare |\n",
    "| Ticket | Ticket number |\n",
    "| Cabin | Cabin number |\n",
    "| Embarked | Port of Embarkation | C = Cherbourg, Q = Queenstown, S = Southampton"
   ]
  },
  {
   "cell_type": "markdown",
   "metadata": {},
   "source": [
    "I try to create model which predicts survivability on Titanic using gradient boosting trees with lightgbm implementaition."
   ]
  },
  {
   "cell_type": "markdown",
   "metadata": {},
   "source": [
    "## Data analysis"
   ]
  },
  {
   "cell_type": "code",
   "execution_count": 6,
   "metadata": {},
   "outputs": [
    {
     "data": {
      "text/plain": [
       "<seaborn.axisgrid.FacetGrid at 0x7fd9b009b940>"
      ]
     },
     "execution_count": 6,
     "metadata": {},
     "output_type": "execute_result"
    },
    {
     "data": {
      "image/png": "[encoded data removed]",
      "text/plain": [
       "<Figure size 411.875x360 with 1 Axes>"
      ]
     },
     "metadata": {
      "needs_background": "light"
     },
     "output_type": "display_data"
    }
   ],
   "source": [
    "sns.displot(df_train, x='Age', hue='Survived', kde=True)"
   ]
  },
  {
   "cell_type": "markdown",
   "metadata": {},
   "source": [
    "Younger peaple have higher chance for survive"
   ]
  },
  {
   "cell_type": "code",
   "execution_count": 7,
   "metadata": {},
   "outputs": [
    {
     "data": {
      "text/plain": [
       "<AxesSubplot:xlabel='Survived', ylabel='Fare'>"
      ]
     },
     "execution_count": 7,
     "metadata": {},
     "output_type": "execute_result"
    },
    {
     "data": {
      "image/png": "[encoded data removed]",
      "text/plain": [
       "<Figure size 432x288 with 1 Axes>"
      ]
     },
     "metadata": {
      "needs_background": "light"
     },
     "output_type": "display_data"
    }
   ],
   "source": [
    "sns.boxplot(y='Fare', x='Survived', data=df_train)"
   ]
  },
  {
   "cell_type": "markdown",
   "metadata": {},
   "source": [
    "Also ticket price could correlate with survivability."
   ]
  },
  {
   "cell_type": "code",
   "execution_count": 8,
   "metadata": {},
   "outputs": [
    {
     "name": "stderr",
     "output_type": "stream",
     "text": [
      "/home/azapala/.local/lib/python3.8/site-packages/seaborn/categorical.py:3714: UserWarning: The `factorplot` function has been renamed to `catplot`. The original name will be removed in a future release. Please update your code. Note that the default `kind` in `factorplot` (`'point'`) has changed `'strip'` in `catplot`.\n",
      "  warnings.warn(msg)\n"
     ]
    },
    {
     "data": {
      "text/plain": [
       "<seaborn.axisgrid.FacetGrid at 0x7fd9988d00a0>"
      ]
     },
     "execution_count": 8,
     "metadata": {},
     "output_type": "execute_result"
    },
    {
     "data": {
      "image/png": "[encoded data removed]",
      "text/plain": [
       "<Figure size 360x360 with 1 Axes>"
      ]
     },
     "metadata": {
      "needs_background": "light"
     },
     "output_type": "display_data"
    }
   ],
   "source": [
    "sns.factorplot(data=df_train, x=\"Sex\", y=\"Survived\", kind=\"bar\")"
   ]
  },
  {
   "cell_type": "code",
   "execution_count": 9,
   "metadata": {},
   "outputs": [
    {
     "data": {
      "text/plain": [
       "Sex\n",
       "female    245\n",
       "male      467\n",
       "dtype: int64"
      ]
     },
     "execution_count": 9,
     "metadata": {},
     "output_type": "execute_result"
    }
   ],
   "source": [
    "df_train.groupby('Sex').size()"
   ]
  },
  {
   "cell_type": "markdown",
   "metadata": {},
   "source": [
    "Is gender equality an idea of the 21st century? Women have much higher survability."
   ]
  },
  {
   "cell_type": "code",
   "execution_count": 10,
   "metadata": {},
   "outputs": [
    {
     "name": "stderr",
     "output_type": "stream",
     "text": [
      "/home/azapala/.local/lib/python3.8/site-packages/seaborn/categorical.py:3714: UserWarning: The `factorplot` function has been renamed to `catplot`. The original name will be removed in a future release. Please update your code. Note that the default `kind` in `factorplot` (`'point'`) has changed `'strip'` in `catplot`.\n",
      "  warnings.warn(msg)\n"
     ]
    },
    {
     "data": {
      "text/plain": [
       "<seaborn.axisgrid.FacetGrid at 0x7fd998819340>"
      ]
     },
     "execution_count": 10,
     "metadata": {},
     "output_type": "execute_result"
    },
    {
     "data": {
      "image/png": "[encoded data removed]",
      "text/plain": [
       "<Figure size 360x360 with 1 Axes>"
      ]
     },
     "metadata": {
      "needs_background": "light"
     },
     "output_type": "display_data"
    }
   ],
   "source": [
    "sns.factorplot(data=df_train, x=\"Embarked\", y=\"Survived\", kind=\"bar\")"
   ]
  },
  {
   "cell_type": "code",
   "execution_count": 11,
   "metadata": {},
   "outputs": [
    {
     "data": {
      "text/plain": [
       "Embarked\n",
       "C    125\n",
       "Q     60\n",
       "S    525\n",
       "dtype: int64"
      ]
     },
     "execution_count": 11,
     "metadata": {},
     "output_type": "execute_result"
    }
   ],
   "source": [
    "df_train.groupby('Embarked').size()"
   ]
  },
  {
   "cell_type": "markdown",
   "metadata": {},
   "source": [
    "Ports of embarakation have diffrent survability. Maybe there is a hidden correlection. "
   ]
  },
  {
   "cell_type": "code",
   "execution_count": 12,
   "metadata": {},
   "outputs": [
    {
     "data": {
      "text/plain": [
       "83"
      ]
     },
     "execution_count": 12,
     "metadata": {},
     "output_type": "execute_result"
    }
   ],
   "source": [
    "df_train.Age.nunique()"
   ]
  },
  {
   "cell_type": "code",
   "execution_count": 13,
   "metadata": {},
   "outputs": [
    {
     "data": {
      "text/plain": [
       "220"
      ]
     },
     "execution_count": 13,
     "metadata": {},
     "output_type": "execute_result"
    }
   ],
   "source": [
    "df_train.Fare.nunique()"
   ]
  },
  {
   "cell_type": "code",
   "execution_count": 14,
   "metadata": {},
   "outputs": [
    {
     "data": {
      "text/html": [
       "<div>\n",
       "<style scoped>\n",
       "    .dataframe tbody tr th:only-of-type {\n",
       "        vertical-align: middle;\n",
       "    }\n",
       "\n",
       "    .dataframe tbody tr th {\n",
       "        vertical-align: top;\n",
       "    }\n",
       "\n",
       "    .dataframe thead th {\n",
       "        text-align: right;\n",
       "    }\n",
       "</style>\n",
       "<table border=\"1\" class=\"dataframe\">\n",
       "  <thead>\n",
       "    <tr style=\"text-align: right;\">\n",
       "      <th></th>\n",
       "      <th></th>\n",
       "      <th>counts</th>\n",
       "    </tr>\n",
       "    <tr>\n",
       "      <th>SibSp</th>\n",
       "      <th>Parch</th>\n",
       "      <th></th>\n",
       "    </tr>\n",
       "  </thead>\n",
       "  <tbody>\n",
       "    <tr>\n",
       "      <th rowspan=\"6\" valign=\"top\">0</th>\n",
       "      <th>0</th>\n",
       "      <td>429</td>\n",
       "    </tr>\n",
       "    <tr>\n",
       "      <th>1</th>\n",
       "      <td>31</td>\n",
       "    </tr>\n",
       "    <tr>\n",
       "      <th>2</th>\n",
       "      <td>21</td>\n",
       "    </tr>\n",
       "    <tr>\n",
       "      <th>3</th>\n",
       "      <td>1</td>\n",
       "    </tr>\n",
       "    <tr>\n",
       "      <th>4</th>\n",
       "      <td>1</td>\n",
       "    </tr>\n",
       "    <tr>\n",
       "      <th>5</th>\n",
       "      <td>1</td>\n",
       "    </tr>\n",
       "    <tr>\n",
       "      <th rowspan=\"7\" valign=\"top\">1</th>\n",
       "      <th>0</th>\n",
       "      <td>96</td>\n",
       "    </tr>\n",
       "    <tr>\n",
       "      <th>1</th>\n",
       "      <td>44</td>\n",
       "    </tr>\n",
       "    <tr>\n",
       "      <th>2</th>\n",
       "      <td>18</td>\n",
       "    </tr>\n",
       "    <tr>\n",
       "      <th>3</th>\n",
       "      <td>1</td>\n",
       "    </tr>\n",
       "    <tr>\n",
       "      <th>4</th>\n",
       "      <td>2</td>\n",
       "    </tr>\n",
       "    <tr>\n",
       "      <th>5</th>\n",
       "      <td>2</td>\n",
       "    </tr>\n",
       "    <tr>\n",
       "      <th>6</th>\n",
       "      <td>1</td>\n",
       "    </tr>\n",
       "    <tr>\n",
       "      <th rowspan=\"4\" valign=\"top\">2</th>\n",
       "      <th>0</th>\n",
       "      <td>14</td>\n",
       "    </tr>\n",
       "    <tr>\n",
       "      <th>1</th>\n",
       "      <td>5</td>\n",
       "    </tr>\n",
       "    <tr>\n",
       "      <th>2</th>\n",
       "      <td>3</td>\n",
       "    </tr>\n",
       "    <tr>\n",
       "      <th>3</th>\n",
       "      <td>1</td>\n",
       "    </tr>\n",
       "    <tr>\n",
       "      <th rowspan=\"3\" valign=\"top\">3</th>\n",
       "      <th>0</th>\n",
       "      <td>2</td>\n",
       "    </tr>\n",
       "    <tr>\n",
       "      <th>1</th>\n",
       "      <td>6</td>\n",
       "    </tr>\n",
       "    <tr>\n",
       "      <th>2</th>\n",
       "      <td>5</td>\n",
       "    </tr>\n",
       "    <tr>\n",
       "      <th rowspan=\"2\" valign=\"top\">4</th>\n",
       "      <th>1</th>\n",
       "      <td>8</td>\n",
       "    </tr>\n",
       "    <tr>\n",
       "      <th>2</th>\n",
       "      <td>8</td>\n",
       "    </tr>\n",
       "    <tr>\n",
       "      <th>5</th>\n",
       "      <th>2</th>\n",
       "      <td>5</td>\n",
       "    </tr>\n",
       "    <tr>\n",
       "      <th>8</th>\n",
       "      <th>2</th>\n",
       "      <td>7</td>\n",
       "    </tr>\n",
       "  </tbody>\n",
       "</table>\n",
       "</div>"
      ],
      "text/plain": [
       "             counts\n",
       "SibSp Parch        \n",
       "0     0         429\n",
       "      1          31\n",
       "      2          21\n",
       "      3           1\n",
       "      4           1\n",
       "      5           1\n",
       "1     0          96\n",
       "      1          44\n",
       "      2          18\n",
       "      3           1\n",
       "      4           2\n",
       "      5           2\n",
       "      6           1\n",
       "2     0          14\n",
       "      1           5\n",
       "      2           3\n",
       "      3           1\n",
       "3     0           2\n",
       "      1           6\n",
       "      2           5\n",
       "4     1           8\n",
       "      2           8\n",
       "5     2           5\n",
       "8     2           7"
      ]
     },
     "execution_count": 14,
     "metadata": {},
     "output_type": "execute_result"
    }
   ],
   "source": [
    "df_train.groupby(['SibSp', 'Parch']).size().to_frame(name='counts')"
   ]
  },
  {
   "cell_type": "markdown",
   "metadata": {},
   "source": [
    "Age and fare are a categorical features. SibSp, Parch could be treat as categorical or continous features "
   ]
  },
  {
   "cell_type": "markdown",
   "metadata": {},
   "source": [
    "## Add simple features"
   ]
  },
  {
   "cell_type": "code",
   "execution_count": 15,
   "metadata": {},
   "outputs": [],
   "source": [
    "for df in [df_train, df_test, df_train_all]:\n",
    "    df['FamilySize'] = 0 \n",
    "    df.loc[:, 'FamilySize'] =  df['Parch'] + df['SibSp']\n",
    "    df.loc['Single'] = 0\n",
    "    df.loc[df['FamilySize'] > 0, 'Single'] = 1"
   ]
  },
  {
   "cell_type": "code",
   "execution_count": 16,
   "metadata": {},
   "outputs": [],
   "source": [
    "for df in [df_train, df_test, df_train_all]:\n",
    "    df['AgeGroup'] = \"baby\"\n",
    "    df.loc[(df.Age > 5) & (df.Age <= 14),'AgeGroup'] = \"teenager\"\n",
    "    df.loc[(df.Age > 14) & (df.Age <= 60), 'AgeGroup' ] = \"adult\"\n",
    "    df.loc[(df.Age > 60), 'AgeGroup' ] = \"old\"    "
   ]
  },
  {
   "cell_type": "code",
   "execution_count": 17,
   "metadata": {},
   "outputs": [],
   "source": [
    "model_columns = ['Pclass', 'Sex', 'Age', 'SibSp', 'Parch', 'Fare', 'Embarked', 'FamilySize', 'Single', 'AgeGroup']\n",
    "\n",
    "countinous_columns = ['Age', 'Parch', 'SibSp', 'FamilySize']\n",
    "cat_columns = [col for col in model_columns if col not in countinous_columns]"
   ]
  },
  {
   "cell_type": "code",
   "execution_count": 18,
   "metadata": {},
   "outputs": [],
   "source": [
    "for dataset in [df_test, df_train, df_train_all]:\n",
    "    dataset[cat_columns] = dataset[cat_columns].astype('category')"
   ]
  },
  {
   "cell_type": "code",
   "execution_count": 19,
   "metadata": {},
   "outputs": [
    {
     "data": {
      "text/plain": [
       "Pclass        category\n",
       "Sex           category\n",
       "Age            float64\n",
       "SibSp            int64\n",
       "Parch            int64\n",
       "Fare          category\n",
       "Embarked      category\n",
       "FamilySize       int64\n",
       "Single        category\n",
       "AgeGroup      category\n",
       "dtype: object"
      ]
     },
     "execution_count": 19,
     "metadata": {},
     "output_type": "execute_result"
    }
   ],
   "source": [
    "df_train[model_columns].dtypes"
   ]
  },
  {
   "cell_type": "markdown",
   "metadata": {},
   "source": [
    "## Trening"
   ]
  },
  {
   "cell_type": "code",
   "execution_count": 20,
   "metadata": {},
   "outputs": [],
   "source": [
    "def generate_lgb_dataset(df, model_columns, target_columns_name):\n",
    "    return lgb.Dataset(df[model_columns], label=df[target_columns_name])"
   ]
  },
  {
   "cell_type": "code",
   "execution_count": 21,
   "metadata": {},
   "outputs": [],
   "source": [
    "d_train = generate_lgb_dataset(df_train, model_columns, 'Survived')\n",
    "d_test =  generate_lgb_dataset(df_test, model_columns, 'Survived')\n",
    "\n",
    "params={\n",
    "    'application': 'binary',\n",
    "    'metric': 'auc',\n",
    "    'boosting': 'gbdt',\n",
    "    'verbose': -1\n",
    "}"
   ]
  },
  {
   "cell_type": "markdown",
   "metadata": {},
   "source": [
    "### CV"
   ]
  },
  {
   "cell_type": "code",
   "execution_count": 22,
   "metadata": {},
   "outputs": [],
   "source": [
    "history = lgb.cv(params, d_train, num_boost_round=30, nfold=5)"
   ]
  },
  {
   "cell_type": "markdown",
   "metadata": {},
   "source": [
    "Mean auc metric based on 5-fold cross validation:"
   ]
  },
  {
   "cell_type": "code",
   "execution_count": 23,
   "metadata": {},
   "outputs": [
    {
     "data": {
      "text/plain": [
       "0.853826192102639"
      ]
     },
     "execution_count": 23,
     "metadata": {},
     "output_type": "execute_result"
    }
   ],
   "source": [
    "history['auc-mean'][-1]"
   ]
  },
  {
   "cell_type": "code",
   "execution_count": 24,
   "metadata": {},
   "outputs": [
    {
     "data": {
      "text/plain": [
       "Text(0, 0.5, 'Mean auc')"
      ]
     },
     "execution_count": 24,
     "metadata": {},
     "output_type": "execute_result"
    },
    {
     "data": {
      "image/png": "[encoded data removed]",
      "text/plain": [
       "<Figure size 432x288 with 1 Axes>"
      ]
     },
     "metadata": {
      "needs_background": "light"
     },
     "output_type": "display_data"
    }
   ],
   "source": [
    "plt.plot(history['auc-mean'])\n",
    "plt.title('Training history')\n",
    "plt.xlabel('No epoch')\n",
    "plt.ylabel('Mean auc')"
   ]
  },
  {
   "cell_type": "markdown",
   "metadata": {},
   "source": [
    "### test set"
   ]
  },
  {
   "cell_type": "code",
   "execution_count": 25,
   "metadata": {},
   "outputs": [],
   "source": [
    "def train_and_evaluate(params, d_train, d_test):\n",
    "    history = {}\n",
    "    bst = lgb.train(params, d_train, valid_sets=[d_train, d_test], valid_names=['train', 'test'], evals_result=history, num_boost_round=30)\n",
    "    \n",
    "    plt.plot(history['train']['auc'])\n",
    "    plt.plot(history['test']['auc'])\n",
    "    plt.title('History of training')\n",
    "    plt.xlabel('epoch')\n",
    "    plt.ylabel('auc')\n",
    "    plt.legend(['train','test'])\n",
    "    plt.show()\n",
    "    \n",
    "    print(f\"AUC: {history['test']['auc'][-1]}\")"
   ]
  },
  {
   "cell_type": "code",
   "execution_count": 26,
   "metadata": {},
   "outputs": [
    {
     "name": "stderr",
     "output_type": "stream",
     "text": [
      "/home/azapala/.local/lib/python3.8/site-packages/lightgbm/basic.py:1286: UserWarning: Overriding the parameters from Reference Dataset.\n",
      "  warnings.warn('Overriding the parameters from Reference Dataset.')\n",
      "/home/azapala/.local/lib/python3.8/site-packages/lightgbm/basic.py:1098: UserWarning: categorical_column in param dict is overridden.\n",
      "  warnings.warn('{} in param dict is overridden.'.format(cat_alias))\n"
     ]
    },
    {
     "name": "stdout",
     "output_type": "stream",
     "text": [
      "[1]\ttrain's auc: 0.888823\ttest's auc: 0.854347\n",
      "[2]\ttrain's auc: 0.890638\ttest's auc: 0.855877\n",
      "[3]\ttrain's auc: 0.894147\ttest's auc: 0.858108\n",
      "[4]\ttrain's auc: 0.894462\ttest's auc: 0.857853\n",
      "[5]\ttrain's auc: 0.896197\ttest's auc: 0.855367\n",
      "[6]\ttrain's auc: 0.898889\ttest's auc: 0.859128\n",
      "[7]\ttrain's auc: 0.899832\ttest's auc: 0.859128\n",
      "[8]\ttrain's auc: 0.900805\ttest's auc: 0.858873\n",
      "[9]\ttrain's auc: 0.903836\ttest's auc: 0.866331\n",
      "[10]\ttrain's auc: 0.906427\ttest's auc: 0.869901\n",
      "[11]\ttrain's auc: 0.908356\ttest's auc: 0.874108\n",
      "[12]\ttrain's auc: 0.908901\ttest's auc: 0.874363\n",
      "[13]\ttrain's auc: 0.909672\ttest's auc: 0.875\n",
      "[14]\ttrain's auc: 0.911492\ttest's auc: 0.874426\n",
      "[15]\ttrain's auc: 0.913362\ttest's auc: 0.876466\n",
      "[16]\ttrain's auc: 0.913953\ttest's auc: 0.873853\n",
      "[17]\ttrain's auc: 0.914523\ttest's auc: 0.873534\n",
      "[18]\ttrain's auc: 0.915278\ttest's auc: 0.874235\n",
      "[19]\ttrain's auc: 0.915974\ttest's auc: 0.876657\n",
      "[20]\ttrain's auc: 0.920665\ttest's auc: 0.880801\n",
      "[21]\ttrain's auc: 0.923323\ttest's auc: 0.880801\n",
      "[22]\ttrain's auc: 0.9257\ttest's auc: 0.880992\n",
      "[23]\ttrain's auc: 0.926497\ttest's auc: 0.881502\n",
      "[24]\ttrain's auc: 0.928136\ttest's auc: 0.880737\n",
      "[25]\ttrain's auc: 0.929482\ttest's auc: 0.88284\n",
      "[26]\ttrain's auc: 0.930962\ttest's auc: 0.882458\n",
      "[27]\ttrain's auc: 0.932995\ttest's auc: 0.882458\n",
      "[28]\ttrain's auc: 0.934873\ttest's auc: 0.877677\n",
      "[29]\ttrain's auc: 0.935783\ttest's auc: 0.877868\n",
      "[30]\ttrain's auc: 0.937854\ttest's auc: 0.878378\n"
     ]
    },
    {
     "data": {
      "image/png": "[encoded data removed]",
      "text/plain": [
       "<Figure size 432x288 with 1 Axes>"
      ]
     },
     "metadata": {
      "needs_background": "light"
     },
     "output_type": "display_data"
    },
    {
     "name": "stdout",
     "output_type": "stream",
     "text": [
      "AUC: 0.8783783783783784\n"
     ]
    }
   ],
   "source": [
    "train_and_evaluate(params, d_train, d_test)"
   ]
  },
  {
   "cell_type": "markdown",
   "metadata": {},
   "source": [
    "Auc metric of our model is relatively high. History of training doesn't indicate on overfitting. "
   ]
  },
  {
   "cell_type": "markdown",
   "metadata": {},
   "source": [
    "## HP tuning"
   ]
  },
  {
   "cell_type": "code",
   "execution_count": 27,
   "metadata": {},
   "outputs": [
    {
     "name": "stderr",
     "output_type": "stream",
     "text": [
      "\u001b[32m[I 2021-03-11 19:29:59,429]\u001b[0m A new study created in memory with name: automatic-fine-tuning\u001b[0m\n"
     ]
    }
   ],
   "source": [
    "d_train = generate_lgb_dataset(df_train, model_columns, 'Survived') # different hps change inner option of dataset, we can't reuse datasets for training\n",
    "hp_tuner = optuna.integration.lightgbm.LightGBMTunerCV(params, d_train, num_boost_round=30, study=optuna.create_study(study_name='automatic-fine-tuning', direction='maximize'), verbose_eval=0, return_cvbooster=True)"
   ]
  },
  {
   "cell_type": "code",
   "execution_count": 28,
   "metadata": {},
   "outputs": [
    {
     "name": "stderr",
     "output_type": "stream",
     "text": [
      "feature_fraction, val_score: 0.853826:  14%|#4        | 1/7 [00:00<00:00,  7.61it/s]\u001b[32m[I 2021-03-11 19:29:59,584]\u001b[0m Trial 0 finished with value: 0.853826192102639 and parameters: {'feature_fraction': 1.0}. Best is trial 0 with value: 0.853826192102639.\u001b[0m\n",
      "feature_fraction, val_score: 0.853826:  29%|##8       | 2/7 [00:00<00:00,  7.30it/s]\u001b[32m[I 2021-03-11 19:29:59,726]\u001b[0m Trial 1 finished with value: 0.8512649282736202 and parameters: {'feature_fraction': 0.7}. Best is trial 0 with value: 0.853826192102639.\u001b[0m\n",
      "feature_fraction, val_score: 0.853826:  43%|####2     | 3/7 [00:00<00:00,  7.75it/s]\u001b[32m[I 2021-03-11 19:29:59,846]\u001b[0m Trial 2 finished with value: 0.8448425317409841 and parameters: {'feature_fraction': 0.4}. Best is trial 0 with value: 0.853826192102639.\u001b[0m\n",
      "feature_fraction, val_score: 0.853826:  57%|#####7    | 4/7 [00:00<00:00,  6.80it/s]\u001b[32m[I 2021-03-11 19:30:00,021]\u001b[0m Trial 3 finished with value: 0.8511612842437518 and parameters: {'feature_fraction': 0.8}. Best is trial 0 with value: 0.853826192102639.\u001b[0m\n",
      "feature_fraction, val_score: 0.853826:  71%|#######1  | 5/7 [00:00<00:00,  7.06it/s]\u001b[32m[I 2021-03-11 19:30:00,153]\u001b[0m Trial 4 finished with value: 0.8528800477390682 and parameters: {'feature_fraction': 0.5}. Best is trial 0 with value: 0.853826192102639.\u001b[0m\n",
      "feature_fraction, val_score: 0.853826:  86%|########5 | 6/7 [00:00<00:00,  6.59it/s]\u001b[32m[I 2021-03-11 19:30:00,323]\u001b[0m Trial 5 finished with value: 0.8531568244097393 and parameters: {'feature_fraction': 0.6}. Best is trial 0 with value: 0.853826192102639.\u001b[0m\n",
      "feature_fraction, val_score: 0.853826: 100%|##########| 7/7 [00:01<00:00,  5.36it/s]\u001b[32m[I 2021-03-11 19:30:00,583]\u001b[0m Trial 6 finished with value: 0.8536361780478803 and parameters: {'feature_fraction': 0.8999999999999999}. Best is trial 0 with value: 0.853826192102639.\u001b[0m\n",
      "feature_fraction, val_score: 0.853826: 100%|##########| 7/7 [00:01<00:00,  6.18it/s]\n",
      "num_leaves, val_score: 0.853826:   5%|5         | 1/20 [00:00<00:06,  2.85it/s]\u001b[32m[I 2021-03-11 19:30:00,941]\u001b[0m Trial 7 finished with value: 0.853826192102639 and parameters: {'num_leaves': 142}. Best is trial 7 with value: 0.853826192102639.\u001b[0m\n",
      "num_leaves, val_score: 0.853826:  10%|#         | 2/20 [00:00<00:06,  2.90it/s]\u001b[32m[I 2021-03-11 19:30:01,281]\u001b[0m Trial 8 finished with value: 0.853826192102639 and parameters: {'num_leaves': 168}. Best is trial 7 with value: 0.853826192102639.\u001b[0m\n",
      "num_leaves, val_score: 0.853826:  15%|#5        | 3/20 [00:00<00:04,  3.89it/s]\u001b[32m[I 2021-03-11 19:30:01,441]\u001b[0m Trial 9 finished with value: 0.853826192102639 and parameters: {'num_leaves': 208}. Best is trial 7 with value: 0.853826192102639.\u001b[0m\n",
      "num_leaves, val_score: 0.853826:  20%|##        | 4/20 [00:01<00:03,  4.50it/s]\u001b[32m[I 2021-03-11 19:30:01,603]\u001b[0m Trial 10 finished with value: 0.853826192102639 and parameters: {'num_leaves': 38}. Best is trial 7 with value: 0.853826192102639.\u001b[0m\n",
      "num_leaves, val_score: 0.853826:  25%|##5       | 5/20 [00:01<00:02,  5.01it/s]\u001b[32m[I 2021-03-11 19:30:01,762]\u001b[0m Trial 11 finished with value: 0.853826192102639 and parameters: {'num_leaves': 199}. Best is trial 7 with value: 0.853826192102639.\u001b[0m\n",
      "num_leaves, val_score: 0.857632:  30%|###       | 6/20 [00:01<00:02,  5.92it/s]\u001b[32m[I 2021-03-11 19:30:01,870]\u001b[0m Trial 12 finished with value: 0.8576323620631442 and parameters: {'num_leaves': 8}. Best is trial 12 with value: 0.8576323620631442.\u001b[0m\n",
      "num_leaves, val_score: 0.857632:  35%|###5      | 7/20 [00:01<00:02,  6.12it/s]\u001b[32m[I 2021-03-11 19:30:02,023]\u001b[0m Trial 13 finished with value: 0.853826192102639 and parameters: {'num_leaves': 83}. Best is trial 12 with value: 0.8576323620631442.\u001b[0m\n",
      "num_leaves, val_score: 0.857632:  40%|####      | 8/20 [00:01<00:01,  6.11it/s]\u001b[32m[I 2021-03-11 19:30:02,188]\u001b[0m Trial 14 finished with value: 0.853826192102639 and parameters: {'num_leaves': 57}. Best is trial 12 with value: 0.8576323620631442.\u001b[0m\n",
      "num_leaves, val_score: 0.857632:  45%|####5     | 9/20 [00:01<00:01,  6.25it/s]\u001b[32m[I 2021-03-11 19:30:02,340]\u001b[0m Trial 15 finished with value: 0.853826192102639 and parameters: {'num_leaves': 80}. Best is trial 12 with value: 0.8576323620631442.\u001b[0m\n",
      "num_leaves, val_score: 0.857632:  50%|#####     | 10/20 [00:01<00:01,  5.93it/s]\u001b[32m[I 2021-03-11 19:30:02,528]\u001b[0m Trial 16 finished with value: 0.853826192102639 and parameters: {'num_leaves': 45}. Best is trial 12 with value: 0.8576323620631442.\u001b[0m\n",
      "num_leaves, val_score: 0.857632:  55%|#####5    | 11/20 [00:02<00:01,  6.14it/s]\u001b[32m[I 2021-03-11 19:30:02,677]\u001b[0m Trial 17 finished with value: 0.8379121224255843 and parameters: {'num_leaves': 2}. Best is trial 12 with value: 0.8576323620631442.\u001b[0m\n",
      "num_leaves, val_score: 0.857632:  60%|######    | 12/20 [00:02<00:01,  6.14it/s]\u001b[32m[I 2021-03-11 19:30:02,842]\u001b[0m Trial 18 finished with value: 0.853826192102639 and parameters: {'num_leaves': 134}. Best is trial 12 with value: 0.8576323620631442.\u001b[0m\n",
      "num_leaves, val_score: 0.857632:  65%|######5   | 13/20 [00:02<00:01,  5.24it/s]\u001b[32m[I 2021-03-11 19:30:03,096]\u001b[0m Trial 19 finished with value: 0.853826192102639 and parameters: {'num_leaves': 256}. Best is trial 12 with value: 0.8576323620631442.\u001b[0m\n",
      "num_leaves, val_score: 0.857632:  70%|#######   | 14/20 [00:02<00:01,  5.70it/s]\u001b[32m[I 2021-03-11 19:30:03,236]\u001b[0m Trial 20 finished with value: 0.853826192102639 and parameters: {'num_leaves': 126}. Best is trial 12 with value: 0.8576323620631442.\u001b[0m\n",
      "num_leaves, val_score: 0.857632:  75%|#######5  | 15/20 [00:02<00:00,  6.05it/s]\u001b[32m[I 2021-03-11 19:30:03,378]\u001b[0m Trial 21 finished with value: 0.853826192102639 and parameters: {'num_leaves': 119}. Best is trial 12 with value: 0.8576323620631442.\u001b[0m\n",
      "num_leaves, val_score: 0.857632:  80%|########  | 16/20 [00:02<00:00,  6.17it/s]\u001b[32m[I 2021-03-11 19:30:03,533]\u001b[0m Trial 22 finished with value: 0.853826192102639 and parameters: {'num_leaves': 177}. Best is trial 12 with value: 0.8576323620631442.\u001b[0m\n",
      "num_leaves, val_score: 0.857632:  85%|########5 | 17/20 [00:03<00:00,  4.42it/s]\u001b[32m[I 2021-03-11 19:30:03,908]\u001b[0m Trial 23 finished with value: 0.853826192102639 and parameters: {'num_leaves': 254}. Best is trial 12 with value: 0.8576323620631442.\u001b[0m\n",
      "num_leaves, val_score: 0.860593:  90%|######### | 18/20 [00:03<00:00,  4.19it/s]\u001b[32m[I 2021-03-11 19:30:04,173]\u001b[0m Trial 24 finished with value: 0.8605928909617695 and parameters: {'num_leaves': 7}. Best is trial 24 with value: 0.8605928909617695.\u001b[0m\n",
      "num_leaves, val_score: 0.860593:  95%|#########5| 19/20 [00:03<00:00,  3.94it/s]\u001b[32m[I 2021-03-11 19:30:04,463]\u001b[0m Trial 25 finished with value: 0.8520995767868781 and parameters: {'num_leaves': 3}. Best is trial 24 with value: 0.8605928909617695.\u001b[0m\n",
      "num_leaves, val_score: 0.860593: 100%|##########| 20/20 [00:04<00:00,  3.64it/s]\u001b[32m[I 2021-03-11 19:30:04,787]\u001b[0m Trial 26 finished with value: 0.851915844188475 and parameters: {'num_leaves': 20}. Best is trial 24 with value: 0.8605928909617695.\u001b[0m\n",
      "num_leaves, val_score: 0.860593: 100%|##########| 20/20 [00:04<00:00,  4.76it/s]\n",
      "bagging, val_score: 0.860593:  10%|#         | 1/10 [00:00<00:02,  3.09it/s]\u001b[32m[I 2021-03-11 19:30:05,119]\u001b[0m Trial 27 finished with value: 0.8510525365305946 and parameters: {'bagging_fraction': 0.4612898865916877, 'bagging_freq': 3}. Best is trial 27 with value: 0.8510525365305946.\u001b[0m\n",
      "bagging, val_score: 0.864894:  20%|##        | 2/10 [00:00<00:02,  3.24it/s]\u001b[32m[I 2021-03-11 19:30:05,416]\u001b[0m Trial 28 finished with value: 0.8648937256102828 and parameters: {'bagging_fraction': 0.8485090273644746, 'bagging_freq': 6}. Best is trial 28 with value: 0.8648937256102828.\u001b[0m\n",
      "bagging, val_score: 0.864894:  30%|###       | 3/10 [00:00<00:02,  3.22it/s]\u001b[32m[I 2021-03-11 19:30:05,731]\u001b[0m Trial 29 finished with value: 0.8604864987947456 and parameters: {'bagging_fraction': 0.537029786706711, 'bagging_freq': 5}. Best is trial 28 with value: 0.8648937256102828.\u001b[0m\n",
      "bagging, val_score: 0.864894:  40%|####      | 4/10 [00:01<00:01,  3.20it/s]\u001b[32m[I 2021-03-11 19:30:06,047]\u001b[0m Trial 30 finished with value: 0.8545061597531388 and parameters: {'bagging_fraction': 0.8172888466355681, 'bagging_freq': 3}. Best is trial 28 with value: 0.8648937256102828.\u001b[0m\n"
     ]
    },
    {
     "name": "stderr",
     "output_type": "stream",
     "text": [
      "bagging, val_score: 0.864894:  50%|#####     | 5/10 [00:01<00:01,  3.22it/s]\u001b[32m[I 2021-03-11 19:30:06,353]\u001b[0m Trial 31 finished with value: 0.8582377374194208 and parameters: {'bagging_fraction': 0.8183736799347391, 'bagging_freq': 2}. Best is trial 28 with value: 0.8648937256102828.\u001b[0m\n",
      "bagging, val_score: 0.864894:  60%|######    | 6/10 [00:01<00:00,  4.16it/s]\u001b[32m[I 2021-03-11 19:30:06,457]\u001b[0m Trial 32 finished with value: 0.8582848483420882 and parameters: {'bagging_fraction': 0.504708054175142, 'bagging_freq': 2}. Best is trial 28 with value: 0.8648937256102828.\u001b[0m\n",
      "bagging, val_score: 0.864894:  70%|#######   | 7/10 [00:01<00:00,  5.09it/s]\u001b[32m[I 2021-03-11 19:30:06,562]\u001b[0m Trial 33 finished with value: 0.8576979247638565 and parameters: {'bagging_fraction': 0.43477117950323685, 'bagging_freq': 5}. Best is trial 28 with value: 0.8648937256102828.\u001b[0m\n",
      "bagging, val_score: 0.864894:  80%|########  | 8/10 [00:01<00:00,  5.85it/s]\u001b[32m[I 2021-03-11 19:30:06,679]\u001b[0m Trial 34 finished with value: 0.8588925792444979 and parameters: {'bagging_fraction': 0.5786782629389327, 'bagging_freq': 7}. Best is trial 28 with value: 0.8648937256102828.\u001b[0m\n",
      "bagging, val_score: 0.864894:  90%|######### | 9/10 [00:02<00:00,  6.45it/s]\u001b[32m[I 2021-03-11 19:30:06,799]\u001b[0m Trial 35 finished with value: 0.8608779120439074 and parameters: {'bagging_fraction': 0.9638944552581911, 'bagging_freq': 5}. Best is trial 28 with value: 0.8648937256102828.\u001b[0m\n",
      "bagging, val_score: 0.864894: 100%|##########| 10/10 [00:02<00:00,  5.38it/s]\u001b[32m[I 2021-03-11 19:30:07,054]\u001b[0m Trial 36 finished with value: 0.8573461632079399 and parameters: {'bagging_fraction': 0.500030020974018, 'bagging_freq': 1}. Best is trial 28 with value: 0.8648937256102828.\u001b[0m\n",
      "bagging, val_score: 0.864894: 100%|##########| 10/10 [00:02<00:00,  4.42it/s]\n",
      "feature_fraction_stage2, val_score: 0.864894:  33%|###3      | 1/3 [00:00<00:00,  8.81it/s]\u001b[32m[I 2021-03-11 19:30:07,183]\u001b[0m Trial 37 finished with value: 0.8648937256102828 and parameters: {'feature_fraction': 0.9840000000000001}. Best is trial 37 with value: 0.8648937256102828.\u001b[0m\n",
      "feature_fraction_stage2, val_score: 0.864894:  67%|######6   | 2/3 [00:00<00:00,  9.34it/s]\u001b[32m[I 2021-03-11 19:30:07,285]\u001b[0m Trial 38 finished with value: 0.8648937256102828 and parameters: {'feature_fraction': 0.9520000000000001}. Best is trial 37 with value: 0.8648937256102828.\u001b[0m\n",
      "feature_fraction_stage2, val_score: 0.864894: 100%|##########| 3/3 [00:00<00:00,  9.53it/s]\u001b[32m[I 2021-03-11 19:30:07,388]\u001b[0m Trial 39 finished with value: 0.8597083833886886 and parameters: {'feature_fraction': 0.92}. Best is trial 37 with value: 0.8648937256102828.\u001b[0m\n",
      "feature_fraction_stage2, val_score: 0.864894: 100%|##########| 3/3 [00:00<00:00,  9.31it/s]\n",
      "regularization_factors, val_score: 0.864894:   5%|5         | 1/20 [00:00<00:02,  9.18it/s]\u001b[32m[I 2021-03-11 19:30:07,503]\u001b[0m Trial 40 finished with value: 0.8546447443839854 and parameters: {'lambda_l1': 8.540270862624675, 'lambda_l2': 4.5774919731283026e-07}. Best is trial 40 with value: 0.8546447443839854.\u001b[0m\n",
      "regularization_factors, val_score: 0.864894:   5%|5         | 1/20 [00:00<00:02,  9.18it/s]\u001b[32m[I 2021-03-11 19:30:07,602]\u001b[0m Trial 41 finished with value: 0.8648937256102828 and parameters: {'lambda_l1': 8.920087219955573e-05, 'lambda_l2': 3.2612318658427494e-07}. Best is trial 41 with value: 0.8648937256102828.\u001b[0m\n",
      "regularization_factors, val_score: 0.867170:  15%|#5        | 3/20 [00:00<00:01,  9.91it/s]\u001b[32m[I 2021-03-11 19:30:07,698]\u001b[0m Trial 42 finished with value: 0.8671699683571635 and parameters: {'lambda_l1': 0.02369127418919327, 'lambda_l2': 2.2883081539854495}. Best is trial 42 with value: 0.8671699683571635.\u001b[0m\n",
      "regularization_factors, val_score: 0.867170:  20%|##        | 4/20 [00:00<00:01,  9.43it/s]\u001b[32m[I 2021-03-11 19:30:07,815]\u001b[0m Trial 43 finished with value: 0.8648937256102828 and parameters: {'lambda_l1': 6.019789608374288e-05, 'lambda_l2': 2.7441504767651712e-08}. Best is trial 42 with value: 0.8671699683571635.\u001b[0m\n",
      "regularization_factors, val_score: 0.867170:  25%|##5       | 5/20 [00:00<00:01,  9.49it/s]\u001b[32m[I 2021-03-11 19:30:07,918]\u001b[0m Trial 44 finished with value: 0.8642824613886729 and parameters: {'lambda_l1': 4.181204052806695e-06, 'lambda_l2': 0.29484861277647817}. Best is trial 42 with value: 0.8671699683571635.\u001b[0m\n",
      "regularization_factors, val_score: 0.867170:  30%|###       | 6/20 [00:00<00:01,  9.20it/s]\u001b[32m[I 2021-03-11 19:30:08,034]\u001b[0m Trial 45 finished with value: 0.8628675633445614 and parameters: {'lambda_l1': 0.037369566762957544, 'lambda_l2': 2.2587725770288452e-08}. Best is trial 42 with value: 0.8671699683571635.\u001b[0m\n",
      "regularization_factors, val_score: 0.867170:  35%|###5      | 7/20 [00:00<00:01,  8.18it/s]\u001b[32m[I 2021-03-11 19:30:08,187]\u001b[0m Trial 46 finished with value: 0.8643197575357847 and parameters: {'lambda_l1': 6.392284576752754e-07, 'lambda_l2': 0.39695557590536906}. Best is trial 42 with value: 0.8671699683571635.\u001b[0m\n",
      "regularization_factors, val_score: 0.867170:  40%|####      | 8/20 [00:01<00:01,  6.72it/s]\u001b[32m[I 2021-03-11 19:30:08,394]\u001b[0m Trial 47 finished with value: 0.8628675633445614 and parameters: {'lambda_l1': 0.03691976589464299, 'lambda_l2': 0.0005486799547254091}. Best is trial 42 with value: 0.8671699683571635.\u001b[0m\n",
      "regularization_factors, val_score: 0.867170:  45%|####5     | 9/20 [00:01<00:01,  7.01it/s]\u001b[32m[I 2021-03-11 19:30:08,522]\u001b[0m Trial 48 finished with value: 0.8648937256102828 and parameters: {'lambda_l1': 2.6406346900784473e-08, 'lambda_l2': 4.1666536999275477e-07}. Best is trial 42 with value: 0.8671699683571635.\u001b[0m\n",
      "regularization_factors, val_score: 0.867170:  50%|#####     | 10/20 [00:01<00:01,  7.30it/s]\u001b[32m[I 2021-03-11 19:30:08,647]\u001b[0m Trial 49 finished with value: 0.8663306087516391 and parameters: {'lambda_l1': 0.0041006182300725585, 'lambda_l2': 2.42208503910587}. Best is trial 42 with value: 0.8671699683571635.\u001b[0m\n",
      "regularization_factors, val_score: 0.867170:  55%|#####5    | 11/20 [00:01<00:01,  7.12it/s]\u001b[32m[I 2021-03-11 19:30:08,795]\u001b[0m Trial 50 finished with value: 0.8590606082020116 and parameters: {'lambda_l1': 3.396278543469432, 'lambda_l2': 0.003927456285455463}. Best is trial 42 with value: 0.8671699683571635.\u001b[0m\n",
      "regularization_factors, val_score: 0.867170:  60%|######    | 12/20 [00:01<00:01,  7.66it/s]\u001b[32m[I 2021-03-11 19:30:08,903]\u001b[0m Trial 51 finished with value: 0.8665669485470205 and parameters: {'lambda_l1': 0.013711350207072355, 'lambda_l2': 2.7612709465776253}. Best is trial 42 with value: 0.8671699683571635.\u001b[0m\n",
      "regularization_factors, val_score: 0.867170:  65%|######5   | 13/20 [00:01<00:00,  7.66it/s]\u001b[32m[I 2021-03-11 19:30:09,033]\u001b[0m Trial 52 finished with value: 0.8661617946120808 and parameters: {'lambda_l1': 0.3309634834959706, 'lambda_l2': 0.013079869791620156}. Best is trial 42 with value: 0.8671699683571635.\u001b[0m\n",
      "regularization_factors, val_score: 0.867170:  70%|#######   | 14/20 [00:01<00:00,  7.13it/s]\u001b[32m[I 2021-03-11 19:30:09,196]\u001b[0m Trial 53 finished with value: 0.8666454667514663 and parameters: {'lambda_l1': 0.0017835297941328609, 'lambda_l2': 2.401064805260421}. Best is trial 42 with value: 0.8671699683571635.\u001b[0m\n",
      "regularization_factors, val_score: 0.867170:  75%|#######5  | 15/20 [00:01<00:00,  7.30it/s]\u001b[32m[I 2021-03-11 19:30:09,326]\u001b[0m Trial 54 finished with value: 0.8639185295110672 and parameters: {'lambda_l1': 0.001069284197686472, 'lambda_l2': 2.601837527008677e-05}. Best is trial 42 with value: 0.8671699683571635.\u001b[0m\n",
      "regularization_factors, val_score: 0.867170:  80%|########  | 16/20 [00:02<00:00,  7.53it/s]\u001b[32m[I 2021-03-11 19:30:09,449]\u001b[0m Trial 55 finished with value: 0.8650421250166851 and parameters: {'lambda_l1': 0.5764483613959042, 'lambda_l2': 0.07366362120030899}. Best is trial 42 with value: 0.8671699683571635.\u001b[0m\n",
      "regularization_factors, val_score: 0.867170:  85%|########5 | 17/20 [00:02<00:00,  7.18it/s]\u001b[32m[I 2021-03-11 19:30:09,603]\u001b[0m Trial 56 finished with value: 0.8633610502595026 and parameters: {'lambda_l1': 1.3566124725907254e-05, 'lambda_l2': 8.847069447367478}. Best is trial 42 with value: 0.8671699683571635.\u001b[0m\n"
     ]
    },
    {
     "name": "stderr",
     "output_type": "stream",
     "text": [
      "regularization_factors, val_score: 0.867170:  90%|######### | 18/20 [00:02<00:00,  7.26it/s]\u001b[32m[I 2021-03-11 19:30:09,738]\u001b[0m Trial 57 finished with value: 0.864318579762718 and parameters: {'lambda_l1': 0.0005922132449143349, 'lambda_l2': 7.7389009547850325}. Best is trial 42 with value: 0.8671699683571635.\u001b[0m\n",
      "regularization_factors, val_score: 0.867170:  95%|#########5| 19/20 [00:02<00:00,  7.69it/s]\u001b[32m[I 2021-03-11 19:30:09,850]\u001b[0m Trial 58 finished with value: 0.8638325520771991 and parameters: {'lambda_l1': 0.08269560519136979, 'lambda_l2': 0.027584861404906045}. Best is trial 42 with value: 0.8671699683571635.\u001b[0m\n",
      "regularization_factors, val_score: 0.867170: 100%|##########| 20/20 [00:02<00:00,  8.07it/s]\u001b[32m[I 2021-03-11 19:30:09,959]\u001b[0m Trial 59 finished with value: 0.8631129327334541 and parameters: {'lambda_l1': 0.002528800328132914, 'lambda_l2': 3.7419227204575854e-05}. Best is trial 42 with value: 0.8671699683571635.\u001b[0m\n",
      "regularization_factors, val_score: 0.867170: 100%|##########| 20/20 [00:02<00:00,  7.78it/s]\n",
      "min_data_in_leaf, val_score: 0.867170:  20%|##        | 1/5 [00:00<00:00,  8.17it/s]\u001b[32m[I 2021-03-11 19:30:10,090]\u001b[0m Trial 60 finished with value: 0.8647735927574809 and parameters: {'min_child_samples': 25}. Best is trial 60 with value: 0.8647735927574809.\u001b[0m\n",
      "min_data_in_leaf, val_score: 0.867170:  20%|##        | 1/5 [00:00<00:00,  8.17it/s]\u001b[32m[I 2021-03-11 19:30:10,166]\u001b[0m Trial 61 finished with value: 0.8376659678546471 and parameters: {'min_child_samples': 100}. Best is trial 60 with value: 0.8647735927574809.\u001b[0m\n",
      "min_data_in_leaf, val_score: 0.867170:  60%|######    | 3/5 [00:00<00:00, 10.24it/s]\u001b[32m[I 2021-03-11 19:30:10,268]\u001b[0m Trial 62 finished with value: 0.8651960206973988 and parameters: {'min_child_samples': 10}. Best is trial 62 with value: 0.8651960206973988.\u001b[0m\n",
      "min_data_in_leaf, val_score: 0.867170:  80%|########  | 4/5 [00:00<00:00,  8.29it/s]\u001b[32m[I 2021-03-11 19:30:10,432]\u001b[0m Trial 63 finished with value: 0.8655191231086927 and parameters: {'min_child_samples': 5}. Best is trial 63 with value: 0.8655191231086927.\u001b[0m\n",
      "min_data_in_leaf, val_score: 0.867170: 100%|##########| 5/5 [00:00<00:00,  8.28it/s]\u001b[32m[I 2021-03-11 19:30:10,553]\u001b[0m Trial 64 finished with value: 0.8552395197826617 and parameters: {'min_child_samples': 50}. Best is trial 63 with value: 0.8655191231086927.\u001b[0m\n",
      "min_data_in_leaf, val_score: 0.867170: 100%|##########| 5/5 [00:00<00:00,  8.48it/s]\n"
     ]
    }
   ],
   "source": [
    "hp_tuner.run()"
   ]
  },
  {
   "cell_type": "code",
   "execution_count": 29,
   "metadata": {},
   "outputs": [
    {
     "data": {
      "text/plain": [
       "0.8671699683571635"
      ]
     },
     "execution_count": 29,
     "metadata": {},
     "output_type": "execute_result"
    }
   ],
   "source": [
    "hp_tuner.best_score"
   ]
  },
  {
   "cell_type": "markdown",
   "metadata": {},
   "source": [
    "Tuning hyper parameter slightly improve (~0.01) mean auc score on cross validation."
   ]
  },
  {
   "cell_type": "code",
   "execution_count": 30,
   "metadata": {},
   "outputs": [],
   "source": [
    "params = hp_tuner.best_params"
   ]
  },
  {
   "cell_type": "code",
   "execution_count": 31,
   "metadata": {},
   "outputs": [
    {
     "name": "stderr",
     "output_type": "stream",
     "text": [
      "/home/azapala/.local/lib/python3.8/site-packages/lightgbm/basic.py:1286: UserWarning: Overriding the parameters from Reference Dataset.\n",
      "  warnings.warn('Overriding the parameters from Reference Dataset.')\n",
      "/home/azapala/.local/lib/python3.8/site-packages/lightgbm/basic.py:1098: UserWarning: categorical_column in param dict is overridden.\n",
      "  warnings.warn('{} in param dict is overridden.'.format(cat_alias))\n"
     ]
    },
    {
     "name": "stdout",
     "output_type": "stream",
     "text": [
      "[1]\ttrain's auc: 0.859412\ttest's auc: 0.860084\n",
      "[2]\ttrain's auc: 0.859412\ttest's auc: 0.860084\n",
      "[3]\ttrain's auc: 0.859412\ttest's auc: 0.860084\n",
      "[4]\ttrain's auc: 0.859186\ttest's auc: 0.859638\n",
      "[5]\ttrain's auc: 0.860922\ttest's auc: 0.864164\n",
      "[6]\ttrain's auc: 0.861173\ttest's auc: 0.864674\n",
      "[7]\ttrain's auc: 0.86358\ttest's auc: 0.869773\n",
      "[8]\ttrain's auc: 0.863253\ttest's auc: 0.869518\n",
      "[9]\ttrain's auc: 0.867856\ttest's auc: 0.875064\n",
      "[10]\ttrain's auc: 0.867797\ttest's auc: 0.875829\n",
      "[11]\ttrain's auc: 0.880522\ttest's auc: 0.877868\n",
      "[12]\ttrain's auc: 0.880823\ttest's auc: 0.877741\n",
      "[13]\ttrain's auc: 0.881649\ttest's auc: 0.878825\n",
      "[14]\ttrain's auc: 0.882018\ttest's auc: 0.873725\n",
      "[15]\ttrain's auc: 0.881662\ttest's auc: 0.87296\n",
      "[16]\ttrain's auc: 0.883645\ttest's auc: 0.873598\n",
      "[17]\ttrain's auc: 0.884282\ttest's auc: 0.874171\n",
      "[18]\ttrain's auc: 0.884852\ttest's auc: 0.874426\n",
      "[19]\ttrain's auc: 0.886077\ttest's auc: 0.871558\n",
      "[20]\ttrain's auc: 0.886177\ttest's auc: 0.871303\n",
      "[21]\ttrain's auc: 0.88567\ttest's auc: 0.870984\n",
      "[22]\ttrain's auc: 0.886156\ttest's auc: 0.869837\n",
      "[23]\ttrain's auc: 0.888219\ttest's auc: 0.872833\n",
      "[24]\ttrain's auc: 0.888655\ttest's auc: 0.873598\n",
      "[25]\ttrain's auc: 0.889896\ttest's auc: 0.870411\n",
      "[26]\ttrain's auc: 0.892152\ttest's auc: 0.872195\n",
      "[27]\ttrain's auc: 0.893703\ttest's auc: 0.873343\n",
      "[28]\ttrain's auc: 0.895757\ttest's auc: 0.880354\n",
      "[29]\ttrain's auc: 0.897359\ttest's auc: 0.882904\n",
      "[30]\ttrain's auc: 0.897661\ttest's auc: 0.880737\n"
     ]
    },
    {
     "data": {
      "image/png": "[encoded data removed]",
      "text/plain": [
       "<Figure size 432x288 with 1 Axes>"
      ]
     },
     "metadata": {
      "needs_background": "light"
     },
     "output_type": "display_data"
    },
    {
     "name": "stdout",
     "output_type": "stream",
     "text": [
      "AUC: 0.8807368689444162\n"
     ]
    }
   ],
   "source": [
    "d_train = generate_lgb_dataset(df_train, model_columns, 'Survived')\n",
    "d_test = generate_lgb_dataset(df_test, model_columns, 'Survived')\n",
    "train_and_evaluate(params, d_train, d_test)"
   ]
  },
  {
   "cell_type": "markdown",
   "metadata": {},
   "source": [
    "Also metrics on test dataset is slightly better. Autotuning  of hyperparameters improves prediction of our model."
   ]
  }
 ],
 "metadata": {
  "kernelspec": {
   "display_name": "Python 3",
   "language": "python",
   "name": "python3"
  },
  "language_info": {
   "codemirror_mode": {
    "name": "ipython",
    "version": 3
   },
   "file_extension": ".py",
   "mimetype": "text/x-python",
   "name": "python",
   "nbconvert_exporter": "python",
   "pygments_lexer": "ipython3",
   "version": "3.8.5"
  }
 },
 "nbformat": 4,
 "nbformat_minor": 4
}
