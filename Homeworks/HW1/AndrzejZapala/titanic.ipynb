{
 "cells": [
  {
   "cell_type": "code",
   "execution_count": 1,
   "metadata": {},
   "outputs": [],
   "source": [
    "import pandas as pd\n",
    "import numpy as np\n",
    "import lightgbm as lgb\n",
    "\n",
    "from sklearn.model_selection import train_test_split\n",
    "from sklearn.model_selection import cross_validate\n",
    "\n",
    "import matplotlib.pyplot as plt\n",
    "import seaborn as sns\n",
    "import optuna\n",
    "\n",
    "pd.options.mode.chained_assignment = None "
   ]
  },
  {
   "cell_type": "markdown",
   "metadata": {},
   "source": [
    "## Loading data"
   ]
  },
  {
   "cell_type": "code",
   "execution_count": 2,
   "metadata": {},
   "outputs": [
    {
     "name": "stdout",
     "output_type": "stream",
     "text": [
      "titanic.zip: Skipping, found more recently modified local copy (use --force to force download)\r\n"
     ]
    }
   ],
   "source": [
    "!kaggle competitions download -c titanic"
   ]
  },
  {
   "cell_type": "code",
   "execution_count": 3,
   "metadata": {},
   "outputs": [
    {
     "name": "stdout",
     "output_type": "stream",
     "text": [
      "Archive:  titanic.zip\r\n",
      "  inflating: gender_submission.csv   \r\n",
      "  inflating: test.csv                \r\n",
      "  inflating: train.csv               \r\n"
     ]
    }
   ],
   "source": [
    "!unzip -o titanic.zip"
   ]
  },
  {
   "cell_type": "code",
   "execution_count": 4,
   "metadata": {},
   "outputs": [],
   "source": [
    "df_train_all = pd.read_csv('./train.csv')\n",
    "df_train, df_test = train_test_split(df_train_all, test_size=0.2, random_state=42)"
   ]
  },
  {
   "cell_type": "code",
   "execution_count": 5,
   "metadata": {},
   "outputs": [
    {
     "data": {
      "text/html": [
       "<div>\n",
       "<style scoped>\n",
       "    .dataframe tbody tr th:only-of-type {\n",
       "        vertical-align: middle;\n",
       "    }\n",
       "\n",
       "    .dataframe tbody tr th {\n",
       "        vertical-align: top;\n",
       "    }\n",
       "\n",
       "    .dataframe thead th {\n",
       "        text-align: right;\n",
       "    }\n",
       "</style>\n",
       "<table border=\"1\" class=\"dataframe\">\n",
       "  <thead>\n",
       "    <tr style=\"text-align: right;\">\n",
       "      <th></th>\n",
       "      <th>PassengerId</th>\n",
       "      <th>Survived</th>\n",
       "      <th>Pclass</th>\n",
       "      <th>Name</th>\n",
       "      <th>Sex</th>\n",
       "      <th>Age</th>\n",
       "      <th>SibSp</th>\n",
       "      <th>Parch</th>\n",
       "      <th>Ticket</th>\n",
       "      <th>Fare</th>\n",
       "      <th>Cabin</th>\n",
       "      <th>Embarked</th>\n",
       "    </tr>\n",
       "  </thead>\n",
       "  <tbody>\n",
       "    <tr>\n",
       "      <th>331</th>\n",
       "      <td>332</td>\n",
       "      <td>0</td>\n",
       "      <td>1</td>\n",
       "      <td>Partner, Mr. Austen</td>\n",
       "      <td>male</td>\n",
       "      <td>45.5</td>\n",
       "      <td>0</td>\n",
       "      <td>0</td>\n",
       "      <td>113043</td>\n",
       "      <td>28.5000</td>\n",
       "      <td>C124</td>\n",
       "      <td>S</td>\n",
       "    </tr>\n",
       "    <tr>\n",
       "      <th>733</th>\n",
       "      <td>734</td>\n",
       "      <td>0</td>\n",
       "      <td>2</td>\n",
       "      <td>Berriman, Mr. William John</td>\n",
       "      <td>male</td>\n",
       "      <td>23.0</td>\n",
       "      <td>0</td>\n",
       "      <td>0</td>\n",
       "      <td>28425</td>\n",
       "      <td>13.0000</td>\n",
       "      <td>NaN</td>\n",
       "      <td>S</td>\n",
       "    </tr>\n",
       "    <tr>\n",
       "      <th>382</th>\n",
       "      <td>383</td>\n",
       "      <td>0</td>\n",
       "      <td>3</td>\n",
       "      <td>Tikkanen, Mr. Juho</td>\n",
       "      <td>male</td>\n",
       "      <td>32.0</td>\n",
       "      <td>0</td>\n",
       "      <td>0</td>\n",
       "      <td>STON/O 2. 3101293</td>\n",
       "      <td>7.9250</td>\n",
       "      <td>NaN</td>\n",
       "      <td>S</td>\n",
       "    </tr>\n",
       "    <tr>\n",
       "      <th>704</th>\n",
       "      <td>705</td>\n",
       "      <td>0</td>\n",
       "      <td>3</td>\n",
       "      <td>Hansen, Mr. Henrik Juul</td>\n",
       "      <td>male</td>\n",
       "      <td>26.0</td>\n",
       "      <td>1</td>\n",
       "      <td>0</td>\n",
       "      <td>350025</td>\n",
       "      <td>7.8542</td>\n",
       "      <td>NaN</td>\n",
       "      <td>S</td>\n",
       "    </tr>\n",
       "    <tr>\n",
       "      <th>813</th>\n",
       "      <td>814</td>\n",
       "      <td>0</td>\n",
       "      <td>3</td>\n",
       "      <td>Andersson, Miss. Ebba Iris Alfrida</td>\n",
       "      <td>female</td>\n",
       "      <td>6.0</td>\n",
       "      <td>4</td>\n",
       "      <td>2</td>\n",
       "      <td>347082</td>\n",
       "      <td>31.2750</td>\n",
       "      <td>NaN</td>\n",
       "      <td>S</td>\n",
       "    </tr>\n",
       "  </tbody>\n",
       "</table>\n",
       "</div>"
      ],
      "text/plain": [
       "     PassengerId  Survived  Pclass                                Name  \\\n",
       "331          332         0       1                 Partner, Mr. Austen   \n",
       "733          734         0       2          Berriman, Mr. William John   \n",
       "382          383         0       3                  Tikkanen, Mr. Juho   \n",
       "704          705         0       3             Hansen, Mr. Henrik Juul   \n",
       "813          814         0       3  Andersson, Miss. Ebba Iris Alfrida   \n",
       "\n",
       "        Sex   Age  SibSp  Parch             Ticket     Fare Cabin Embarked  \n",
       "331    male  45.5      0      0             113043  28.5000  C124        S  \n",
       "733    male  23.0      0      0              28425  13.0000   NaN        S  \n",
       "382    male  32.0      0      0  STON/O 2. 3101293   7.9250   NaN        S  \n",
       "704    male  26.0      1      0             350025   7.8542   NaN        S  \n",
       "813  female   6.0      4      2             347082  31.2750   NaN        S  "
      ]
     },
     "execution_count": 5,
     "metadata": {},
     "output_type": "execute_result"
    }
   ],
   "source": [
    "df_train.head()"
   ]
  },
  {
   "cell_type": "markdown",
   "metadata": {},
   "source": [
    "## Description of features"
   ]
  },
  {
   "cell_type": "markdown",
   "metadata": {},
   "source": [
    "| Name | Description | Info |\n",
    "| --- | --- | --- |\n",
    "| PassengerId | id |\n",
    "| Survived | Survival | 0 = No, 1 = Yes |\n",
    "| Pclass | Ticket   | class 1 = 1st, 2 = 2nd, 3 = 3rd |\n",
    "| Sex\t |Sex\t\n",
    "| Age | Age in years |\n",
    "| SibSp | number of siblings / spouses aboard the Titanic |\n",
    "|Parch | number of parents / children aboard the Titanic |\n",
    "| Fare | Passenger fare |\n",
    "| Ticket | Ticket number |\n",
    "| Cabin | Cabin number |\n",
    "| Embarked | Port of Embarkation | C = Cherbourg, Q = Queenstown, S = Southampton"
   ]
  },
  {
   "cell_type": "markdown",
   "metadata": {},
   "source": [
    "## Data analysis"
   ]
  },
  {
   "cell_type": "code",
   "execution_count": 6,
   "metadata": {},
   "outputs": [
    {
     "data": {
      "text/plain": [
       "<seaborn.axisgrid.FacetGrid at 0x7fa8a4bb8d90>"
      ]
     },
     "execution_count": 6,
     "metadata": {},
     "output_type": "execute_result"
    },
    {
     "data": {
      "image/png": "[encoded data removed]",
      "text/plain": [
       "<Figure size 411.875x360 with 1 Axes>"
      ]
     },
     "metadata": {
      "needs_background": "light"
     },
     "output_type": "display_data"
    }
   ],
   "source": [
    "sns.displot(df_train, x='Age', hue='Survived', kde=True)"
   ]
  },
  {
   "cell_type": "code",
   "execution_count": 7,
   "metadata": {},
   "outputs": [
    {
     "data": {
      "text/plain": [
       "<AxesSubplot:xlabel='Survived', ylabel='Fare'>"
      ]
     },
     "execution_count": 7,
     "metadata": {},
     "output_type": "execute_result"
    },
    {
     "data": {
      "image/png": "[encoded data removed]",
      "text/plain": [
       "<Figure size 432x288 with 1 Axes>"
      ]
     },
     "metadata": {
      "needs_background": "light"
     },
     "output_type": "display_data"
    }
   ],
   "source": [
    "sns.boxplot(y='Fare', x='Survived', data=df_train)"
   ]
  },
  {
   "cell_type": "code",
   "execution_count": 8,
   "metadata": {},
   "outputs": [
    {
     "name": "stderr",
     "output_type": "stream",
     "text": [
      "/home/azapala/.local/lib/python3.8/site-packages/seaborn/categorical.py:3714: UserWarning: The `factorplot` function has been renamed to `catplot`. The original name will be removed in a future release. Please update your code. Note that the default `kind` in `factorplot` (`'point'`) has changed `'strip'` in `catplot`.\n",
      "  warnings.warn(msg)\n"
     ]
    },
    {
     "data": {
      "text/plain": [
       "<seaborn.axisgrid.FacetGrid at 0x7fa8e8b9d6a0>"
      ]
     },
     "execution_count": 8,
     "metadata": {},
     "output_type": "execute_result"
    },
    {
     "data": {
      "image/png": "[encoded data removed]",
      "text/plain": [
       "<Figure size 360x360 with 1 Axes>"
      ]
     },
     "metadata": {
      "needs_background": "light"
     },
     "output_type": "display_data"
    }
   ],
   "source": [
    "sns.factorplot(data=df_train, x=\"Sex\", y=\"Survived\", kind=\"bar\")"
   ]
  },
  {
   "cell_type": "code",
   "execution_count": 9,
   "metadata": {},
   "outputs": [
    {
     "name": "stderr",
     "output_type": "stream",
     "text": [
      "/home/azapala/.local/lib/python3.8/site-packages/seaborn/categorical.py:3714: UserWarning: The `factorplot` function has been renamed to `catplot`. The original name will be removed in a future release. Please update your code. Note that the default `kind` in `factorplot` (`'point'`) has changed `'strip'` in `catplot`.\n",
      "  warnings.warn(msg)\n"
     ]
    },
    {
     "data": {
      "text/plain": [
       "<seaborn.axisgrid.FacetGrid at 0x7fa8e8b12af0>"
      ]
     },
     "execution_count": 9,
     "metadata": {},
     "output_type": "execute_result"
    },
    {
     "data": {
      "image/png": "[encoded data removed]",
      "text/plain": [
       "<Figure size 360x360 with 1 Axes>"
      ]
     },
     "metadata": {
      "needs_background": "light"
     },
     "output_type": "display_data"
    }
   ],
   "source": [
    "sns.factorplot(data=df_train, x=\"Embarked\", y=\"Survived\", kind=\"bar\")"
   ]
  },
  {
   "cell_type": "code",
   "execution_count": 10,
   "metadata": {},
   "outputs": [
    {
     "data": {
      "text/plain": [
       "83"
      ]
     },
     "execution_count": 10,
     "metadata": {},
     "output_type": "execute_result"
    }
   ],
   "source": [
    "df_train.Age.nunique()"
   ]
  },
  {
   "cell_type": "code",
   "execution_count": 11,
   "metadata": {},
   "outputs": [
    {
     "data": {
      "text/plain": [
       "220"
      ]
     },
     "execution_count": 11,
     "metadata": {},
     "output_type": "execute_result"
    }
   ],
   "source": [
    "df_train.Fare.nunique()"
   ]
  },
  {
   "cell_type": "code",
   "execution_count": 12,
   "metadata": {},
   "outputs": [
    {
     "data": {
      "text/html": [
       "<div>\n",
       "<style scoped>\n",
       "    .dataframe tbody tr th:only-of-type {\n",
       "        vertical-align: middle;\n",
       "    }\n",
       "\n",
       "    .dataframe tbody tr th {\n",
       "        vertical-align: top;\n",
       "    }\n",
       "\n",
       "    .dataframe thead th {\n",
       "        text-align: right;\n",
       "    }\n",
       "</style>\n",
       "<table border=\"1\" class=\"dataframe\">\n",
       "  <thead>\n",
       "    <tr style=\"text-align: right;\">\n",
       "      <th></th>\n",
       "      <th></th>\n",
       "      <th>counts</th>\n",
       "    </tr>\n",
       "    <tr>\n",
       "      <th>SibSp</th>\n",
       "      <th>Parch</th>\n",
       "      <th></th>\n",
       "    </tr>\n",
       "  </thead>\n",
       "  <tbody>\n",
       "    <tr>\n",
       "      <th rowspan=\"6\" valign=\"top\">0</th>\n",
       "      <th>0</th>\n",
       "      <td>429</td>\n",
       "    </tr>\n",
       "    <tr>\n",
       "      <th>1</th>\n",
       "      <td>31</td>\n",
       "    </tr>\n",
       "    <tr>\n",
       "      <th>2</th>\n",
       "      <td>21</td>\n",
       "    </tr>\n",
       "    <tr>\n",
       "      <th>3</th>\n",
       "      <td>1</td>\n",
       "    </tr>\n",
       "    <tr>\n",
       "      <th>4</th>\n",
       "      <td>1</td>\n",
       "    </tr>\n",
       "    <tr>\n",
       "      <th>5</th>\n",
       "      <td>1</td>\n",
       "    </tr>\n",
       "    <tr>\n",
       "      <th rowspan=\"7\" valign=\"top\">1</th>\n",
       "      <th>0</th>\n",
       "      <td>96</td>\n",
       "    </tr>\n",
       "    <tr>\n",
       "      <th>1</th>\n",
       "      <td>44</td>\n",
       "    </tr>\n",
       "    <tr>\n",
       "      <th>2</th>\n",
       "      <td>18</td>\n",
       "    </tr>\n",
       "    <tr>\n",
       "      <th>3</th>\n",
       "      <td>1</td>\n",
       "    </tr>\n",
       "    <tr>\n",
       "      <th>4</th>\n",
       "      <td>2</td>\n",
       "    </tr>\n",
       "    <tr>\n",
       "      <th>5</th>\n",
       "      <td>2</td>\n",
       "    </tr>\n",
       "    <tr>\n",
       "      <th>6</th>\n",
       "      <td>1</td>\n",
       "    </tr>\n",
       "    <tr>\n",
       "      <th rowspan=\"4\" valign=\"top\">2</th>\n",
       "      <th>0</th>\n",
       "      <td>14</td>\n",
       "    </tr>\n",
       "    <tr>\n",
       "      <th>1</th>\n",
       "      <td>5</td>\n",
       "    </tr>\n",
       "    <tr>\n",
       "      <th>2</th>\n",
       "      <td>3</td>\n",
       "    </tr>\n",
       "    <tr>\n",
       "      <th>3</th>\n",
       "      <td>1</td>\n",
       "    </tr>\n",
       "    <tr>\n",
       "      <th rowspan=\"3\" valign=\"top\">3</th>\n",
       "      <th>0</th>\n",
       "      <td>2</td>\n",
       "    </tr>\n",
       "    <tr>\n",
       "      <th>1</th>\n",
       "      <td>6</td>\n",
       "    </tr>\n",
       "    <tr>\n",
       "      <th>2</th>\n",
       "      <td>5</td>\n",
       "    </tr>\n",
       "    <tr>\n",
       "      <th rowspan=\"2\" valign=\"top\">4</th>\n",
       "      <th>1</th>\n",
       "      <td>8</td>\n",
       "    </tr>\n",
       "    <tr>\n",
       "      <th>2</th>\n",
       "      <td>8</td>\n",
       "    </tr>\n",
       "    <tr>\n",
       "      <th>5</th>\n",
       "      <th>2</th>\n",
       "      <td>5</td>\n",
       "    </tr>\n",
       "    <tr>\n",
       "      <th>8</th>\n",
       "      <th>2</th>\n",
       "      <td>7</td>\n",
       "    </tr>\n",
       "  </tbody>\n",
       "</table>\n",
       "</div>"
      ],
      "text/plain": [
       "             counts\n",
       "SibSp Parch        \n",
       "0     0         429\n",
       "      1          31\n",
       "      2          21\n",
       "      3           1\n",
       "      4           1\n",
       "      5           1\n",
       "1     0          96\n",
       "      1          44\n",
       "      2          18\n",
       "      3           1\n",
       "      4           2\n",
       "      5           2\n",
       "      6           1\n",
       "2     0          14\n",
       "      1           5\n",
       "      2           3\n",
       "      3           1\n",
       "3     0           2\n",
       "      1           6\n",
       "      2           5\n",
       "4     1           8\n",
       "      2           8\n",
       "5     2           5\n",
       "8     2           7"
      ]
     },
     "execution_count": 12,
     "metadata": {},
     "output_type": "execute_result"
    }
   ],
   "source": [
    "df_train.groupby(['SibSp', 'Parch']).size().to_frame(name='counts')"
   ]
  },
  {
   "cell_type": "markdown",
   "metadata": {},
   "source": [
    "Age and fare are a categorical features. SibSp, Parch could be treat as categorical or continous features "
   ]
  },
  {
   "cell_type": "markdown",
   "metadata": {},
   "source": [
    "## Add simple features"
   ]
  },
  {
   "cell_type": "code",
   "execution_count": 13,
   "metadata": {},
   "outputs": [],
   "source": [
    "for df in [df_train, df_test, df_train_all]:\n",
    "    df['FamilySize'] = 0 \n",
    "    df.loc[:, 'FamilySize'] =  df['Parch'] + df['SibSp']\n",
    "    df.loc['Single'] = 0\n",
    "    df.loc[df['FamilySize'] > 0, 'Single'] = 1"
   ]
  },
  {
   "cell_type": "code",
   "execution_count": 14,
   "metadata": {},
   "outputs": [],
   "source": [
    "for df in [df_train, df_test, df_train_all]:\n",
    "    df['AgeGroup'] = \"baby\"\n",
    "    df.loc[(df.Age > 5) & (df.Age <= 14),'AgeGroup'] = \"teenager\"\n",
    "    df.loc[(df.Age > 14) & (df.Age <= 60), 'AgeGroup' ] = \"adult\"\n",
    "    df.loc[(df.Age > 60), 'AgeGroup' ] = \"old\"    "
   ]
  },
  {
   "cell_type": "code",
   "execution_count": 15,
   "metadata": {},
   "outputs": [],
   "source": [
    "model_columns = ['Pclass', 'Sex', 'Age', 'SibSp', 'Parch', 'Fare', 'Embarked', 'FamilySize', 'Single', 'AgeGroup']\n",
    "\n",
    "countinous_columns = ['Age', 'Parch', 'SibSp', 'FamilySize']\n",
    "cat_columns = [col for col in model_columns if col not in countinous_columns]"
   ]
  },
  {
   "cell_type": "code",
   "execution_count": 16,
   "metadata": {},
   "outputs": [],
   "source": [
    "for dataset in [df_test, df_train, df_train_all]:\n",
    "    dataset[cat_columns] = dataset[cat_columns].astype('category')"
   ]
  },
  {
   "cell_type": "code",
   "execution_count": 17,
   "metadata": {},
   "outputs": [
    {
     "data": {
      "text/plain": [
       "Pclass        category\n",
       "Sex           category\n",
       "Age            float64\n",
       "SibSp            int64\n",
       "Parch            int64\n",
       "Fare          category\n",
       "Embarked      category\n",
       "FamilySize       int64\n",
       "Single        category\n",
       "AgeGroup      category\n",
       "dtype: object"
      ]
     },
     "execution_count": 17,
     "metadata": {},
     "output_type": "execute_result"
    }
   ],
   "source": [
    "df_train[model_columns].dtypes"
   ]
  },
  {
   "cell_type": "markdown",
   "metadata": {},
   "source": [
    "## Trening"
   ]
  },
  {
   "cell_type": "code",
   "execution_count": 18,
   "metadata": {},
   "outputs": [],
   "source": [
    "def generate_lgb_dataset(df, model_columns, target_columns_name):\n",
    "    return lgb.Dataset(df[model_columns], label=df[target_columns_name])"
   ]
  },
  {
   "cell_type": "code",
   "execution_count": 19,
   "metadata": {},
   "outputs": [],
   "source": [
    "d_train = generate_lgb_dataset(df_train, model_columns, 'Survived')\n",
    "d_test =  generate_lgb_dataset(df_test, model_columns, 'Survived')\n",
    "\n",
    "params={\n",
    "    'application': 'binary',\n",
    "    'metric': 'auc',\n",
    "    'boosting': 'gbdt',\n",
    "    'verbose': -1\n",
    "}"
   ]
  },
  {
   "cell_type": "markdown",
   "metadata": {},
   "source": [
    "### CV"
   ]
  },
  {
   "cell_type": "code",
   "execution_count": 20,
   "metadata": {},
   "outputs": [],
   "source": [
    "history = lgb.cv(params, d_train, num_boost_round=30, nfold=5)"
   ]
  },
  {
   "cell_type": "markdown",
   "metadata": {},
   "source": [
    "Mean auc metric based on 5-fold cross validation:"
   ]
  },
  {
   "cell_type": "code",
   "execution_count": 21,
   "metadata": {},
   "outputs": [
    {
     "data": {
      "text/plain": [
       "0.853826192102639"
      ]
     },
     "execution_count": 21,
     "metadata": {},
     "output_type": "execute_result"
    }
   ],
   "source": [
    "history['auc-mean'][-1]"
   ]
  },
  {
   "cell_type": "code",
   "execution_count": 22,
   "metadata": {},
   "outputs": [
    {
     "data": {
      "text/plain": [
       "Text(0, 0.5, 'Mean auc')"
      ]
     },
     "execution_count": 22,
     "metadata": {},
     "output_type": "execute_result"
    },
    {
     "data": {
      "image/png": "[encoded data removed]",
      "text/plain": [
       "<Figure size 432x288 with 1 Axes>"
      ]
     },
     "metadata": {
      "needs_background": "light"
     },
     "output_type": "display_data"
    }
   ],
   "source": [
    "plt.plot(history['auc-mean'])\n",
    "plt.title('Training history')\n",
    "plt.xlabel('No epoch')\n",
    "plt.ylabel('Mean auc')"
   ]
  },
  {
   "cell_type": "markdown",
   "metadata": {},
   "source": [
    "### test set"
   ]
  },
  {
   "cell_type": "code",
   "execution_count": 23,
   "metadata": {},
   "outputs": [],
   "source": [
    "def train_and_evaluate(params, d_train, d_test):\n",
    "    history = {}\n",
    "    bst = lgb.train(params, d_train, valid_sets=[d_train, d_test], valid_names=['train', 'test'], evals_result=history, num_boost_round=30)\n",
    "    \n",
    "    plt.plot(history['train']['auc'])\n",
    "    plt.plot(history['test']['auc'])\n",
    "    plt.title('History of training')\n",
    "    plt.xlabel('epoch')\n",
    "    plt.ylabel('auc')\n",
    "    plt.legend(['train','test'])\n",
    "    plt.show()\n",
    "    \n",
    "    print(f\"AUC: {history['test']['auc'][-1]}\")"
   ]
  },
  {
   "cell_type": "code",
   "execution_count": 24,
   "metadata": {},
   "outputs": [
    {
     "name": "stderr",
     "output_type": "stream",
     "text": [
      "/home/azapala/.local/lib/python3.8/site-packages/lightgbm/basic.py:1286: UserWarning: Overriding the parameters from Reference Dataset.\n",
      "  warnings.warn('Overriding the parameters from Reference Dataset.')\n",
      "/home/azapala/.local/lib/python3.8/site-packages/lightgbm/basic.py:1098: UserWarning: categorical_column in param dict is overridden.\n",
      "  warnings.warn('{} in param dict is overridden.'.format(cat_alias))\n"
     ]
    },
    {
     "name": "stdout",
     "output_type": "stream",
     "text": [
      "[1]\ttrain's auc: 0.888823\ttest's auc: 0.854347\n",
      "[2]\ttrain's auc: 0.890638\ttest's auc: 0.855877\n",
      "[3]\ttrain's auc: 0.894147\ttest's auc: 0.858108\n",
      "[4]\ttrain's auc: 0.894462\ttest's auc: 0.857853\n",
      "[5]\ttrain's auc: 0.896197\ttest's auc: 0.855367\n",
      "[6]\ttrain's auc: 0.898889\ttest's auc: 0.859128\n",
      "[7]\ttrain's auc: 0.899832\ttest's auc: 0.859128\n",
      "[8]\ttrain's auc: 0.900805\ttest's auc: 0.858873\n",
      "[9]\ttrain's auc: 0.903836\ttest's auc: 0.866331\n",
      "[10]\ttrain's auc: 0.906427\ttest's auc: 0.869901\n",
      "[11]\ttrain's auc: 0.908356\ttest's auc: 0.874108\n",
      "[12]\ttrain's auc: 0.908901\ttest's auc: 0.874363\n",
      "[13]\ttrain's auc: 0.909672\ttest's auc: 0.875\n",
      "[14]\ttrain's auc: 0.911492\ttest's auc: 0.874426\n",
      "[15]\ttrain's auc: 0.913362\ttest's auc: 0.876466\n",
      "[16]\ttrain's auc: 0.913953\ttest's auc: 0.873853\n",
      "[17]\ttrain's auc: 0.914523\ttest's auc: 0.873534\n",
      "[18]\ttrain's auc: 0.915278\ttest's auc: 0.874235\n",
      "[19]\ttrain's auc: 0.915974\ttest's auc: 0.876657\n",
      "[20]\ttrain's auc: 0.920665\ttest's auc: 0.880801\n",
      "[21]\ttrain's auc: 0.923323\ttest's auc: 0.880801\n",
      "[22]\ttrain's auc: 0.9257\ttest's auc: 0.880992\n",
      "[23]\ttrain's auc: 0.926497\ttest's auc: 0.881502\n",
      "[24]\ttrain's auc: 0.928136\ttest's auc: 0.880737\n",
      "[25]\ttrain's auc: 0.929482\ttest's auc: 0.88284\n",
      "[26]\ttrain's auc: 0.930962\ttest's auc: 0.882458\n",
      "[27]\ttrain's auc: 0.932995\ttest's auc: 0.882458\n",
      "[28]\ttrain's auc: 0.934873\ttest's auc: 0.877677\n",
      "[29]\ttrain's auc: 0.935783\ttest's auc: 0.877868\n",
      "[30]\ttrain's auc: 0.937854\ttest's auc: 0.878378\n"
     ]
    },
    {
     "data": {
      "image/png": "[encoded data removed]",
      "text/plain": [
       "<Figure size 432x288 with 1 Axes>"
      ]
     },
     "metadata": {
      "needs_background": "light"
     },
     "output_type": "display_data"
    },
    {
     "name": "stdout",
     "output_type": "stream",
     "text": [
      "AUC: 0.8783783783783784\n"
     ]
    }
   ],
   "source": [
    "train_and_evaluate(params, d_train, d_test)"
   ]
  },
  {
   "cell_type": "markdown",
   "metadata": {},
   "source": [
    "## HP tuning"
   ]
  },
  {
   "cell_type": "code",
   "execution_count": 25,
   "metadata": {},
   "outputs": [
    {
     "name": "stderr",
     "output_type": "stream",
     "text": [
      "\u001b[32m[I 2021-03-11 19:00:16,655]\u001b[0m A new study created in memory with name: automatic-fine-tuning\u001b[0m\n"
     ]
    }
   ],
   "source": [
    "d_train = generate_lgb_dataset(df_train, model_columns, 'Survived') # different hps change inner option of dataset, we can't reuse datasets for training\n",
    "hp_tuner = optuna.integration.lightgbm.LightGBMTunerCV(params, d_train, num_boost_round=30, study=optuna.create_study(study_name='automatic-fine-tuning', direction='maximize'), verbose_eval=0, return_cvbooster=True)"
   ]
  },
  {
   "cell_type": "code",
   "execution_count": 26,
   "metadata": {},
   "outputs": [
    {
     "name": "stderr",
     "output_type": "stream",
     "text": [
      "feature_fraction, val_score: 0.851265:  14%|#4        | 1/7 [00:00<00:01,  5.31it/s]\u001b[32m[I 2021-03-11 19:00:16,855]\u001b[0m Trial 0 finished with value: 0.8512649282736202 and parameters: {'feature_fraction': 0.7}. Best is trial 0 with value: 0.8512649282736202.\u001b[0m\n",
      "feature_fraction, val_score: 0.853636:  29%|##8       | 2/7 [00:00<00:00,  5.20it/s]\u001b[32m[I 2021-03-11 19:00:17,050]\u001b[0m Trial 1 finished with value: 0.8536361780478803 and parameters: {'feature_fraction': 0.8999999999999999}. Best is trial 1 with value: 0.8536361780478803.\u001b[0m\n",
      "feature_fraction, val_score: 0.853826:  43%|####2     | 3/7 [00:00<00:00,  5.72it/s]\u001b[32m[I 2021-03-11 19:00:17,204]\u001b[0m Trial 2 finished with value: 0.853826192102639 and parameters: {'feature_fraction': 1.0}. Best is trial 2 with value: 0.853826192102639.\u001b[0m\n",
      "feature_fraction, val_score: 0.853826:  57%|#####7    | 4/7 [00:00<00:00,  6.18it/s]\u001b[32m[I 2021-03-11 19:00:17,347]\u001b[0m Trial 3 finished with value: 0.8531568244097393 and parameters: {'feature_fraction': 0.6}. Best is trial 2 with value: 0.853826192102639.\u001b[0m\n",
      "feature_fraction, val_score: 0.853826:  71%|#######1  | 5/7 [00:00<00:00,  6.01it/s]\u001b[32m[I 2021-03-11 19:00:17,521]\u001b[0m Trial 4 finished with value: 0.8511612842437518 and parameters: {'feature_fraction': 0.8}. Best is trial 2 with value: 0.853826192102639.\u001b[0m\n",
      "feature_fraction, val_score: 0.853826:  86%|########5 | 6/7 [00:00<00:00,  6.77it/s]\u001b[32m[I 2021-03-11 19:00:17,633]\u001b[0m Trial 5 finished with value: 0.8448425317409841 and parameters: {'feature_fraction': 0.4}. Best is trial 2 with value: 0.853826192102639.\u001b[0m\n",
      "feature_fraction, val_score: 0.853826: 100%|##########| 7/7 [00:01<00:00,  6.25it/s]\u001b[32m[I 2021-03-11 19:00:17,818]\u001b[0m Trial 6 finished with value: 0.8528800477390682 and parameters: {'feature_fraction': 0.5}. Best is trial 2 with value: 0.853826192102639.\u001b[0m\n",
      "feature_fraction, val_score: 0.853826: 100%|##########| 7/7 [00:01<00:00,  6.07it/s]\n",
      "num_leaves, val_score: 0.853826:   5%|5         | 1/20 [00:00<00:03,  5.48it/s]\u001b[32m[I 2021-03-11 19:00:18,007]\u001b[0m Trial 7 finished with value: 0.853826192102639 and parameters: {'num_leaves': 159}. Best is trial 7 with value: 0.853826192102639.\u001b[0m\n",
      "num_leaves, val_score: 0.853826:  10%|#         | 2/20 [00:00<00:02,  6.37it/s]\u001b[32m[I 2021-03-11 19:00:18,146]\u001b[0m Trial 8 finished with value: 0.853826192102639 and parameters: {'num_leaves': 107}. Best is trial 7 with value: 0.853826192102639.\u001b[0m\n",
      "num_leaves, val_score: 0.853826:  15%|#5        | 3/20 [00:00<00:02,  6.11it/s]\u001b[32m[I 2021-03-11 19:00:18,318]\u001b[0m Trial 9 finished with value: 0.853826192102639 and parameters: {'num_leaves': 131}. Best is trial 7 with value: 0.853826192102639.\u001b[0m\n",
      "num_leaves, val_score: 0.853826:  20%|##        | 4/20 [00:00<00:02,  5.80it/s]\u001b[32m[I 2021-03-11 19:00:18,503]\u001b[0m Trial 10 finished with value: 0.853826192102639 and parameters: {'num_leaves': 141}. Best is trial 7 with value: 0.853826192102639.\u001b[0m\n",
      "num_leaves, val_score: 0.853826:  25%|##5       | 5/20 [00:00<00:02,  5.89it/s]\u001b[32m[I 2021-03-11 19:00:18,669]\u001b[0m Trial 11 finished with value: 0.853826192102639 and parameters: {'num_leaves': 58}. Best is trial 7 with value: 0.853826192102639.\u001b[0m\n",
      "num_leaves, val_score: 0.853826:  30%|###       | 6/20 [00:01<00:02,  5.62it/s]\u001b[32m[I 2021-03-11 19:00:18,862]\u001b[0m Trial 12 finished with value: 0.853826192102639 and parameters: {'num_leaves': 114}. Best is trial 7 with value: 0.853826192102639.\u001b[0m\n",
      "num_leaves, val_score: 0.853826:  35%|###5      | 7/20 [00:01<00:02,  5.48it/s]\u001b[32m[I 2021-03-11 19:00:19,055]\u001b[0m Trial 13 finished with value: 0.853826192102639 and parameters: {'num_leaves': 241}. Best is trial 7 with value: 0.853826192102639.\u001b[0m\n",
      "num_leaves, val_score: 0.853826:  40%|####      | 8/20 [00:01<00:02,  4.56it/s]\u001b[32m[I 2021-03-11 19:00:19,354]\u001b[0m Trial 14 finished with value: 0.853826192102639 and parameters: {'num_leaves': 62}. Best is trial 7 with value: 0.853826192102639.\u001b[0m\n",
      "num_leaves, val_score: 0.853826:  45%|####5     | 9/20 [00:02<00:03,  3.13it/s]\u001b[32m[I 2021-03-11 19:00:19,892]\u001b[0m Trial 15 finished with value: 0.853826192102639 and parameters: {'num_leaves': 56}. Best is trial 7 with value: 0.853826192102639.\u001b[0m\n",
      "num_leaves, val_score: 0.853826:  50%|#####     | 10/20 [00:02<00:02,  3.82it/s]\u001b[32m[I 2021-03-11 19:00:20,026]\u001b[0m Trial 16 finished with value: 0.853826192102639 and parameters: {'num_leaves': 134}. Best is trial 7 with value: 0.853826192102639.\u001b[0m\n",
      "num_leaves, val_score: 0.853826:  55%|#####5    | 11/20 [00:02<00:02,  3.38it/s]\u001b[32m[I 2021-03-11 19:00:20,400]\u001b[0m Trial 17 finished with value: 0.853826192102639 and parameters: {'num_leaves': 215}. Best is trial 7 with value: 0.853826192102639.\u001b[0m\n",
      "num_leaves, val_score: 0.853826:  60%|######    | 12/20 [00:02<00:02,  3.18it/s]\u001b[32m[I 2021-03-11 19:00:20,756]\u001b[0m Trial 18 finished with value: 0.853826192102639 and parameters: {'num_leaves': 188}. Best is trial 7 with value: 0.853826192102639.\u001b[0m\n",
      "num_leaves, val_score: 0.853826:  65%|######5   | 13/20 [00:03<00:02,  3.15it/s]\u001b[32m[I 2021-03-11 19:00:21,082]\u001b[0m Trial 19 finished with value: 0.853826192102639 and parameters: {'num_leaves': 176}. Best is trial 7 with value: 0.853826192102639.\u001b[0m\n",
      "num_leaves, val_score: 0.853891:  70%|#######   | 14/20 [00:03<00:01,  3.82it/s]\u001b[32m[I 2021-03-11 19:00:21,212]\u001b[0m Trial 20 finished with value: 0.8538913622123289 and parameters: {'num_leaves': 15}. Best is trial 20 with value: 0.8538913622123289.\u001b[0m\n",
      "num_leaves, val_score: 0.860830:  75%|#######5  | 15/20 [00:03<00:01,  4.12it/s]\u001b[32m[I 2021-03-11 19:00:21,410]\u001b[0m Trial 21 finished with value: 0.8608300159391955 and parameters: {'num_leaves': 4}. Best is trial 21 with value: 0.8608300159391955.\u001b[0m\n",
      "num_leaves, val_score: 0.860830:  75%|#######5  | 15/20 [00:03<00:01,  4.12it/s]\u001b[32m[I 2021-03-11 19:00:21,502]\u001b[0m Trial 22 finished with value: 0.8379121224255843 and parameters: {'num_leaves': 2}. Best is trial 21 with value: 0.8608300159391955.\u001b[0m\n",
      "num_leaves, val_score: 0.860830:  85%|########5 | 17/20 [00:03<00:00,  4.93it/s]\u001b[32m[I 2021-03-11 19:00:21,725]\u001b[0m Trial 23 finished with value: 0.8576323620631442 and parameters: {'num_leaves': 8}. Best is trial 21 with value: 0.8608300159391955.\u001b[0m\n",
      "num_leaves, val_score: 0.860830:  90%|######### | 18/20 [00:04<00:00,  5.30it/s]\u001b[32m[I 2021-03-11 19:00:21,871]\u001b[0m Trial 24 finished with value: 0.853826192102639 and parameters: {'num_leaves': 29}. Best is trial 21 with value: 0.8608300159391955.\u001b[0m\n",
      "num_leaves, val_score: 0.860830:  95%|#########5| 19/20 [00:04<00:00,  5.64it/s]\u001b[32m[I 2021-03-11 19:00:22,016]\u001b[0m Trial 25 finished with value: 0.853826192102639 and parameters: {'num_leaves': 87}. Best is trial 21 with value: 0.8608300159391955.\u001b[0m\n",
      "num_leaves, val_score: 0.860830: 100%|##########| 20/20 [00:04<00:00,  5.90it/s]\u001b[32m[I 2021-03-11 19:00:22,165]\u001b[0m Trial 26 finished with value: 0.853826192102639 and parameters: {'num_leaves': 38}. Best is trial 21 with value: 0.8608300159391955.\u001b[0m\n",
      "num_leaves, val_score: 0.860830: 100%|##########| 20/20 [00:04<00:00,  4.60it/s]\n",
      "bagging, val_score: 0.860830:  10%|#         | 1/10 [00:00<00:00,  9.19it/s]\u001b[32m[I 2021-03-11 19:00:22,283]\u001b[0m Trial 27 finished with value: 0.8594371029923288 and parameters: {'bagging_fraction': 0.742579962351807, 'bagging_freq': 5}. Best is trial 27 with value: 0.8594371029923288.\u001b[0m\n",
      "bagging, val_score: 0.860830:  20%|##        | 2/10 [00:00<00:00,  9.54it/s]\u001b[32m[I 2021-03-11 19:00:22,385]\u001b[0m Trial 28 finished with value: 0.8564887444153928 and parameters: {'bagging_fraction': 0.5560876790507047, 'bagging_freq': 7}. Best is trial 27 with value: 0.8594371029923288.\u001b[0m\n",
      "bagging, val_score: 0.862620:  30%|###       | 3/10 [00:00<00:00,  8.93it/s]\u001b[32m[I 2021-03-11 19:00:22,504]\u001b[0m Trial 29 finished with value: 0.8626202310005576 and parameters: {'bagging_fraction': 0.8712573332770422, 'bagging_freq': 1}. Best is trial 29 with value: 0.8626202310005576.\u001b[0m\n",
      "bagging, val_score: 0.862620:  40%|####      | 4/10 [00:00<00:00,  6.02it/s]\u001b[32m[I 2021-03-11 19:00:22,754]\u001b[0m Trial 30 finished with value: 0.8598662049796246 and parameters: {'bagging_fraction': 0.8580520198774271, 'bagging_freq': 4}. Best is trial 29 with value: 0.8626202310005576.\u001b[0m\n"
     ]
    },
    {
     "name": "stderr",
     "output_type": "stream",
     "text": [
      "bagging, val_score: 0.862620:  50%|#####     | 5/10 [00:00<00:00,  6.89it/s]\u001b[32m[I 2021-03-11 19:00:22,862]\u001b[0m Trial 31 finished with value: 0.8570583939886462 and parameters: {'bagging_fraction': 0.4060622937872221, 'bagging_freq': 2}. Best is trial 29 with value: 0.8626202310005576.\u001b[0m\n",
      "bagging, val_score: 0.862620:  60%|######    | 6/10 [00:00<00:00,  6.83it/s]\u001b[32m[I 2021-03-11 19:00:23,011]\u001b[0m Trial 32 finished with value: 0.861201799637246 and parameters: {'bagging_fraction': 0.7599186371846085, 'bagging_freq': 3}. Best is trial 29 with value: 0.8626202310005576.\u001b[0m\n",
      "bagging, val_score: 0.862620:  70%|#######   | 7/10 [00:01<00:00,  5.07it/s]\u001b[32m[I 2021-03-11 19:00:23,313]\u001b[0m Trial 33 finished with value: 0.8572429117690937 and parameters: {'bagging_fraction': 0.8717387545624812, 'bagging_freq': 7}. Best is trial 29 with value: 0.8626202310005576.\u001b[0m\n",
      "bagging, val_score: 0.862620:  80%|########  | 8/10 [00:01<00:00,  4.68it/s]\u001b[32m[I 2021-03-11 19:00:23,562]\u001b[0m Trial 34 finished with value: 0.8574847478387865 and parameters: {'bagging_fraction': 0.6000948774384072, 'bagging_freq': 1}. Best is trial 29 with value: 0.8626202310005576.\u001b[0m\n",
      "bagging, val_score: 0.862620:  90%|######### | 9/10 [00:01<00:00,  5.58it/s]\u001b[32m[I 2021-03-11 19:00:23,665]\u001b[0m Trial 35 finished with value: 0.8608300159391955 and parameters: {'bagging_fraction': 0.9934880439043791, 'bagging_freq': 1}. Best is trial 29 with value: 0.8626202310005576.\u001b[0m\n",
      "bagging, val_score: 0.862620: 100%|##########| 10/10 [00:01<00:00,  5.20it/s]\u001b[32m[I 2021-03-11 19:00:23,887]\u001b[0m Trial 36 finished with value: 0.8618939376094348 and parameters: {'bagging_fraction': 0.9885127138337874, 'bagging_freq': 3}. Best is trial 29 with value: 0.8626202310005576.\u001b[0m\n",
      "bagging, val_score: 0.862620: 100%|##########| 10/10 [00:01<00:00,  5.83it/s]\n",
      "feature_fraction_stage2, val_score: 0.862620:  33%|###3      | 1/3 [00:00<00:00,  9.72it/s]\u001b[32m[I 2021-03-11 19:00:23,996]\u001b[0m Trial 37 finished with value: 0.8626202310005576 and parameters: {'feature_fraction': 0.9520000000000001}. Best is trial 37 with value: 0.8626202310005576.\u001b[0m\n",
      "feature_fraction_stage2, val_score: 0.862620:  67%|######6   | 2/3 [00:00<00:00,  9.02it/s]\u001b[32m[I 2021-03-11 19:00:24,113]\u001b[0m Trial 38 finished with value: 0.8626202310005576 and parameters: {'feature_fraction': 0.9840000000000001}. Best is trial 37 with value: 0.8626202310005576.\u001b[0m\n",
      "feature_fraction_stage2, val_score: 0.862620: 100%|##########| 3/3 [00:00<00:00,  9.37it/s]\u001b[32m[I 2021-03-11 19:00:24,216]\u001b[0m Trial 39 finished with value: 0.8604845358396345 and parameters: {'feature_fraction': 0.92}. Best is trial 37 with value: 0.8626202310005576.\u001b[0m\n",
      "feature_fraction_stage2, val_score: 0.862620: 100%|##########| 3/3 [00:00<00:00,  9.22it/s]\n",
      "regularization_factors, val_score: 0.862620:   5%|5         | 1/20 [00:00<00:03,  6.33it/s]\u001b[32m[I 2021-03-11 19:00:24,379]\u001b[0m Trial 40 finished with value: 0.8565315368368156 and parameters: {'lambda_l1': 0.0001571173762934159, 'lambda_l2': 2.1868546732376744}. Best is trial 40 with value: 0.8565315368368156.\u001b[0m\n",
      "regularization_factors, val_score: 0.862620:  10%|#         | 2/20 [00:00<00:02,  7.32it/s]\u001b[32m[I 2021-03-11 19:00:24,501]\u001b[0m Trial 41 finished with value: 0.8626202310005576 and parameters: {'lambda_l1': 7.521395341115066e-05, 'lambda_l2': 8.982620362989999e-08}. Best is trial 41 with value: 0.8626202310005576.\u001b[0m\n",
      "regularization_factors, val_score: 0.862620:  15%|#5        | 3/20 [00:00<00:02,  7.84it/s]\u001b[32m[I 2021-03-11 19:00:24,619]\u001b[0m Trial 42 finished with value: 0.8626202310005576 and parameters: {'lambda_l1': 5.307514040631001e-07, 'lambda_l2': 7.959695152334268e-06}. Best is trial 41 with value: 0.8626202310005576.\u001b[0m\n",
      "regularization_factors, val_score: 0.862620:  20%|##        | 4/20 [00:00<00:01,  8.48it/s]\u001b[32m[I 2021-03-11 19:00:24,721]\u001b[0m Trial 43 finished with value: 0.8626202310005576 and parameters: {'lambda_l1': 1.2614551724768733e-07, 'lambda_l2': 5.6881146575614235e-06}. Best is trial 41 with value: 0.8626202310005576.\u001b[0m\n",
      "regularization_factors, val_score: 0.862620:  25%|##5       | 5/20 [00:00<00:01,  8.08it/s]\u001b[32m[I 2021-03-11 19:00:24,855]\u001b[0m Trial 44 finished with value: 0.8561420865427649 and parameters: {'lambda_l1': 2.4778932320923398e-06, 'lambda_l2': 2.4213498943354046}. Best is trial 41 with value: 0.8626202310005576.\u001b[0m\n",
      "regularization_factors, val_score: 0.862620:  30%|###       | 6/20 [00:00<00:01,  8.53it/s]\u001b[32m[I 2021-03-11 19:00:24,960]\u001b[0m Trial 45 finished with value: 0.8544625821496714 and parameters: {'lambda_l1': 1.589287017218618, 'lambda_l2': 0.00018606212545602664}. Best is trial 41 with value: 0.8626202310005576.\u001b[0m\n",
      "regularization_factors, val_score: 0.862620:  35%|###5      | 7/20 [00:00<00:01,  8.40it/s]\u001b[32m[I 2021-03-11 19:00:25,083]\u001b[0m Trial 46 finished with value: 0.8548477139424776 and parameters: {'lambda_l1': 1.5259889996520903, 'lambda_l2': 3.838201942332424e-08}. Best is trial 41 with value: 0.8626202310005576.\u001b[0m\n",
      "regularization_factors, val_score: 0.862620:  40%|####      | 8/20 [00:00<00:01,  8.59it/s]\u001b[32m[I 2021-03-11 19:00:25,194]\u001b[0m Trial 47 finished with value: 0.862471439003133 and parameters: {'lambda_l1': 0.19473620158640517, 'lambda_l2': 0.24366116719984163}. Best is trial 41 with value: 0.8626202310005576.\u001b[0m\n",
      "regularization_factors, val_score: 0.862620:  45%|####5     | 9/20 [00:01<00:01,  8.81it/s]\u001b[32m[I 2021-03-11 19:00:25,301]\u001b[0m Trial 48 finished with value: 0.8626202310005576 and parameters: {'lambda_l1': 3.1564664073847367e-06, 'lambda_l2': 8.441324910782001e-08}. Best is trial 41 with value: 0.8626202310005576.\u001b[0m\n",
      "regularization_factors, val_score: 0.862620:  50%|#####     | 10/20 [00:01<00:01,  9.01it/s]\u001b[32m[I 2021-03-11 19:00:25,406]\u001b[0m Trial 49 finished with value: 0.8626202310005576 and parameters: {'lambda_l1': 1.7099151885377407e-05, 'lambda_l2': 3.390221731180364e-07}. Best is trial 41 with value: 0.8626202310005576.\u001b[0m\n",
      "regularization_factors, val_score: 0.862620:  55%|#####5    | 11/20 [00:01<00:00,  9.15it/s]\u001b[32m[I 2021-03-11 19:00:25,512]\u001b[0m Trial 50 finished with value: 0.8623273580979751 and parameters: {'lambda_l1': 0.008729282012179065, 'lambda_l2': 0.006567253412920289}. Best is trial 41 with value: 0.8626202310005576.\u001b[0m\n",
      "regularization_factors, val_score: 0.862620:  60%|######    | 12/20 [00:01<00:01,  6.16it/s]\u001b[32m[I 2021-03-11 19:00:25,795]\u001b[0m Trial 51 finished with value: 0.8626202310005576 and parameters: {'lambda_l1': 1.1655567242883513e-08, 'lambda_l2': 8.449030095557075e-06}. Best is trial 41 with value: 0.8626202310005576.\u001b[0m\n",
      "regularization_factors, val_score: 0.862620:  65%|######5   | 13/20 [00:01<00:01,  6.69it/s]\u001b[32m[I 2021-03-11 19:00:25,915]\u001b[0m Trial 52 finished with value: 0.8626202310005576 and parameters: {'lambda_l1': 0.00038471588748714355, 'lambda_l2': 2.592196464735775e-06}. Best is trial 41 with value: 0.8626202310005576.\u001b[0m\n",
      "regularization_factors, val_score: 0.862620:  65%|######5   | 13/20 [00:01<00:01,  6.69it/s]\u001b[32m[I 2021-03-11 19:00:26,001]\u001b[0m Trial 53 finished with value: 0.8626202310005576 and parameters: {'lambda_l1': 6.127694385340072e-08, 'lambda_l2': 0.0001973537110436694}. Best is trial 41 with value: 0.8626202310005576.\u001b[0m\n",
      "regularization_factors, val_score: 0.862620:  75%|#######5  | 15/20 [00:01<00:00,  8.24it/s]\u001b[32m[I 2021-03-11 19:00:26,093]\u001b[0m Trial 54 finished with value: 0.8626202310005576 and parameters: {'lambda_l1': 0.0009573380555027032, 'lambda_l2': 2.4650732591685205e-08}. Best is trial 41 with value: 0.8626202310005576.\u001b[0m\n",
      "regularization_factors, val_score: 0.862620:  75%|#######5  | 15/20 [00:01<00:00,  8.24it/s]\u001b[32m[I 2021-03-11 19:00:26,183]\u001b[0m Trial 55 finished with value: 0.8626202310005576 and parameters: {'lambda_l1': 4.19202273936329e-07, 'lambda_l2': 4.215011183196878e-07}. Best is trial 41 with value: 0.8626202310005576.\u001b[0m\n",
      "regularization_factors, val_score: 0.862620:  85%|########5 | 17/20 [00:02<00:00,  8.95it/s]\u001b[32m[I 2021-03-11 19:00:26,287]\u001b[0m Trial 56 finished with value: 0.8626202310005576 and parameters: {'lambda_l1': 1.4348343580476661e-05, 'lambda_l2': 3.8312104044057036e-05}. Best is trial 41 with value: 0.8626202310005576.\u001b[0m\n"
     ]
    },
    {
     "name": "stderr",
     "output_type": "stream",
     "text": [
      "regularization_factors, val_score: 0.862620:  90%|######### | 18/20 [00:02<00:00,  9.00it/s]\u001b[32m[I 2021-03-11 19:00:26,396]\u001b[0m Trial 57 finished with value: 0.8625354313397562 and parameters: {'lambda_l1': 0.0031789539299654232, 'lambda_l2': 1.8399835025089956e-08}. Best is trial 41 with value: 0.8626202310005576.\u001b[0m\n",
      "regularization_factors, val_score: 0.862620:  95%|#########5| 19/20 [00:02<00:00,  8.80it/s]\u001b[32m[I 2021-03-11 19:00:26,518]\u001b[0m Trial 58 finished with value: 0.8626202310005576 and parameters: {'lambda_l1': 2.9852973569550117e-05, 'lambda_l2': 4.2310232548230965e-07}. Best is trial 41 with value: 0.8626202310005576.\u001b[0m\n",
      "regularization_factors, val_score: 0.862620:  95%|#########5| 19/20 [00:02<00:00,  8.80it/s]\u001b[32m[I 2021-03-11 19:00:26,614]\u001b[0m Trial 59 finished with value: 0.8626202310005576 and parameters: {'lambda_l1': 1.2312693086644966e-05, 'lambda_l2': 0.0016330871816248483}. Best is trial 41 with value: 0.8626202310005576.\u001b[0m\n",
      "regularization_factors, val_score: 0.862620: 100%|##########| 20/20 [00:02<00:00,  8.35it/s]\n",
      "min_data_in_leaf, val_score: 0.862620:   0%|          | 0/5 [00:00<?, ?it/s]\u001b[32m[I 2021-03-11 19:00:26,707]\u001b[0m Trial 60 finished with value: 0.8567443211708635 and parameters: {'min_child_samples': 25}. Best is trial 60 with value: 0.8567443211708635.\u001b[0m\n",
      "min_data_in_leaf, val_score: 0.865207:  40%|####      | 2/5 [00:00<00:00,  9.82it/s]\u001b[32m[I 2021-03-11 19:00:26,822]\u001b[0m Trial 61 finished with value: 0.865207013246021 and parameters: {'min_child_samples': 5}. Best is trial 61 with value: 0.865207013246021.\u001b[0m\n",
      "min_data_in_leaf, val_score: 0.865207:  40%|####      | 2/5 [00:00<00:00,  9.82it/s]\u001b[32m[I 2021-03-11 19:00:26,913]\u001b[0m Trial 62 finished with value: 0.8650436953807741 and parameters: {'min_child_samples': 10}. Best is trial 61 with value: 0.865207013246021.\u001b[0m\n",
      "min_data_in_leaf, val_score: 0.865207:  80%|########  | 4/5 [00:00<00:00, 11.14it/s]\u001b[32m[I 2021-03-11 19:00:26,986]\u001b[0m Trial 63 finished with value: 0.8392571392677391 and parameters: {'min_child_samples': 100}. Best is trial 61 with value: 0.865207013246021.\u001b[0m\n",
      "min_data_in_leaf, val_score: 0.865207:  80%|########  | 4/5 [00:00<00:00, 11.14it/s]\u001b[32m[I 2021-03-11 19:00:27,070]\u001b[0m Trial 64 finished with value: 0.8468384644979938 and parameters: {'min_child_samples': 50}. Best is trial 61 with value: 0.865207013246021.\u001b[0m\n",
      "min_data_in_leaf, val_score: 0.865207: 100%|##########| 5/5 [00:00<00:00, 11.02it/s]\n"
     ]
    }
   ],
   "source": [
    "hp_tuner.run()"
   ]
  },
  {
   "cell_type": "code",
   "execution_count": 27,
   "metadata": {},
   "outputs": [
    {
     "data": {
      "text/plain": [
       "0.865207013246021"
      ]
     },
     "execution_count": 27,
     "metadata": {},
     "output_type": "execute_result"
    }
   ],
   "source": [
    "hp_tuner.best_score"
   ]
  },
  {
   "cell_type": "markdown",
   "metadata": {},
   "source": [
    "Tuning hyper parameter slightly improve (~0.01) mean auc score on cross validation."
   ]
  },
  {
   "cell_type": "code",
   "execution_count": 28,
   "metadata": {},
   "outputs": [],
   "source": [
    "params = hp_tuner.best_params"
   ]
  },
  {
   "cell_type": "code",
   "execution_count": 29,
   "metadata": {},
   "outputs": [
    {
     "name": "stderr",
     "output_type": "stream",
     "text": [
      "/home/azapala/.local/lib/python3.8/site-packages/lightgbm/basic.py:1286: UserWarning: Overriding the parameters from Reference Dataset.\n",
      "  warnings.warn('Overriding the parameters from Reference Dataset.')\n",
      "/home/azapala/.local/lib/python3.8/site-packages/lightgbm/basic.py:1098: UserWarning: categorical_column in param dict is overridden.\n",
      "  warnings.warn('{} in param dict is overridden.'.format(cat_alias))\n"
     ]
    },
    {
     "name": "stdout",
     "output_type": "stream",
     "text": [
      "[1]\ttrain's auc: 0.820229\ttest's auc: 0.797361\n",
      "[2]\ttrain's auc: 0.819701\ttest's auc: 0.797361\n",
      "[3]\ttrain's auc: 0.822602\ttest's auc: 0.801313\n",
      "[4]\ttrain's auc: 0.824011\ttest's auc: 0.800548\n",
      "[5]\ttrain's auc: 0.824011\ttest's auc: 0.800548\n",
      "[6]\ttrain's auc: 0.85257\ttest's auc: 0.851224\n",
      "[7]\ttrain's auc: 0.853211\ttest's auc: 0.858299\n",
      "[8]\ttrain's auc: 0.852557\ttest's auc: 0.858299\n",
      "[9]\ttrain's auc: 0.852557\ttest's auc: 0.858299\n",
      "[10]\ttrain's auc: 0.853245\ttest's auc: 0.858172\n",
      "[11]\ttrain's auc: 0.853211\ttest's auc: 0.858299\n",
      "[12]\ttrain's auc: 0.853916\ttest's auc: 0.858172\n",
      "[13]\ttrain's auc: 0.855601\ttest's auc: 0.859128\n",
      "[14]\ttrain's auc: 0.855819\ttest's auc: 0.859638\n",
      "[15]\ttrain's auc: 0.855819\ttest's auc: 0.859638\n",
      "[16]\ttrain's auc: 0.856004\ttest's auc: 0.859638\n",
      "[17]\ttrain's auc: 0.856075\ttest's auc: 0.859702\n",
      "[18]\ttrain's auc: 0.858901\ttest's auc: 0.860977\n",
      "[19]\ttrain's auc: 0.862427\ttest's auc: 0.87092\n",
      "[20]\ttrain's auc: 0.867952\ttest's auc: 0.874618\n",
      "[21]\ttrain's auc: 0.86703\ttest's auc: 0.874108\n",
      "[22]\ttrain's auc: 0.869847\ttest's auc: 0.874745\n",
      "[23]\ttrain's auc: 0.87643\ttest's auc: 0.879016\n",
      "[24]\ttrain's auc: 0.879654\ttest's auc: 0.878825\n",
      "[25]\ttrain's auc: 0.879868\ttest's auc: 0.880163\n",
      "[26]\ttrain's auc: 0.880907\ttest's auc: 0.880673\n",
      "[27]\ttrain's auc: 0.880974\ttest's auc: 0.880673\n",
      "[28]\ttrain's auc: 0.882735\ttest's auc: 0.886346\n",
      "[29]\ttrain's auc: 0.882781\ttest's auc: 0.883095\n",
      "[30]\ttrain's auc: 0.882781\ttest's auc: 0.88335\n"
     ]
    },
    {
     "data": {
      "image/png": "[encoded data removed]",
      "text/plain": [
       "<Figure size 432x288 with 1 Axes>"
      ]
     },
     "metadata": {
      "needs_background": "light"
     },
     "output_type": "display_data"
    },
    {
     "name": "stdout",
     "output_type": "stream",
     "text": [
      "AUC: 0.883350331463539\n"
     ]
    }
   ],
   "source": [
    "d_train = generate_lgb_dataset(df_train, model_columns, 'Survived')\n",
    "d_test = generate_lgb_dataset(df_test, model_columns, 'Survived')\n",
    "train_and_evaluate(params, d_train, d_test)"
   ]
  },
  {
   "cell_type": "markdown",
   "metadata": {},
   "source": [
    "Also metrics on test dataset is slightly better."
   ]
  }
 ],
 "metadata": {
  "kernelspec": {
   "display_name": "Python 3",
   "language": "python",
   "name": "python3"
  },
  "language_info": {
   "codemirror_mode": {
    "name": "ipython",
    "version": 3
   },
   "file_extension": ".py",
   "mimetype": "text/x-python",
   "name": "python",
   "nbconvert_exporter": "python",
   "pygments_lexer": "ipython3",
   "version": "3.8.5"
  }
 },
 "nbformat": 4,
 "nbformat_minor": 4
}
