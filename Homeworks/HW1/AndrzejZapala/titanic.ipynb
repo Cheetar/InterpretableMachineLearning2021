{
 "cells": [
  {
   "cell_type": "code",
   "execution_count": 53,
   "metadata": {},
   "outputs": [],
   "source": [
    "import pandas as pd\n",
    "import numpy as np\n",
    "import scipy\n",
    "import lightgbm as lgb\n",
    "\n",
    "from sklearn.model_selection import train_test_split\n",
    "from sklearn.model_selection import cross_validate\n",
    "from sklearn.linear_model import LogisticRegression\n",
    "from sklearn import metrics\n",
    "\n",
    "import matplotlib.pyplot as plt\n",
    "import seaborn as sns\n",
    "import optuna\n",
    "\n",
    "pd.options.mode.chained_assignment = None "
   ]
  },
  {
   "cell_type": "markdown",
   "metadata": {},
   "source": [
    "## Ładowanie danych\n",
    "Załadowanie danych dotyczących przeżywalności pasażerów najpopularniejszej katastrofy statku pasażerskiego na świecie. Dane ściągamy wykorzystując [api](https://github.com/Kaggle/kaggle-api) udostępnione przez serwis kaggle.com ."
   ]
  },
  {
   "cell_type": "code",
   "execution_count": 2,
   "metadata": {},
   "outputs": [
    {
     "name": "stdout",
     "output_type": "stream",
     "text": [
      "titanic.zip: Skipping, found more recently modified local copy (use --force to force download)\r\n"
     ]
    }
   ],
   "source": [
    "!kaggle competitions download -c titanic"
   ]
  },
  {
   "cell_type": "code",
   "execution_count": 3,
   "metadata": {},
   "outputs": [
    {
     "name": "stdout",
     "output_type": "stream",
     "text": [
      "Archive:  titanic.zip\r\n",
      "  inflating: gender_submission.csv   \r\n",
      "  inflating: test.csv                \r\n",
      "  inflating: train.csv               \r\n"
     ]
    }
   ],
   "source": [
    "!unzip -o titanic.zip"
   ]
  },
  {
   "cell_type": "code",
   "execution_count": 52,
   "metadata": {},
   "outputs": [],
   "source": [
    "# Dziele zbiór treningowy na trainingowy i testowy (zbiór testowy z kaggla nie posiada zmiennej opisywanej)\n",
    "df_train_all = pd.read_csv('./train.csv')\n",
    "df_train, df_test = train_test_split(df_train_all, test_size=0.2, random_state=42)"
   ]
  },
  {
   "cell_type": "code",
   "execution_count": 5,
   "metadata": {},
   "outputs": [
    {
     "data": {
      "text/html": [
       "<div>\n",
       "<style scoped>\n",
       "    .dataframe tbody tr th:only-of-type {\n",
       "        vertical-align: middle;\n",
       "    }\n",
       "\n",
       "    .dataframe tbody tr th {\n",
       "        vertical-align: top;\n",
       "    }\n",
       "\n",
       "    .dataframe thead th {\n",
       "        text-align: right;\n",
       "    }\n",
       "</style>\n",
       "<table border=\"1\" class=\"dataframe\">\n",
       "  <thead>\n",
       "    <tr style=\"text-align: right;\">\n",
       "      <th></th>\n",
       "      <th>PassengerId</th>\n",
       "      <th>Survived</th>\n",
       "      <th>Pclass</th>\n",
       "      <th>Name</th>\n",
       "      <th>Sex</th>\n",
       "      <th>Age</th>\n",
       "      <th>SibSp</th>\n",
       "      <th>Parch</th>\n",
       "      <th>Ticket</th>\n",
       "      <th>Fare</th>\n",
       "      <th>Cabin</th>\n",
       "      <th>Embarked</th>\n",
       "    </tr>\n",
       "  </thead>\n",
       "  <tbody>\n",
       "    <tr>\n",
       "      <th>331</th>\n",
       "      <td>332</td>\n",
       "      <td>0</td>\n",
       "      <td>1</td>\n",
       "      <td>Partner, Mr. Austen</td>\n",
       "      <td>male</td>\n",
       "      <td>45.5</td>\n",
       "      <td>0</td>\n",
       "      <td>0</td>\n",
       "      <td>113043</td>\n",
       "      <td>28.5000</td>\n",
       "      <td>C124</td>\n",
       "      <td>S</td>\n",
       "    </tr>\n",
       "    <tr>\n",
       "      <th>733</th>\n",
       "      <td>734</td>\n",
       "      <td>0</td>\n",
       "      <td>2</td>\n",
       "      <td>Berriman, Mr. William John</td>\n",
       "      <td>male</td>\n",
       "      <td>23.0</td>\n",
       "      <td>0</td>\n",
       "      <td>0</td>\n",
       "      <td>28425</td>\n",
       "      <td>13.0000</td>\n",
       "      <td>NaN</td>\n",
       "      <td>S</td>\n",
       "    </tr>\n",
       "    <tr>\n",
       "      <th>382</th>\n",
       "      <td>383</td>\n",
       "      <td>0</td>\n",
       "      <td>3</td>\n",
       "      <td>Tikkanen, Mr. Juho</td>\n",
       "      <td>male</td>\n",
       "      <td>32.0</td>\n",
       "      <td>0</td>\n",
       "      <td>0</td>\n",
       "      <td>STON/O 2. 3101293</td>\n",
       "      <td>7.9250</td>\n",
       "      <td>NaN</td>\n",
       "      <td>S</td>\n",
       "    </tr>\n",
       "    <tr>\n",
       "      <th>704</th>\n",
       "      <td>705</td>\n",
       "      <td>0</td>\n",
       "      <td>3</td>\n",
       "      <td>Hansen, Mr. Henrik Juul</td>\n",
       "      <td>male</td>\n",
       "      <td>26.0</td>\n",
       "      <td>1</td>\n",
       "      <td>0</td>\n",
       "      <td>350025</td>\n",
       "      <td>7.8542</td>\n",
       "      <td>NaN</td>\n",
       "      <td>S</td>\n",
       "    </tr>\n",
       "    <tr>\n",
       "      <th>813</th>\n",
       "      <td>814</td>\n",
       "      <td>0</td>\n",
       "      <td>3</td>\n",
       "      <td>Andersson, Miss. Ebba Iris Alfrida</td>\n",
       "      <td>female</td>\n",
       "      <td>6.0</td>\n",
       "      <td>4</td>\n",
       "      <td>2</td>\n",
       "      <td>347082</td>\n",
       "      <td>31.2750</td>\n",
       "      <td>NaN</td>\n",
       "      <td>S</td>\n",
       "    </tr>\n",
       "  </tbody>\n",
       "</table>\n",
       "</div>"
      ],
      "text/plain": [
       "     PassengerId  Survived  Pclass                                Name  \\\n",
       "331          332         0       1                 Partner, Mr. Austen   \n",
       "733          734         0       2          Berriman, Mr. William John   \n",
       "382          383         0       3                  Tikkanen, Mr. Juho   \n",
       "704          705         0       3             Hansen, Mr. Henrik Juul   \n",
       "813          814         0       3  Andersson, Miss. Ebba Iris Alfrida   \n",
       "\n",
       "        Sex   Age  SibSp  Parch             Ticket     Fare Cabin Embarked  \n",
       "331    male  45.5      0      0             113043  28.5000  C124        S  \n",
       "733    male  23.0      0      0              28425  13.0000   NaN        S  \n",
       "382    male  32.0      0      0  STON/O 2. 3101293   7.9250   NaN        S  \n",
       "704    male  26.0      1      0             350025   7.8542   NaN        S  \n",
       "813  female   6.0      4      2             347082  31.2750   NaN        S  "
      ]
     },
     "execution_count": 5,
     "metadata": {},
     "output_type": "execute_result"
    }
   ],
   "source": [
    "df_train.head()"
   ]
  },
  {
   "cell_type": "markdown",
   "metadata": {},
   "source": [
    "## Opis załadowanych featerów"
   ]
  },
  {
   "cell_type": "markdown",
   "metadata": {},
   "source": [
    "| Name | Description | Info |\n",
    "| --- | --- | --- |\n",
    "| PassengerId | id |\n",
    "| Survived | Survival | 0 = No, 1 = Yes |\n",
    "| Pclass | Ticket   | class 1 = 1st, 2 = 2nd, 3 = 3rd |\n",
    "| Sex\t |Sex\t\n",
    "| Age | Age in years |\n",
    "| SibSp | number of siblings / spouses aboard the Titanic |\n",
    "|Parch | number of parents / children aboard the Titanic |\n",
    "| Fare | Passenger fare |\n",
    "| Ticket | Ticket number |\n",
    "| Cabin | Cabin number |\n",
    "| Embarked | Port of Embarkation | C = Cherbourg, Q = Queenstown, S = Southampton"
   ]
  },
  {
   "cell_type": "markdown",
   "metadata": {},
   "source": [
    "## Cel"
   ]
  },
  {
   "cell_type": "markdown",
   "metadata": {},
   "source": [
    "Naszym celem jest zbudowanie modelu, który przewidzi czy dana osoba przeżyje katastrofę. Wykorzystamy w tym celu bibliotekę LighGBM wykorzystującą technike gradient boosting tree."
   ]
  },
  {
   "cell_type": "markdown",
   "metadata": {},
   "source": [
    "## Analiza danych\n",
    "Celem sekcji jest powierzchowne zapoznanie się z danymi. "
   ]
  },
  {
   "cell_type": "markdown",
   "metadata": {},
   "source": [
    "### Age"
   ]
  },
  {
   "cell_type": "code",
   "execution_count": 18,
   "metadata": {},
   "outputs": [
    {
     "data": {
      "image/png": "[encoded data removed]",
      "text/plain": [
       "<Figure size 360x360 with 1 Axes>"
      ]
     },
     "metadata": {
      "needs_background": "light"
     },
     "output_type": "display_data"
    }
   ],
   "source": [
    "sns.displot(df_train, x='Age', kde=True, kind='hist', bins=30)\n",
    "plt.show()"
   ]
  },
  {
   "attachments": {},
   "cell_type": "markdown",
   "metadata": {},
   "source": [
    "<img src=\"nation_distribution.png\">"
   ]
  },
  {
   "cell_type": "markdown",
   "metadata": {},
   "source": [
    "Patrząc na histogram, możemy zauważyć, że stosunkowo dużo jest najmłodszych dzieci/niemowlaków w porównaniu rozkładu wiekowego amerykańskiego społeczeństwa w tym okresie. "
   ]
  },
  {
   "cell_type": "markdown",
   "metadata": {},
   "source": [
    "## Fare"
   ]
  },
  {
   "cell_type": "code",
   "execution_count": 34,
   "metadata": {},
   "outputs": [
    {
     "data": {
      "image/png": "[encoded data removed]",
      "text/plain": [
       "<Figure size 360x360 with 1 Axes>"
      ]
     },
     "metadata": {
      "needs_background": "light"
     },
     "output_type": "display_data"
    }
   ],
   "source": [
    "sns.displot(df_train[df_train.Fare < 200], x='Fare', kde=True, kind='hist')\n",
    "plt.show()"
   ]
  },
  {
   "cell_type": "code",
   "execution_count": 20,
   "metadata": {},
   "outputs": [
    {
     "data": {
      "image/png": "[encoded data removed]",
      "text/plain": [
       "<Figure size 432x288 with 1 Axes>"
      ]
     },
     "metadata": {
      "needs_background": "light"
     },
     "output_type": "display_data"
    }
   ],
   "source": [
    "sns.boxplot(y='Fare', x='Survived', data=df_train)\n",
    "plt.show()"
   ]
  },
  {
   "cell_type": "code",
   "execution_count": 36,
   "metadata": {},
   "outputs": [
    {
     "data": {
      "text/plain": [
       "PointbiserialrResult(correlation=0.2466407996192155, pvalue=2.5064335809909983e-11)"
      ]
     },
     "execution_count": 36,
     "metadata": {},
     "output_type": "execute_result"
    }
   ],
   "source": [
    "scipy.stats.pointbiserialr(df_train['Survived'], df_train['Fare'])"
   ]
  },
  {
   "cell_type": "markdown",
   "metadata": {},
   "source": [
    "Cena koreluje ze współczynnikiem 0.24 z opłatą za bilet."
   ]
  },
  {
   "cell_type": "markdown",
   "metadata": {},
   "source": [
    "### Sex"
   ]
  },
  {
   "cell_type": "code",
   "execution_count": 43,
   "metadata": {},
   "outputs": [
    {
     "name": "stderr",
     "output_type": "stream",
     "text": [
      "/home/azapala/.local/lib/python3.8/site-packages/seaborn/categorical.py:3714: UserWarning: The `factorplot` function has been renamed to `catplot`. The original name will be removed in a future release. Please update your code. Note that the default `kind` in `factorplot` (`'point'`) has changed `'strip'` in `catplot`.\n",
      "  warnings.warn(msg)\n"
     ]
    },
    {
     "data": {
      "image/png": "[encoded data removed]",
      "text/plain": [
       "<Figure size 360x360 with 1 Axes>"
      ]
     },
     "metadata": {
      "needs_background": "light"
     },
     "output_type": "display_data"
    }
   ],
   "source": [
    "sns.factorplot(data=df_train, x=\"Sex\", y=\"Survived\", kind=\"bar\")\n",
    "plt.show()"
   ]
  },
  {
   "cell_type": "code",
   "execution_count": 9,
   "metadata": {},
   "outputs": [
    {
     "data": {
      "text/plain": [
       "Sex\n",
       "female    245\n",
       "male      467\n",
       "dtype: int64"
      ]
     },
     "execution_count": 9,
     "metadata": {},
     "output_type": "execute_result"
    }
   ],
   "source": [
    "df_train.groupby('Sex').size()"
   ]
  },
  {
   "cell_type": "markdown",
   "metadata": {},
   "source": [
    "Kobiety w tym datasecie charakteryzują się znacznie więszką przeżywalnościa."
   ]
  },
  {
   "cell_type": "markdown",
   "metadata": {},
   "source": [
    "## Embarked"
   ]
  },
  {
   "cell_type": "code",
   "execution_count": 60,
   "metadata": {},
   "outputs": [
    {
     "data": {
      "image/png": "[encoded data removed]",
      "text/plain": [
       "<Figure size 360x360 with 1 Axes>"
      ]
     },
     "metadata": {
      "needs_background": "light"
     },
     "output_type": "display_data"
    }
   ],
   "source": [
    "sns.catplot(data=df_train, x=\"Embarked\", y=\"Survived\", kind=\"bar\")\n",
    "plt.show()"
   ]
  },
  {
   "cell_type": "code",
   "execution_count": 11,
   "metadata": {},
   "outputs": [
    {
     "data": {
      "text/plain": [
       "Embarked\n",
       "C    125\n",
       "Q     60\n",
       "S    525\n",
       "dtype: int64"
      ]
     },
     "execution_count": 11,
     "metadata": {},
     "output_type": "execute_result"
    }
   ],
   "source": [
    "df_train.groupby('Embarked').size()"
   ]
  },
  {
   "cell_type": "markdown",
   "metadata": {},
   "source": [
    "Wykorzystując tylko tą cechę stworzę model regressji logistycznej."
   ]
  },
  {
   "cell_type": "code",
   "execution_count": 58,
   "metadata": {},
   "outputs": [
    {
     "data": {
      "text/plain": [
       "0.5832046332046331"
      ]
     },
     "execution_count": 58,
     "metadata": {},
     "output_type": "execute_result"
    }
   ],
   "source": [
    "embarked_model = LogisticRegression()\n",
    "embarked_model.fit(pd.get_dummies(df_train['Embarked']), df_train['Survived'])\n",
    "embarked_prediction = embarked_model.predict(pd.get_dummies(df_test['Embarked']))\n",
    "fpr, tpr, _ = metrics.roc_curve(df_test['Survived'], embarked_prediction)\n",
    "metrics.auc(fpr, tpr)"
   ]
  },
  {
   "cell_type": "markdown",
   "metadata": {},
   "source": [
    "Metryka auc modelu na zbiorze testowym jest > 0.5. Stąd ta tłumaczy cześć wariancji cechy przeżywalności,\n",
    "więc warto dodać port zaokrętowania do modelu."
   ]
  },
  {
   "cell_type": "markdown",
   "metadata": {},
   "source": [
    "### Cechy ciągłe\n",
    "Sprawdzę czy wiek, opłate za przejazd, SibSp i Parch można traktować jako zmienne ciągłe, dla małej liczby wartości można uwzględnić je jako cechy kategoryczne."
   ]
  },
  {
   "cell_type": "code",
   "execution_count": 12,
   "metadata": {},
   "outputs": [
    {
     "data": {
      "text/plain": [
       "83"
      ]
     },
     "execution_count": 12,
     "metadata": {},
     "output_type": "execute_result"
    }
   ],
   "source": [
    "df_train.Age.nunique()"
   ]
  },
  {
   "cell_type": "code",
   "execution_count": 13,
   "metadata": {},
   "outputs": [
    {
     "data": {
      "text/plain": [
       "220"
      ]
     },
     "execution_count": 13,
     "metadata": {},
     "output_type": "execute_result"
    }
   ],
   "source": [
    "df_train.Fare.nunique()"
   ]
  },
  {
   "cell_type": "code",
   "execution_count": null,
   "metadata": {},
   "outputs": [],
   "source": [
    "Sprawdzę czy cechy"
   ]
  },
  {
   "cell_type": "code",
   "execution_count": 14,
   "metadata": {},
   "outputs": [
    {
     "data": {
      "text/html": [
       "<div>\n",
       "<style scoped>\n",
       "    .dataframe tbody tr th:only-of-type {\n",
       "        vertical-align: middle;\n",
       "    }\n",
       "\n",
       "    .dataframe tbody tr th {\n",
       "        vertical-align: top;\n",
       "    }\n",
       "\n",
       "    .dataframe thead th {\n",
       "        text-align: right;\n",
       "    }\n",
       "</style>\n",
       "<table border=\"1\" class=\"dataframe\">\n",
       "  <thead>\n",
       "    <tr style=\"text-align: right;\">\n",
       "      <th></th>\n",
       "      <th></th>\n",
       "      <th>counts</th>\n",
       "    </tr>\n",
       "    <tr>\n",
       "      <th>SibSp</th>\n",
       "      <th>Parch</th>\n",
       "      <th></th>\n",
       "    </tr>\n",
       "  </thead>\n",
       "  <tbody>\n",
       "    <tr>\n",
       "      <th rowspan=\"6\" valign=\"top\">0</th>\n",
       "      <th>0</th>\n",
       "      <td>429</td>\n",
       "    </tr>\n",
       "    <tr>\n",
       "      <th>1</th>\n",
       "      <td>31</td>\n",
       "    </tr>\n",
       "    <tr>\n",
       "      <th>2</th>\n",
       "      <td>21</td>\n",
       "    </tr>\n",
       "    <tr>\n",
       "      <th>3</th>\n",
       "      <td>1</td>\n",
       "    </tr>\n",
       "    <tr>\n",
       "      <th>4</th>\n",
       "      <td>1</td>\n",
       "    </tr>\n",
       "    <tr>\n",
       "      <th>5</th>\n",
       "      <td>1</td>\n",
       "    </tr>\n",
       "    <tr>\n",
       "      <th rowspan=\"7\" valign=\"top\">1</th>\n",
       "      <th>0</th>\n",
       "      <td>96</td>\n",
       "    </tr>\n",
       "    <tr>\n",
       "      <th>1</th>\n",
       "      <td>44</td>\n",
       "    </tr>\n",
       "    <tr>\n",
       "      <th>2</th>\n",
       "      <td>18</td>\n",
       "    </tr>\n",
       "    <tr>\n",
       "      <th>3</th>\n",
       "      <td>1</td>\n",
       "    </tr>\n",
       "    <tr>\n",
       "      <th>4</th>\n",
       "      <td>2</td>\n",
       "    </tr>\n",
       "    <tr>\n",
       "      <th>5</th>\n",
       "      <td>2</td>\n",
       "    </tr>\n",
       "    <tr>\n",
       "      <th>6</th>\n",
       "      <td>1</td>\n",
       "    </tr>\n",
       "    <tr>\n",
       "      <th rowspan=\"4\" valign=\"top\">2</th>\n",
       "      <th>0</th>\n",
       "      <td>14</td>\n",
       "    </tr>\n",
       "    <tr>\n",
       "      <th>1</th>\n",
       "      <td>5</td>\n",
       "    </tr>\n",
       "    <tr>\n",
       "      <th>2</th>\n",
       "      <td>3</td>\n",
       "    </tr>\n",
       "    <tr>\n",
       "      <th>3</th>\n",
       "      <td>1</td>\n",
       "    </tr>\n",
       "    <tr>\n",
       "      <th rowspan=\"3\" valign=\"top\">3</th>\n",
       "      <th>0</th>\n",
       "      <td>2</td>\n",
       "    </tr>\n",
       "    <tr>\n",
       "      <th>1</th>\n",
       "      <td>6</td>\n",
       "    </tr>\n",
       "    <tr>\n",
       "      <th>2</th>\n",
       "      <td>5</td>\n",
       "    </tr>\n",
       "    <tr>\n",
       "      <th rowspan=\"2\" valign=\"top\">4</th>\n",
       "      <th>1</th>\n",
       "      <td>8</td>\n",
       "    </tr>\n",
       "    <tr>\n",
       "      <th>2</th>\n",
       "      <td>8</td>\n",
       "    </tr>\n",
       "    <tr>\n",
       "      <th>5</th>\n",
       "      <th>2</th>\n",
       "      <td>5</td>\n",
       "    </tr>\n",
       "    <tr>\n",
       "      <th>8</th>\n",
       "      <th>2</th>\n",
       "      <td>7</td>\n",
       "    </tr>\n",
       "  </tbody>\n",
       "</table>\n",
       "</div>"
      ],
      "text/plain": [
       "             counts\n",
       "SibSp Parch        \n",
       "0     0         429\n",
       "      1          31\n",
       "      2          21\n",
       "      3           1\n",
       "      4           1\n",
       "      5           1\n",
       "1     0          96\n",
       "      1          44\n",
       "      2          18\n",
       "      3           1\n",
       "      4           2\n",
       "      5           2\n",
       "      6           1\n",
       "2     0          14\n",
       "      1           5\n",
       "      2           3\n",
       "      3           1\n",
       "3     0           2\n",
       "      1           6\n",
       "      2           5\n",
       "4     1           8\n",
       "      2           8\n",
       "5     2           5\n",
       "8     2           7"
      ]
     },
     "execution_count": 14,
     "metadata": {},
     "output_type": "execute_result"
    }
   ],
   "source": [
    "df_train.groupby(['SibSp', 'Parch']).size().to_frame(name='counts')"
   ]
  },
  {
   "cell_type": "markdown",
   "metadata": {},
   "source": [
    "Powyższe cechy mają sporo wartości stąd cięzko traktować je jako zmienne kategoryczne."
   ]
  },
  {
   "cell_type": "markdown",
   "metadata": {},
   "source": [
    "## Dodanie dodatkowych cech\n",
    "W tym paragrafie wykonam prostą inżynierie danych dodając proste cechy:\n",
    "* Liczba członków rodziny na pokładzie\n",
    "* Cecha binarna czy pasażer nie miał rodziny na pokładzie\n",
    "* Grupę wiekową"
   ]
  },
  {
   "cell_type": "code",
   "execution_count": 15,
   "metadata": {},
   "outputs": [],
   "source": [
    "for df in [df_train, df_test, df_train_all]:\n",
    "    df['FamilySize'] = 0 \n",
    "    df.loc[:, 'FamilySize'] =  df['Parch'] + df['SibSp']\n",
    "    df.loc['Single'] = 0\n",
    "    df.loc[df['FamilySize'] > 0, 'Single'] = 1"
   ]
  },
  {
   "cell_type": "code",
   "execution_count": 16,
   "metadata": {},
   "outputs": [],
   "source": [
    "for df in [df_train, df_test, df_train_all]:\n",
    "    df['AgeGroup'] = \"baby\"\n",
    "    df.loc[(df.Age > 5) & (df.Age <= 14),'AgeGroup'] = \"teenager\"\n",
    "    df.loc[(df.Age > 14) & (df.Age <= 60), 'AgeGroup' ] = \"adult\"\n",
    "    df.loc[(df.Age > 60), 'AgeGroup' ] = \"old\"    "
   ]
  },
  {
   "cell_type": "markdown",
   "metadata": {},
   "source": [
    "## Wybór kolumn do modelu"
   ]
  },
  {
   "cell_type": "code",
   "execution_count": 17,
   "metadata": {},
   "outputs": [],
   "source": [
    "model_columns = ['Pclass', 'Sex', 'Age', 'SibSp', 'Parch', 'Fare', 'Embarked', 'FamilySize', 'Single', 'AgeGroup']\n",
    "\n",
    "countinous_columns = ['Age', 'Parch', 'SibSp', 'FamilySize']\n",
    "cat_columns = [col for col in model_columns if col not in countinous_columns]"
   ]
  },
  {
   "cell_type": "code",
   "execution_count": 18,
   "metadata": {},
   "outputs": [],
   "source": [
    "for dataset in [df_test, df_train, df_train_all]:\n",
    "    dataset[cat_columns] = dataset[cat_columns].astype('category')"
   ]
  },
  {
   "cell_type": "code",
   "execution_count": 19,
   "metadata": {},
   "outputs": [
    {
     "data": {
      "text/plain": [
       "Pclass        category\n",
       "Sex           category\n",
       "Age            float64\n",
       "SibSp            int64\n",
       "Parch            int64\n",
       "Fare          category\n",
       "Embarked      category\n",
       "FamilySize       int64\n",
       "Single        category\n",
       "AgeGroup      category\n",
       "dtype: object"
      ]
     },
     "execution_count": 19,
     "metadata": {},
     "output_type": "execute_result"
    }
   ],
   "source": [
    "df_train[model_columns].dtypes"
   ]
  },
  {
   "cell_type": "markdown",
   "metadata": {},
   "source": [
    "## Trening"
   ]
  },
  {
   "cell_type": "code",
   "execution_count": 20,
   "metadata": {},
   "outputs": [],
   "source": [
    "def generate_lgb_dataset(df, model_columns, target_columns_name):\n",
    "    return lgb.Dataset(df[model_columns], label=df[target_columns_name])"
   ]
  },
  {
   "cell_type": "code",
   "execution_count": 21,
   "metadata": {},
   "outputs": [],
   "source": [
    "d_train = generate_lgb_dataset(df_train, model_columns, 'Survived')\n",
    "d_test =  generate_lgb_dataset(df_test, model_columns, 'Survived')\n",
    "\n",
    "params={\n",
    "    'application': 'binary',\n",
    "    'metric': 'auc',\n",
    "    'boosting': 'gbdt',\n",
    "    'verbose': -1\n",
    "}"
   ]
  },
  {
   "cell_type": "markdown",
   "metadata": {},
   "source": [
    "### CV\n",
    "Sprawdzę metrykę auc dla 5-krotnej validacji krzyżowej."
   ]
  },
  {
   "cell_type": "code",
   "execution_count": 22,
   "metadata": {},
   "outputs": [],
   "source": [
    "history = lgb.cv(params, d_train, num_boost_round=30, nfold=5)"
   ]
  },
  {
   "cell_type": "markdown",
   "metadata": {},
   "source": [
    "Mean auc metric based on 5-fold cross validation:"
   ]
  },
  {
   "cell_type": "code",
   "execution_count": 23,
   "metadata": {},
   "outputs": [
    {
     "data": {
      "text/plain": [
       "0.853826192102639"
      ]
     },
     "execution_count": 23,
     "metadata": {},
     "output_type": "execute_result"
    }
   ],
   "source": [
    "history['auc-mean'][-1]"
   ]
  },
  {
   "cell_type": "code",
   "execution_count": 24,
   "metadata": {},
   "outputs": [
    {
     "data": {
      "text/plain": [
       "Text(0, 0.5, 'Mean auc')"
      ]
     },
     "execution_count": 24,
     "metadata": {},
     "output_type": "execute_result"
    },
    {
     "data": {
      "image/png": "[encoded data removed]",
      "text/plain": [
       "<Figure size 432x288 with 1 Axes>"
      ]
     },
     "metadata": {
      "needs_background": "light"
     },
     "output_type": "display_data"
    }
   ],
   "source": [
    "plt.plot(history['auc-mean'])\n",
    "plt.title('Training history')\n",
    "plt.xlabel('No epoch')\n",
    "plt.ylabel('Mean auc')"
   ]
  },
  {
   "cell_type": "markdown",
   "metadata": {},
   "source": [
    "Model osiąga **0.8538** średniego auc na 5-krotnej walidacji krzyżowej. Wykres wzrostu metryki nie wskazuje na przeuczenie."
   ]
  },
  {
   "cell_type": "markdown",
   "metadata": {},
   "source": [
    "### Test set\n",
    "W tym paragrafie sprawdzę metrykę auc na wydzielonym datasecie testowym."
   ]
  },
  {
   "cell_type": "code",
   "execution_count": 25,
   "metadata": {},
   "outputs": [],
   "source": [
    "def train_and_evaluate(params, d_train, d_test):\n",
    "    history = {}\n",
    "    bst = lgb.train(params, d_train, valid_sets=[d_train, d_test], valid_names=['train', 'test'], evals_result=history, num_boost_round=30)\n",
    "    \n",
    "    plt.plot(history['train']['auc'])\n",
    "    plt.plot(history['test']['auc'])\n",
    "    plt.title('History of training')\n",
    "    plt.xlabel('epoch')\n",
    "    plt.ylabel('auc')\n",
    "    plt.legend(['train','test'])\n",
    "    plt.show()\n",
    "    \n",
    "    print(f\"AUC: {history['test']['auc'][-1]}\")"
   ]
  },
  {
   "cell_type": "code",
   "execution_count": 26,
   "metadata": {},
   "outputs": [
    {
     "name": "stderr",
     "output_type": "stream",
     "text": [
      "/home/azapala/.local/lib/python3.8/site-packages/lightgbm/basic.py:1286: UserWarning: Overriding the parameters from Reference Dataset.\n",
      "  warnings.warn('Overriding the parameters from Reference Dataset.')\n",
      "/home/azapala/.local/lib/python3.8/site-packages/lightgbm/basic.py:1098: UserWarning: categorical_column in param dict is overridden.\n",
      "  warnings.warn('{} in param dict is overridden.'.format(cat_alias))\n"
     ]
    },
    {
     "name": "stdout",
     "output_type": "stream",
     "text": [
      "[1]\ttrain's auc: 0.888823\ttest's auc: 0.854347\n",
      "[2]\ttrain's auc: 0.890638\ttest's auc: 0.855877\n",
      "[3]\ttrain's auc: 0.894147\ttest's auc: 0.858108\n",
      "[4]\ttrain's auc: 0.894462\ttest's auc: 0.857853\n",
      "[5]\ttrain's auc: 0.896197\ttest's auc: 0.855367\n",
      "[6]\ttrain's auc: 0.898889\ttest's auc: 0.859128\n",
      "[7]\ttrain's auc: 0.899832\ttest's auc: 0.859128\n",
      "[8]\ttrain's auc: 0.900805\ttest's auc: 0.858873\n",
      "[9]\ttrain's auc: 0.903836\ttest's auc: 0.866331\n",
      "[10]\ttrain's auc: 0.906427\ttest's auc: 0.869901\n",
      "[11]\ttrain's auc: 0.908356\ttest's auc: 0.874108\n",
      "[12]\ttrain's auc: 0.908901\ttest's auc: 0.874363\n",
      "[13]\ttrain's auc: 0.909672\ttest's auc: 0.875\n",
      "[14]\ttrain's auc: 0.911492\ttest's auc: 0.874426\n",
      "[15]\ttrain's auc: 0.913362\ttest's auc: 0.876466\n",
      "[16]\ttrain's auc: 0.913953\ttest's auc: 0.873853\n",
      "[17]\ttrain's auc: 0.914523\ttest's auc: 0.873534\n",
      "[18]\ttrain's auc: 0.915278\ttest's auc: 0.874235\n",
      "[19]\ttrain's auc: 0.915974\ttest's auc: 0.876657\n",
      "[20]\ttrain's auc: 0.920665\ttest's auc: 0.880801\n",
      "[21]\ttrain's auc: 0.923323\ttest's auc: 0.880801\n",
      "[22]\ttrain's auc: 0.9257\ttest's auc: 0.880992\n",
      "[23]\ttrain's auc: 0.926497\ttest's auc: 0.881502\n",
      "[24]\ttrain's auc: 0.928136\ttest's auc: 0.880737\n",
      "[25]\ttrain's auc: 0.929482\ttest's auc: 0.88284\n",
      "[26]\ttrain's auc: 0.930962\ttest's auc: 0.882458\n",
      "[27]\ttrain's auc: 0.932995\ttest's auc: 0.882458\n",
      "[28]\ttrain's auc: 0.934873\ttest's auc: 0.877677\n",
      "[29]\ttrain's auc: 0.935783\ttest's auc: 0.877868\n",
      "[30]\ttrain's auc: 0.937854\ttest's auc: 0.878378\n"
     ]
    },
    {
     "data": {
      "image/png": "[encoded data removed]",
      "text/plain": [
       "<Figure size 432x288 with 1 Axes>"
      ]
     },
     "metadata": {
      "needs_background": "light"
     },
     "output_type": "display_data"
    },
    {
     "name": "stdout",
     "output_type": "stream",
     "text": [
      "AUC: 0.8783783783783784\n"
     ]
    }
   ],
   "source": [
    "train_and_evaluate(params, d_train, d_test)"
   ]
  },
  {
   "cell_type": "markdown",
   "metadata": {},
   "source": [
    "Model osiąga relatywnie wysoką metrykę auc na zbiorze testowym. Widzimy równomierny wzrost metryki auc na zbiorze treningowym i testowym. Model się nie przetrenowuje i osiąga zadawalający wynik."
   ]
  },
  {
   "cell_type": "markdown",
   "metadata": {},
   "source": [
    "## HP tuning\n",
    "Przeszukam automatycznie zbiór hyperparametrów i sprawdzę czy tuning pomaga osiągnąć lepsze rezultaty."
   ]
  },
  {
   "cell_type": "code",
   "execution_count": 27,
   "metadata": {},
   "outputs": [
    {
     "name": "stderr",
     "output_type": "stream",
     "text": [
      "\u001b[32m[I 2021-03-11 19:29:59,429]\u001b[0m A new study created in memory with name: automatic-fine-tuning\u001b[0m\n"
     ]
    }
   ],
   "source": [
    "d_train = generate_lgb_dataset(df_train, model_columns, 'Survived') # different hps change inner option of dataset, we can't reuse datasets for training\n",
    "hp_tuner = optuna.integration.lightgbm.LightGBMTunerCV(params, d_train, num_boost_round=30, study=optuna.create_study(study_name='automatic-fine-tuning', direction='maximize'), verbose_eval=0, return_cvbooster=True)"
   ]
  },
  {
   "cell_type": "code",
   "execution_count": null,
   "metadata": {
    "scrolled": false
   },
   "outputs": [],
   "source": [
    "hp_tuner.run()"
   ]
  },
  {
   "cell_type": "code",
   "execution_count": 29,
   "metadata": {},
   "outputs": [
    {
     "data": {
      "text/plain": [
       "0.8671699683571635"
      ]
     },
     "execution_count": 29,
     "metadata": {},
     "output_type": "execute_result"
    }
   ],
   "source": [
    "hp_tuner.best_score"
   ]
  },
  {
   "cell_type": "markdown",
   "metadata": {},
   "source": [
    "Po autmatycznym przeszukaniu hyperparametrow otrzymaliśmy wyższą metrykę średniego auc na 5-krotnej walidacji krzyżowej: **0.86716** \n",
    "\n",
    "Ten wynik może świadczyć o dopasowaniu hyperparametrów do zbioru treningowego, stąd chcemy upewnić się czy również na zbiorze testowym osiągniemy lepszy wynik."
   ]
  },
  {
   "cell_type": "code",
   "execution_count": 30,
   "metadata": {},
   "outputs": [],
   "source": [
    "params = hp_tuner.best_params"
   ]
  },
  {
   "cell_type": "code",
   "execution_count": 31,
   "metadata": {},
   "outputs": [
    {
     "name": "stderr",
     "output_type": "stream",
     "text": [
      "/home/azapala/.local/lib/python3.8/site-packages/lightgbm/basic.py:1286: UserWarning: Overriding the parameters from Reference Dataset.\n",
      "  warnings.warn('Overriding the parameters from Reference Dataset.')\n",
      "/home/azapala/.local/lib/python3.8/site-packages/lightgbm/basic.py:1098: UserWarning: categorical_column in param dict is overridden.\n",
      "  warnings.warn('{} in param dict is overridden.'.format(cat_alias))\n"
     ]
    },
    {
     "name": "stdout",
     "output_type": "stream",
     "text": [
      "[1]\ttrain's auc: 0.859412\ttest's auc: 0.860084\n",
      "[2]\ttrain's auc: 0.859412\ttest's auc: 0.860084\n",
      "[3]\ttrain's auc: 0.859412\ttest's auc: 0.860084\n",
      "[4]\ttrain's auc: 0.859186\ttest's auc: 0.859638\n",
      "[5]\ttrain's auc: 0.860922\ttest's auc: 0.864164\n",
      "[6]\ttrain's auc: 0.861173\ttest's auc: 0.864674\n",
      "[7]\ttrain's auc: 0.86358\ttest's auc: 0.869773\n",
      "[8]\ttrain's auc: 0.863253\ttest's auc: 0.869518\n",
      "[9]\ttrain's auc: 0.867856\ttest's auc: 0.875064\n",
      "[10]\ttrain's auc: 0.867797\ttest's auc: 0.875829\n",
      "[11]\ttrain's auc: 0.880522\ttest's auc: 0.877868\n",
      "[12]\ttrain's auc: 0.880823\ttest's auc: 0.877741\n",
      "[13]\ttrain's auc: 0.881649\ttest's auc: 0.878825\n",
      "[14]\ttrain's auc: 0.882018\ttest's auc: 0.873725\n",
      "[15]\ttrain's auc: 0.881662\ttest's auc: 0.87296\n",
      "[16]\ttrain's auc: 0.883645\ttest's auc: 0.873598\n",
      "[17]\ttrain's auc: 0.884282\ttest's auc: 0.874171\n",
      "[18]\ttrain's auc: 0.884852\ttest's auc: 0.874426\n",
      "[19]\ttrain's auc: 0.886077\ttest's auc: 0.871558\n",
      "[20]\ttrain's auc: 0.886177\ttest's auc: 0.871303\n",
      "[21]\ttrain's auc: 0.88567\ttest's auc: 0.870984\n",
      "[22]\ttrain's auc: 0.886156\ttest's auc: 0.869837\n",
      "[23]\ttrain's auc: 0.888219\ttest's auc: 0.872833\n",
      "[24]\ttrain's auc: 0.888655\ttest's auc: 0.873598\n",
      "[25]\ttrain's auc: 0.889896\ttest's auc: 0.870411\n",
      "[26]\ttrain's auc: 0.892152\ttest's auc: 0.872195\n",
      "[27]\ttrain's auc: 0.893703\ttest's auc: 0.873343\n",
      "[28]\ttrain's auc: 0.895757\ttest's auc: 0.880354\n",
      "[29]\ttrain's auc: 0.897359\ttest's auc: 0.882904\n",
      "[30]\ttrain's auc: 0.897661\ttest's auc: 0.880737\n"
     ]
    },
    {
     "data": {
      "image/png": "[encoded data removed]",
      "text/plain": [
       "<Figure size 432x288 with 1 Axes>"
      ]
     },
     "metadata": {
      "needs_background": "light"
     },
     "output_type": "display_data"
    },
    {
     "name": "stdout",
     "output_type": "stream",
     "text": [
      "AUC: 0.8807368689444162\n"
     ]
    }
   ],
   "source": [
    "d_train = generate_lgb_dataset(df_train, model_columns, 'Survived')\n",
    "d_test = generate_lgb_dataset(df_test, model_columns, 'Survived')\n",
    "train_and_evaluate(params, d_train, d_test)"
   ]
  },
  {
   "cell_type": "markdown",
   "metadata": {},
   "source": [
    "Na zbiorze testowym również poprawiliśmy metrykę auc: **0.8807** w porównaniu do *0.8783*, stąd możemy wysunąć wniosek, że automatyczne dopasowanie hyperparametrów poprawiło model."
   ]
  }
 ],
 "metadata": {
  "kernelspec": {
   "display_name": "xai",
   "language": "python",
   "name": "xai"
  },
  "language_info": {
   "codemirror_mode": {
    "name": "ipython",
    "version": 3
   },
   "file_extension": ".py",
   "mimetype": "text/x-python",
   "name": "python",
   "nbconvert_exporter": "python",
   "pygments_lexer": "ipython3",
   "version": "3.8.5"
  }
 },
 "nbformat": 4,
 "nbformat_minor": 4
}
