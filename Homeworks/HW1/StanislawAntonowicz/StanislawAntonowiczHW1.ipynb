{
 "cells": [
  {
   "cell_type": "markdown",
   "id": "ignored-roommate",
   "metadata": {},
   "source": [
    "# Homework 1\n",
    "\n",
    "### Importing libraries"
   ]
  },
  {
   "cell_type": "code",
   "execution_count": 33,
   "id": "warming-reliance",
   "metadata": {},
   "outputs": [],
   "source": [
    "import pandas as pd\n",
    "from sklearn.ensemble import RandomForestClassifier\n",
    "from sklearn.preprocessing import OneHotEncoder\n",
    "from sklearn.model_selection import train_test_split\n",
    "from sklearn.metrics import classification_report\n",
    "import numpy as np"
   ]
  },
  {
   "cell_type": "markdown",
   "id": "typical-filename",
   "metadata": {},
   "source": [
    "### Loading data"
   ]
  },
  {
   "cell_type": "code",
   "execution_count": 2,
   "id": "accurate-backup",
   "metadata": {},
   "outputs": [],
   "source": [
    "data = pd.read_csv(\"dataset_24_mushroom.csv\")"
   ]
  },
  {
   "cell_type": "markdown",
   "id": "light-preview",
   "metadata": {},
   "source": [
    "### Transforming data to sklearn-readable format\n",
    "\n",
    "`class` column contains values we want to predict: whether a mushroom is edible/not poisonous or not.\n",
    "\n",
    "I convert it to a binary list (with 1s and 0s.)"
   ]
  },
  {
   "cell_type": "code",
   "execution_count": 17,
   "id": "productive-literacy",
   "metadata": {},
   "outputs": [],
   "source": [
    "y = [1 if dp == \"'p'\" else 0 for dp in data.loc[:,\"class\"]]"
   ]
  },
  {
   "cell_type": "markdown",
   "id": "opening-publication",
   "metadata": {},
   "source": [
    "Next, I drop the previously mentioned `class` column."
   ]
  },
  {
   "cell_type": "code",
   "execution_count": 23,
   "id": "dependent-plasma",
   "metadata": {},
   "outputs": [],
   "source": [
    "dropped = data.drop([\"class\"], axis=1)"
   ]
  },
  {
   "cell_type": "markdown",
   "id": "threaded-columbus",
   "metadata": {},
   "source": [
    "I use one-hot encoding to transform the data to a format suitable for `scikit-learn` `RandomForestClassifier` class."
   ]
  },
  {
   "cell_type": "code",
   "execution_count": 25,
   "id": "favorite-warehouse",
   "metadata": {},
   "outputs": [],
   "source": [
    "encoder = OneHotEncoder()\n",
    "X = encoder.fit_transform(dropped).toarray()"
   ]
  },
  {
   "cell_type": "code",
   "execution_count": 28,
   "id": "distinct-production",
   "metadata": {},
   "outputs": [
    {
     "data": {
      "text/plain": [
       "(8124, 117)"
      ]
     },
     "execution_count": 28,
     "metadata": {},
     "output_type": "execute_result"
    }
   ],
   "source": [
    "X.shape"
   ]
  },
  {
   "cell_type": "markdown",
   "id": "ready-musical",
   "metadata": {},
   "source": [
    "### Splitting to train and test tests\n",
    "\n",
    "I split the dataset to train and test sets (80% training set, 20% test set.)"
   ]
  },
  {
   "cell_type": "code",
   "execution_count": 38,
   "id": "classified-juvenile",
   "metadata": {},
   "outputs": [],
   "source": [
    "X_train, X_test, y_train, y_test = train_test_split(X, y, test_size=0.2, random_state=420)"
   ]
  },
  {
   "cell_type": "markdown",
   "id": "particular-service",
   "metadata": {},
   "source": [
    "### Running classification\n",
    "\n",
    "I use a random forest with default parameters."
   ]
  },
  {
   "cell_type": "code",
   "execution_count": 42,
   "id": "critical-handbook",
   "metadata": {},
   "outputs": [
    {
     "data": {
      "text/plain": [
       "RandomForestClassifier()"
      ]
     },
     "execution_count": 42,
     "metadata": {},
     "output_type": "execute_result"
    }
   ],
   "source": [
    "classifier = RandomForestClassifier()\n",
    "classifier.fit(X_train, y_train)"
   ]
  },
  {
   "cell_type": "markdown",
   "id": "crude-latex",
   "metadata": {},
   "source": [
    "### Evaluating on training set"
   ]
  },
  {
   "cell_type": "markdown",
   "id": "stylish-senate",
   "metadata": {},
   "source": [
    "The prediction is perfect on training set."
   ]
  },
  {
   "cell_type": "code",
   "execution_count": 43,
   "id": "hearing-burner",
   "metadata": {},
   "outputs": [
    {
     "name": "stdout",
     "output_type": "stream",
     "text": [
      "              precision    recall  f1-score   support\n",
      "\n",
      "           0       1.00      1.00      1.00      3373\n",
      "           1       1.00      1.00      1.00      3126\n",
      "\n",
      "    accuracy                           1.00      6499\n",
      "   macro avg       1.00      1.00      1.00      6499\n",
      "weighted avg       1.00      1.00      1.00      6499\n",
      "\n"
     ]
    }
   ],
   "source": [
    "print(classification_report(classifier.predict(X_train), y_train))"
   ]
  },
  {
   "cell_type": "markdown",
   "id": "brave-latest",
   "metadata": {},
   "source": [
    "### Evaluating on test set"
   ]
  },
  {
   "cell_type": "markdown",
   "id": "nominated-faith",
   "metadata": {},
   "source": [
    "The prediction is perfect on the test set also."
   ]
  },
  {
   "cell_type": "code",
   "execution_count": 44,
   "id": "higher-judge",
   "metadata": {},
   "outputs": [
    {
     "name": "stdout",
     "output_type": "stream",
     "text": [
      "              precision    recall  f1-score   support\n",
      "\n",
      "           0       1.00      1.00      1.00       835\n",
      "           1       1.00      1.00      1.00       790\n",
      "\n",
      "    accuracy                           1.00      1625\n",
      "   macro avg       1.00      1.00      1.00      1625\n",
      "weighted avg       1.00      1.00      1.00      1625\n",
      "\n"
     ]
    }
   ],
   "source": [
    "print(classification_report(classifier.predict(X_test), y_test))"
   ]
  },
  {
   "cell_type": "markdown",
   "id": "mental-machine",
   "metadata": {},
   "source": [
    "The performance is surprisingly good, but consistent with the results on OpenML – most of the models there achieve 100% accuracy."
   ]
  },
  {
   "cell_type": "code",
   "execution_count": null,
   "id": "middle-verse",
   "metadata": {},
   "outputs": [],
   "source": []
  }
 ],
 "metadata": {
  "kernelspec": {
   "display_name": "Python 3",
   "language": "python",
   "name": "python3"
  },
  "language_info": {
   "codemirror_mode": {
    "name": "ipython",
    "version": 3
   },
   "file_extension": ".py",
   "mimetype": "text/x-python",
   "name": "python",
   "nbconvert_exporter": "python",
   "pygments_lexer": "ipython3",
   "version": "3.8.8"
  }
 },
 "nbformat": 4,
 "nbformat_minor": 5
}
