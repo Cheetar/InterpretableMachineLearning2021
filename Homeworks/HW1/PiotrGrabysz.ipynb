{
 "cells": [
  {
   "cell_type": "markdown",
   "metadata": {},
   "source": [
    "This notebook is about mushroom classification. The dataset can be found here: https://www.kaggle.com/uciml/mushroom-classification?select=mushrooms.csv\n",
    "\n",
    "According to Kaggle's description, The Audubon Society Field Guide to North American Mushrooms (1981) states that there is no simple rule for determining the edibility of a mushroom.\n",
    "\n",
    "So the goal here is to learn which features spell certain death and which corresponds to edibility in this dataset of mushroom characteristics. It is also important to understand how certain the model can be.\n",
    "\n",
    "Let's investigate the data:"
   ]
  },
  {
   "cell_type": "code",
   "execution_count": 1,
   "metadata": {},
   "outputs": [
    {
     "data": {
      "text/html": [
       "<div>\n",
       "<style scoped>\n",
       "    .dataframe tbody tr th:only-of-type {\n",
       "        vertical-align: middle;\n",
       "    }\n",
       "\n",
       "    .dataframe tbody tr th {\n",
       "        vertical-align: top;\n",
       "    }\n",
       "\n",
       "    .dataframe thead th {\n",
       "        text-align: right;\n",
       "    }\n",
       "</style>\n",
       "<table border=\"1\" class=\"dataframe\">\n",
       "  <thead>\n",
       "    <tr style=\"text-align: right;\">\n",
       "      <th></th>\n",
       "      <th>class</th>\n",
       "      <th>cap-shape</th>\n",
       "      <th>cap-surface</th>\n",
       "      <th>cap-color</th>\n",
       "      <th>bruises</th>\n",
       "      <th>odor</th>\n",
       "      <th>gill-attachment</th>\n",
       "      <th>gill-spacing</th>\n",
       "      <th>gill-size</th>\n",
       "      <th>gill-color</th>\n",
       "      <th>...</th>\n",
       "      <th>stalk-surface-below-ring</th>\n",
       "      <th>stalk-color-above-ring</th>\n",
       "      <th>stalk-color-below-ring</th>\n",
       "      <th>veil-type</th>\n",
       "      <th>veil-color</th>\n",
       "      <th>ring-number</th>\n",
       "      <th>ring-type</th>\n",
       "      <th>spore-print-color</th>\n",
       "      <th>population</th>\n",
       "      <th>habitat</th>\n",
       "    </tr>\n",
       "  </thead>\n",
       "  <tbody>\n",
       "    <tr>\n",
       "      <th>0</th>\n",
       "      <td>p</td>\n",
       "      <td>x</td>\n",
       "      <td>s</td>\n",
       "      <td>n</td>\n",
       "      <td>t</td>\n",
       "      <td>p</td>\n",
       "      <td>f</td>\n",
       "      <td>c</td>\n",
       "      <td>n</td>\n",
       "      <td>k</td>\n",
       "      <td>...</td>\n",
       "      <td>s</td>\n",
       "      <td>w</td>\n",
       "      <td>w</td>\n",
       "      <td>p</td>\n",
       "      <td>w</td>\n",
       "      <td>o</td>\n",
       "      <td>p</td>\n",
       "      <td>k</td>\n",
       "      <td>s</td>\n",
       "      <td>u</td>\n",
       "    </tr>\n",
       "    <tr>\n",
       "      <th>1</th>\n",
       "      <td>e</td>\n",
       "      <td>x</td>\n",
       "      <td>s</td>\n",
       "      <td>y</td>\n",
       "      <td>t</td>\n",
       "      <td>a</td>\n",
       "      <td>f</td>\n",
       "      <td>c</td>\n",
       "      <td>b</td>\n",
       "      <td>k</td>\n",
       "      <td>...</td>\n",
       "      <td>s</td>\n",
       "      <td>w</td>\n",
       "      <td>w</td>\n",
       "      <td>p</td>\n",
       "      <td>w</td>\n",
       "      <td>o</td>\n",
       "      <td>p</td>\n",
       "      <td>n</td>\n",
       "      <td>n</td>\n",
       "      <td>g</td>\n",
       "    </tr>\n",
       "    <tr>\n",
       "      <th>2</th>\n",
       "      <td>e</td>\n",
       "      <td>b</td>\n",
       "      <td>s</td>\n",
       "      <td>w</td>\n",
       "      <td>t</td>\n",
       "      <td>l</td>\n",
       "      <td>f</td>\n",
       "      <td>c</td>\n",
       "      <td>b</td>\n",
       "      <td>n</td>\n",
       "      <td>...</td>\n",
       "      <td>s</td>\n",
       "      <td>w</td>\n",
       "      <td>w</td>\n",
       "      <td>p</td>\n",
       "      <td>w</td>\n",
       "      <td>o</td>\n",
       "      <td>p</td>\n",
       "      <td>n</td>\n",
       "      <td>n</td>\n",
       "      <td>m</td>\n",
       "    </tr>\n",
       "    <tr>\n",
       "      <th>3</th>\n",
       "      <td>p</td>\n",
       "      <td>x</td>\n",
       "      <td>y</td>\n",
       "      <td>w</td>\n",
       "      <td>t</td>\n",
       "      <td>p</td>\n",
       "      <td>f</td>\n",
       "      <td>c</td>\n",
       "      <td>n</td>\n",
       "      <td>n</td>\n",
       "      <td>...</td>\n",
       "      <td>s</td>\n",
       "      <td>w</td>\n",
       "      <td>w</td>\n",
       "      <td>p</td>\n",
       "      <td>w</td>\n",
       "      <td>o</td>\n",
       "      <td>p</td>\n",
       "      <td>k</td>\n",
       "      <td>s</td>\n",
       "      <td>u</td>\n",
       "    </tr>\n",
       "    <tr>\n",
       "      <th>4</th>\n",
       "      <td>e</td>\n",
       "      <td>x</td>\n",
       "      <td>s</td>\n",
       "      <td>g</td>\n",
       "      <td>f</td>\n",
       "      <td>n</td>\n",
       "      <td>f</td>\n",
       "      <td>w</td>\n",
       "      <td>b</td>\n",
       "      <td>k</td>\n",
       "      <td>...</td>\n",
       "      <td>s</td>\n",
       "      <td>w</td>\n",
       "      <td>w</td>\n",
       "      <td>p</td>\n",
       "      <td>w</td>\n",
       "      <td>o</td>\n",
       "      <td>e</td>\n",
       "      <td>n</td>\n",
       "      <td>a</td>\n",
       "      <td>g</td>\n",
       "    </tr>\n",
       "  </tbody>\n",
       "</table>\n",
       "<p>5 rows × 23 columns</p>\n",
       "</div>"
      ],
      "text/plain": [
       "  class cap-shape cap-surface cap-color bruises odor gill-attachment  \\\n",
       "0     p         x           s         n       t    p               f   \n",
       "1     e         x           s         y       t    a               f   \n",
       "2     e         b           s         w       t    l               f   \n",
       "3     p         x           y         w       t    p               f   \n",
       "4     e         x           s         g       f    n               f   \n",
       "\n",
       "  gill-spacing gill-size gill-color  ... stalk-surface-below-ring  \\\n",
       "0            c         n          k  ...                        s   \n",
       "1            c         b          k  ...                        s   \n",
       "2            c         b          n  ...                        s   \n",
       "3            c         n          n  ...                        s   \n",
       "4            w         b          k  ...                        s   \n",
       "\n",
       "  stalk-color-above-ring stalk-color-below-ring veil-type veil-color  \\\n",
       "0                      w                      w         p          w   \n",
       "1                      w                      w         p          w   \n",
       "2                      w                      w         p          w   \n",
       "3                      w                      w         p          w   \n",
       "4                      w                      w         p          w   \n",
       "\n",
       "  ring-number ring-type spore-print-color population habitat  \n",
       "0           o         p                 k          s       u  \n",
       "1           o         p                 n          n       g  \n",
       "2           o         p                 n          n       m  \n",
       "3           o         p                 k          s       u  \n",
       "4           o         e                 n          a       g  \n",
       "\n",
       "[5 rows x 23 columns]"
      ]
     },
     "execution_count": 1,
     "metadata": {},
     "output_type": "execute_result"
    }
   ],
   "source": [
    "import pandas as pd\n",
    "mushrooms = pd.read_csv(\"./mushrooms.csv\")\n",
    "\n",
    "mushrooms.head()"
   ]
  },
  {
   "cell_type": "markdown",
   "metadata": {},
   "source": [
    "There are 23 categorical variables. The *class* variable means edible for *e* and poisonous for *p*. \n",
    "\n",
    "Let's see if the number of edible samples is equal to the number of poisonous samples:"
   ]
  },
  {
   "cell_type": "code",
   "execution_count": 2,
   "metadata": {},
   "outputs": [
    {
     "data": {
      "image/png": "[encoded data removed]",
      "text/plain": [
       "<Figure size 432x288 with 1 Axes>"
      ]
     },
     "metadata": {
      "needs_background": "light"
     },
     "output_type": "display_data"
    }
   ],
   "source": [
    "import matplotlib.pyplot as plt\n",
    "%matplotlib inline\n",
    "\n",
    "plt.bar([\"edible\", \"poisonous\"], [mushrooms[\"class\"].value_counts()[\"e\"], mushrooms[\"class\"].value_counts()[\"p\"]])\n",
    "plt.show()"
   ]
  },
  {
   "cell_type": "markdown",
   "metadata": {},
   "source": [
    "Yes, the ratio of poisonous vs edible mushrooms is more or less equal.\n",
    "\n",
    "One of the goals is to find feautures that might be important, so I use random forest, because it allows to easily see which features contribute most to the model's accuracy. But because the variables are categorical, I firstly do one hot encoding on them."
   ]
  },
  {
   "cell_type": "code",
   "execution_count": 3,
   "metadata": {},
   "outputs": [],
   "source": [
    "from sklearn import preprocessing\n",
    "\n",
    "X = mushrooms.drop(\"class\", axis=1)\n",
    "y = mushrooms[\"class\"]\n",
    "\n",
    "# one-hot-encode dependent variables\n",
    "enc = preprocessing.OneHotEncoder(drop='first')\n",
    "X = enc.fit_transform(X)\n",
    "\n",
    "# binarize the class variable\n",
    "lb = preprocessing.LabelBinarizer()\n",
    "y = lb.fit_transform(y).ravel()"
   ]
  },
  {
   "cell_type": "code",
   "execution_count": 4,
   "metadata": {},
   "outputs": [
    {
     "name": "stdout",
     "output_type": "stream",
     "text": [
      "The accuracy of the model is 100.000%\n"
     ]
    }
   ],
   "source": [
    "from sklearn.ensemble import RandomForestClassifier\n",
    "from sklearn.model_selection import train_test_split\n",
    "from numpy import mean\n",
    "\n",
    "X_train, X_test, y_train, y_test = train_test_split(X, y, test_size=0.2, random_state=1)\n",
    "\n",
    "rf_model = RandomForestClassifier()\n",
    "rf_model.fit(X_train, y_train)\n",
    "preds = rf_model.predict(X_test)\n",
    "acc = mean(preds == y_test)\n",
    "print(f\"The accuracy of the model is {acc*100:.3f}%\")"
   ]
  },
  {
   "cell_type": "markdown",
   "metadata": {},
   "source": [
    "The model has reached 100% accuracy without any hyperparameters tuning! It is totally unexpected to me, especially that the Kaggle's description mentioned the book about mushrooms, in which there is a statement that *there is no simple rule for determining the edibility of a mushroom*!\n",
    "\n",
    "It is so surprising that I spent some time looking for an error but it turns out that this model is really so good. So it is very likely that there is a simple rule to determine edibility. Let's investigate the feature importance:"
   ]
  },
  {
   "cell_type": "code",
   "execution_count": 5,
   "metadata": {},
   "outputs": [
    {
     "name": "stdout",
     "output_type": "stream",
     "text": [
      "Variable: odor_n                    Importance: 0.17\n",
      "Variable: odor_f                    Importance: 0.1\n",
      "Variable: gill-size_n               Importance: 0.08\n",
      "Variable: stalk-surface-above-ring_k Importance: 0.06\n",
      "Variable: ring-type_p               Importance: 0.06\n",
      "Variable: bruises_t                 Importance: 0.04\n",
      "Variable: stalk-surface-below-ring_k Importance: 0.04\n",
      "Variable: gill-spacing_w            Importance: 0.03\n",
      "Variable: stalk-shape_t             Importance: 0.03\n",
      "Variable: spore-print-color_w       Importance: 0.03\n",
      "Variable: population_v              Importance: 0.03\n",
      "Variable: odor_p                    Importance: 0.02\n",
      "Variable: stalk-root_b              Importance: 0.02\n",
      "Variable: stalk-root_c              Importance: 0.02\n",
      "Variable: stalk-root_e              Importance: 0.02\n",
      "Variable: stalk-surface-above-ring_s Importance: 0.02\n",
      "Variable: spore-print-color_h       Importance: 0.02\n",
      "Variable: cap-surface_s             Importance: 0.01\n",
      "Variable: cap-color_y               Importance: 0.01\n",
      "Variable: odor_c                    Importance: 0.01\n",
      "Variable: odor_l                    Importance: 0.01\n",
      "Variable: odor_s                    Importance: 0.01\n",
      "Variable: stalk-surface-below-ring_s Importance: 0.01\n",
      "Variable: stalk-color-below-ring_w  Importance: 0.01\n",
      "Variable: ring-number_o             Importance: 0.01\n",
      "Variable: ring-number_t             Importance: 0.01\n",
      "Variable: ring-type_l               Importance: 0.01\n",
      "Variable: spore-print-color_k       Importance: 0.01\n",
      "Variable: spore-print-color_n       Importance: 0.01\n",
      "Variable: spore-print-color_r       Importance: 0.01\n",
      "Variable: population_s              Importance: 0.01\n",
      "Variable: habitat_g                 Importance: 0.01\n",
      "Variable: habitat_m                 Importance: 0.01\n",
      "Variable: habitat_u                 Importance: 0.01\n",
      "Variable: cap-shape_c               Importance: 0.0\n",
      "Variable: cap-shape_f               Importance: 0.0\n",
      "Variable: cap-shape_k               Importance: 0.0\n",
      "Variable: cap-shape_s               Importance: 0.0\n",
      "Variable: cap-shape_x               Importance: 0.0\n",
      "Variable: cap-surface_g             Importance: 0.0\n",
      "Variable: cap-surface_y             Importance: 0.0\n",
      "Variable: cap-color_c               Importance: 0.0\n",
      "Variable: cap-color_e               Importance: 0.0\n",
      "Variable: cap-color_g               Importance: 0.0\n",
      "Variable: cap-color_n               Importance: 0.0\n",
      "Variable: cap-color_p               Importance: 0.0\n",
      "Variable: cap-color_r               Importance: 0.0\n",
      "Variable: cap-color_u               Importance: 0.0\n",
      "Variable: cap-color_w               Importance: 0.0\n",
      "Variable: odor_m                    Importance: 0.0\n",
      "Variable: odor_y                    Importance: 0.0\n",
      "Variable: gill-attachment_f         Importance: 0.0\n",
      "Variable: gill-color_e              Importance: 0.0\n",
      "Variable: gill-color_g              Importance: 0.0\n",
      "Variable: gill-color_h              Importance: 0.0\n",
      "Variable: gill-color_k              Importance: 0.0\n",
      "Variable: gill-color_n              Importance: 0.0\n",
      "Variable: gill-color_o              Importance: 0.0\n",
      "Variable: gill-color_p              Importance: 0.0\n",
      "Variable: gill-color_r              Importance: 0.0\n",
      "Variable: gill-color_u              Importance: 0.0\n",
      "Variable: gill-color_w              Importance: 0.0\n",
      "Variable: gill-color_y              Importance: 0.0\n",
      "Variable: stalk-root_r              Importance: 0.0\n",
      "Variable: stalk-surface-above-ring_y Importance: 0.0\n",
      "Variable: stalk-surface-below-ring_y Importance: 0.0\n",
      "Variable: stalk-color-above-ring_c  Importance: 0.0\n",
      "Variable: stalk-color-above-ring_e  Importance: 0.0\n",
      "Variable: stalk-color-above-ring_g  Importance: 0.0\n",
      "Variable: stalk-color-above-ring_n  Importance: 0.0\n",
      "Variable: stalk-color-above-ring_o  Importance: 0.0\n",
      "Variable: stalk-color-above-ring_p  Importance: 0.0\n",
      "Variable: stalk-color-above-ring_w  Importance: 0.0\n",
      "Variable: stalk-color-above-ring_y  Importance: 0.0\n",
      "Variable: stalk-color-below-ring_c  Importance: 0.0\n",
      "Variable: stalk-color-below-ring_e  Importance: 0.0\n",
      "Variable: stalk-color-below-ring_g  Importance: 0.0\n",
      "Variable: stalk-color-below-ring_n  Importance: 0.0\n",
      "Variable: stalk-color-below-ring_o  Importance: 0.0\n",
      "Variable: stalk-color-below-ring_p  Importance: 0.0\n",
      "Variable: stalk-color-below-ring_y  Importance: 0.0\n",
      "Variable: veil-color_o              Importance: 0.0\n",
      "Variable: veil-color_w              Importance: 0.0\n",
      "Variable: veil-color_y              Importance: 0.0\n",
      "Variable: ring-type_f               Importance: 0.0\n",
      "Variable: ring-type_n               Importance: 0.0\n",
      "Variable: spore-print-color_o       Importance: 0.0\n",
      "Variable: spore-print-color_u       Importance: 0.0\n",
      "Variable: spore-print-color_y       Importance: 0.0\n",
      "Variable: population_c              Importance: 0.0\n",
      "Variable: population_n              Importance: 0.0\n",
      "Variable: population_y              Importance: 0.0\n",
      "Variable: habitat_l                 Importance: 0.0\n",
      "Variable: habitat_p                 Importance: 0.0\n",
      "Variable: habitat_w                 Importance: 0.0\n"
     ]
    }
   ],
   "source": [
    "importances = list(rf_model.feature_importances_)\n",
    "\n",
    "# names of one-hot-encoded features\n",
    "feature_list = enc.get_feature_names( mushrooms.drop(\"class\", axis=1).columns)\n",
    "\n",
    "feature_importances = [(feature, round(importance, 2)) for feature, importance in zip(feature_list, importances)]\n",
    "# Sort feature_importances in decreasing order\n",
    "feature_importances = sorted(feature_importances, key = lambda x: x[1], reverse = True)\n",
    "\n",
    "# Print out the features and their importances \n",
    "[print('Variable: {:25} Importance: {}'.format(*pair)) for pair in feature_importances];"
   ]
  },
  {
   "cell_type": "markdown",
   "metadata": {},
   "source": [
    "The above features are the one-hot-encoded features. The most important features are *odor_f* and *odor_n* which corresponds to foul (it is synonym to disgusting) odor and none odor. Let's see the distribution of classes vs odor labels:"
   ]
  },
  {
   "cell_type": "code",
   "execution_count": 6,
   "metadata": {},
   "outputs": [
    {
     "data": {
      "text/html": [
       "<div>\n",
       "<style scoped>\n",
       "    .dataframe tbody tr th:only-of-type {\n",
       "        vertical-align: middle;\n",
       "    }\n",
       "\n",
       "    .dataframe tbody tr th {\n",
       "        vertical-align: top;\n",
       "    }\n",
       "\n",
       "    .dataframe thead th {\n",
       "        text-align: right;\n",
       "    }\n",
       "</style>\n",
       "<table border=\"1\" class=\"dataframe\">\n",
       "  <thead>\n",
       "    <tr style=\"text-align: right;\">\n",
       "      <th></th>\n",
       "      <th></th>\n",
       "      <th>class</th>\n",
       "    </tr>\n",
       "    <tr>\n",
       "      <th>odor</th>\n",
       "      <th>class</th>\n",
       "      <th></th>\n",
       "    </tr>\n",
       "  </thead>\n",
       "  <tbody>\n",
       "    <tr>\n",
       "      <th>a</th>\n",
       "      <th>e</th>\n",
       "      <td>400</td>\n",
       "    </tr>\n",
       "    <tr>\n",
       "      <th>c</th>\n",
       "      <th>p</th>\n",
       "      <td>192</td>\n",
       "    </tr>\n",
       "    <tr>\n",
       "      <th>f</th>\n",
       "      <th>p</th>\n",
       "      <td>2160</td>\n",
       "    </tr>\n",
       "    <tr>\n",
       "      <th>l</th>\n",
       "      <th>e</th>\n",
       "      <td>400</td>\n",
       "    </tr>\n",
       "    <tr>\n",
       "      <th>m</th>\n",
       "      <th>p</th>\n",
       "      <td>36</td>\n",
       "    </tr>\n",
       "    <tr>\n",
       "      <th rowspan=\"2\" valign=\"top\">n</th>\n",
       "      <th>e</th>\n",
       "      <td>3408</td>\n",
       "    </tr>\n",
       "    <tr>\n",
       "      <th>p</th>\n",
       "      <td>120</td>\n",
       "    </tr>\n",
       "    <tr>\n",
       "      <th>p</th>\n",
       "      <th>p</th>\n",
       "      <td>256</td>\n",
       "    </tr>\n",
       "    <tr>\n",
       "      <th>s</th>\n",
       "      <th>p</th>\n",
       "      <td>576</td>\n",
       "    </tr>\n",
       "    <tr>\n",
       "      <th>y</th>\n",
       "      <th>p</th>\n",
       "      <td>576</td>\n",
       "    </tr>\n",
       "  </tbody>\n",
       "</table>\n",
       "</div>"
      ],
      "text/plain": [
       "            class\n",
       "odor class       \n",
       "a    e        400\n",
       "c    p        192\n",
       "f    p       2160\n",
       "l    e        400\n",
       "m    p         36\n",
       "n    e       3408\n",
       "     p        120\n",
       "p    p        256\n",
       "s    p        576\n",
       "y    p        576"
      ]
     },
     "execution_count": 6,
     "metadata": {},
     "output_type": "execute_result"
    }
   ],
   "source": [
    "mushrooms.groupby(['odor'])['class'].value_counts().to_frame()"
   ]
  },
  {
   "cell_type": "markdown",
   "metadata": {},
   "source": [
    "One can witness here the very extreme purity. Every odor correlates *excactly* to edibility except if there is no odor, since there is a small chance that the mushroom is poisonous then. This chance is 120/8124 = 0.0148, so the classifier based solely on the odor variable could reach near 100% accuracy.\n",
    "\n",
    "So, if you are interested in mushroom hunting, quite a simple and intuitive rule can be extracted while looking at the above table. If the mushroom has any smell, it is more likely that it is poisonous. It is surely poisonous if this smell is creosote,fishy, foul, musty, pungent or spicy and surely edible if the smell is almond or anise. If there is no smell then you can be 96.48% sure that the mushroom is edible.\n",
    "\n",
    "In case of the above model, there is a chance that it reached the 100% accuracy because there are no samples in the test set with class=\"p\" and odor=\"n\" (meaning there are no difficult samples in the test_set). It is important to check if the split into train and test sets is balanced."
   ]
  },
  {
   "cell_type": "code",
   "execution_count": 7,
   "metadata": {},
   "outputs": [
    {
     "name": "stdout",
     "output_type": "stream",
     "text": [
      "Found odor_n at index 22\n"
     ]
    }
   ],
   "source": [
    "# get the index of odor_n column in the one-hot-encoded matrix\n",
    "for i, name in enumerate(feature_list):\n",
    "    if \"odor_n\" in name:\n",
    "        print(f\"Found odor_n at index {i}\")"
   ]
  },
  {
   "cell_type": "code",
   "execution_count": 8,
   "metadata": {},
   "outputs": [
    {
     "name": "stdout",
     "output_type": "stream",
     "text": [
      "Number of rows with odor==n and class==p in the training set: 88\n",
      "Number of rows with odor==n and class==p in the test set: 32\n"
     ]
    }
   ],
   "source": [
    "import scipy\n",
    "print(\"Number of rows with odor==n and class==p in the training set:\", \\\n",
    "      y_train[scipy.sparse.find(X_train[:,22]==1)[0]].sum()\n",
    "     )\n",
    "\n",
    "print(\"Number of rows with odor==n and class==p in the test set:\", \\\n",
    "y_test[scipy.sparse.find(X_test[:,22]==1)[0]].sum()\n",
    "     )"
   ]
  },
  {
   "cell_type": "markdown",
   "metadata": {},
   "source": [
    "Therefore there are 20 samples which belongs to the only difficult class in the data set (no odor and poisonous) and yet the model classifies them correctly.\n",
    "\n",
    "Finally, let's see take a look at aggregated features importance, where one-hot-encoded features are summed up if they belong to the same category."
   ]
  },
  {
   "cell_type": "code",
   "execution_count": 9,
   "metadata": {},
   "outputs": [
    {
     "data": {
      "image/png": "[encoded data removed]",
      "text/plain": [
       "<Figure size 1080x1440 with 1 Axes>"
      ]
     },
     "metadata": {
      "needs_background": "light"
     },
     "output_type": "display_data"
    }
   ],
   "source": [
    "col_names = mushrooms.columns\n",
    "\n",
    "feature_importances = dict()\n",
    "# the column name (feature name) is the key, and its importance is the value\n",
    "# initialize the dictionary with zeros:\n",
    "for col_name in col_names:\n",
    "    feature_importances[col_name] = 0.\n",
    "\n",
    "# sum up the importances\n",
    "for feature, importance in zip(feature_list, importances):\n",
    "    for col_name in col_names:\n",
    "        if col_name in feature:\n",
    "            feature_importances[col_name] += importance\n",
    "\n",
    "# sort importances in descending order\n",
    "feature_importances = sorted(feature_importances.items(), key = lambda x: x[1], reverse = False)\n",
    "\n",
    "plt.figure(figsize=(15,20))\n",
    "plt.barh([pair[0] for pair in feature_importances], [pair[1] for pair in feature_importances])\n",
    "plt.xlabel(\"Feature importance\")\n",
    "plt.show()"
   ]
  }
 ],
 "metadata": {
  "kernelspec": {
   "display_name": "Python 3",
   "language": "python",
   "name": "python3"
  },
  "language_info": {
   "codemirror_mode": {
    "name": "ipython",
    "version": 3
   },
   "file_extension": ".py",
   "mimetype": "text/x-python",
   "name": "python",
   "nbconvert_exporter": "python",
   "pygments_lexer": "ipython3",
   "version": "3.8.5"
  }
 },
 "nbformat": 4,
 "nbformat_minor": 4
}
