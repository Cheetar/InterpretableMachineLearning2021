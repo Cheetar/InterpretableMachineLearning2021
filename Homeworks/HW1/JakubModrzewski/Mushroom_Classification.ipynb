{
  "nbformat": 4,
  "nbformat_minor": 0,
  "metadata": {
    "colab": {
      "name": "Mushroom_Classification.ipynb",
      "provenance": [],
      "collapsed_sections": []
    },
    "kernelspec": {
      "name": "python3",
      "display_name": "Python 3"
    }
  },
  "cells": [
    {
      "cell_type": "code",
      "metadata": {
        "colab": {
          "base_uri": "https://localhost:8080/"
        },
        "id": "_G4QwgwjfkVE",
        "outputId": "e4b559cf-92a9-4886-850a-e5612f8cf46d"
      },
      "source": [
        "#\r\n",
        "# Import\r\n",
        "#\r\n",
        "\r\n",
        "import numpy as np\r\n",
        "import pandas as pd\r\n",
        "\r\n",
        "from tensorflow.keras.models import Sequential\r\n",
        "from tensorflow.keras.layers import Dense, Dropout\r\n",
        "from tensorflow.keras.optimizers import Adam\r\n",
        "from sklearn.preprocessing import OneHotEncoder\r\n",
        "from sklearn.model_selection import train_test_split\r\n",
        "\r\n",
        "#\r\n",
        "# Load Data (requires mushrooms.csv from https://www.kaggle.com/uciml/mushroom-classification to be present in the root of colab files)\r\n",
        "#\r\n",
        "\r\n",
        "df = pd.read_csv(\"mushrooms.csv\")\r\n",
        "\r\n",
        "#\r\n",
        "# Pre-process - separate classes from features and one-hot encode both\r\n",
        "#\r\n",
        "\r\n",
        "encoder = OneHotEncoder(drop='first', dtype=int)\r\n",
        "y = df.loc[:,'class'].values\r\n",
        "X = df.drop(['class'], axis=1)\r\n",
        "y = encoder.fit_transform(y.reshape(-1, 1)).todense()\r\n",
        "X = encoder.fit_transform(X)\r\n",
        "\r\n",
        "#\r\n",
        "# Train/Val/Test split\r\n",
        "#\r\n",
        "\r\n",
        "X_train, X_test, y_train, y_test = train_test_split(X, y, test_size=0.2, shuffle=True)\r\n",
        "X_train, X_val, y_train, y_val = train_test_split(X_train, y_train, test_size=0.2, shuffle=True)\r\n",
        "\r\n",
        "#\r\n",
        "# Very basic dense + dropout model\r\n",
        "#\r\n",
        "\r\n",
        "model = Sequential()\r\n",
        "model.add(Dense(32, activation='relu'))\r\n",
        "model.add(Dropout(rate=0.25))\r\n",
        "model.add(Dense(64, activation='relu'))\r\n",
        "model.add(Dropout(rate=0.25))\r\n",
        "model.add(Dense(1, activation='sigmoid')) \r\n",
        "model.compile(loss='binary_crossentropy', optimizer=Adam(learning_rate=0.0001), metrics=['accuracy'])\r\n",
        "\r\n",
        "#\r\n",
        "# Train\r\n",
        "#\r\n",
        "\r\n",
        "model.fit(X_train, y_train, batch_size=16, epochs=10, validation_data=(X_val, y_val))\r\n",
        "\r\n",
        "#\r\n",
        "# Evaluate\r\n",
        "#\r\n",
        "\r\n",
        "score = model.evaluate(X_test, y_test)\r\n",
        "print('Test loss:', score[0])\r\n",
        "print('Test accuracy:', score[1])"
      ],
      "execution_count": 10,
      "outputs": [
        {
          "output_type": "stream",
          "text": [
            "Epoch 1/10\n",
            "325/325 [==============================] - 1s 2ms/step - loss: 0.6550 - accuracy: 0.6559 - val_loss: 0.5042 - val_accuracy: 0.9308\n",
            "Epoch 2/10\n",
            "325/325 [==============================] - 1s 2ms/step - loss: 0.4722 - accuracy: 0.8847 - val_loss: 0.2707 - val_accuracy: 0.9385\n",
            "Epoch 3/10\n",
            "325/325 [==============================] - 1s 2ms/step - loss: 0.2794 - accuracy: 0.9206 - val_loss: 0.1529 - val_accuracy: 0.9538\n",
            "Epoch 4/10\n",
            "325/325 [==============================] - 1s 2ms/step - loss: 0.1845 - accuracy: 0.9351 - val_loss: 0.0949 - val_accuracy: 0.9715\n",
            "Epoch 5/10\n",
            "325/325 [==============================] - 1s 2ms/step - loss: 0.1193 - accuracy: 0.9661 - val_loss: 0.0619 - val_accuracy: 0.9862\n",
            "Epoch 6/10\n",
            "325/325 [==============================] - 1s 2ms/step - loss: 0.0944 - accuracy: 0.9709 - val_loss: 0.0446 - val_accuracy: 0.9885\n",
            "Epoch 7/10\n",
            "325/325 [==============================] - 1s 2ms/step - loss: 0.0655 - accuracy: 0.9828 - val_loss: 0.0329 - val_accuracy: 0.9892\n",
            "Epoch 8/10\n",
            "325/325 [==============================] - 1s 2ms/step - loss: 0.0548 - accuracy: 0.9828 - val_loss: 0.0250 - val_accuracy: 0.9923\n",
            "Epoch 9/10\n",
            "325/325 [==============================] - 1s 2ms/step - loss: 0.0418 - accuracy: 0.9874 - val_loss: 0.0195 - val_accuracy: 0.9931\n",
            "Epoch 10/10\n",
            "325/325 [==============================] - 1s 2ms/step - loss: 0.0328 - accuracy: 0.9916 - val_loss: 0.0154 - val_accuracy: 0.9946\n",
            "51/51 [==============================] - 0s 1ms/step - loss: 0.0215 - accuracy: 0.9902\n",
            "Test loss: 0.021478794515132904\n",
            "Test accuracy: 0.9901538491249084\n"
          ],
          "name": "stdout"
        }
      ]
    }
  ]
}