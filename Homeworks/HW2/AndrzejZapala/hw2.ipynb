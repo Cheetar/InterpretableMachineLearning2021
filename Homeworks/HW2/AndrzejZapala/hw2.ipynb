{
 "cells": [
  {
   "cell_type": "code",
   "execution_count": 102,
   "metadata": {},
   "outputs": [],
   "source": [
    "import pandas as pd\n",
    "import numpy as np\n",
    "import dalex as dx\n",
    "\n",
    "from lightgbm import LGBMClassifier\n",
    "from sklearn.model_selection import train_test_split\n",
    "from sklearn.preprocessing import OrdinalEncoder, StandardScaler\n",
    "from sklearn.compose import make_column_transformer\n",
    "from sklearn.pipeline import make_pipeline\n",
    "from sklearn.model_selection import train_test_split\n",
    "from sklearn.metrics import roc_auc_score\n",
    "from sklearn.neural_network import MLPClassifier\n",
    "from sklearn.impute import SimpleImputer\n",
    "import seaborn as sns\n",
    "import matplotlib.pyplot as plt"
   ]
  },
  {
   "cell_type": "markdown",
   "metadata": {},
   "source": [
    "## Ładowanie danych\n",
    "Załadowanie danych dotyczących przeżywalności pasażerów najpopularniejszej katastrofy statku pasażerskiego na świecie. Dane ściągamy wykorzystując [api](https://github.com/Kaggle/kaggle-api) udostępnione przez serwis kaggle.com ."
   ]
  },
  {
   "cell_type": "code",
   "execution_count": 2,
   "metadata": {},
   "outputs": [
    {
     "name": "stdout",
     "output_type": "stream",
     "text": [
      "titanic.zip: Skipping, found more recently modified local copy (use --force to force download)\r\n"
     ]
    }
   ],
   "source": [
    "!kaggle competitions download -c titanic"
   ]
  },
  {
   "cell_type": "code",
   "execution_count": 3,
   "metadata": {},
   "outputs": [
    {
     "name": "stdout",
     "output_type": "stream",
     "text": [
      "Archive:  titanic.zip\r\n",
      "  inflating: gender_submission.csv   \r\n",
      "  inflating: test.csv                \r\n",
      "  inflating: train.csv               \r\n"
     ]
    }
   ],
   "source": [
    "!unzip -o titanic.zip"
   ]
  },
  {
   "cell_type": "code",
   "execution_count": 4,
   "metadata": {},
   "outputs": [],
   "source": [
    "df = pd.read_csv('./train.csv', index_col='PassengerId')\n",
    "df.reset_index(inplace=True)\n",
    "\n",
    "df_train, df_test = train_test_split(df, test_size=0.2, shuffle=False)"
   ]
  },
  {
   "cell_type": "markdown",
   "metadata": {},
   "source": [
    "## Opis załadowanych featerów"
   ]
  },
  {
   "cell_type": "markdown",
   "metadata": {},
   "source": [
    "| Name | Description | Info |\n",
    "| --- | --- | --- |\n",
    "| PassengerId | id |\n",
    "| Survived | Survival | 0 = No, 1 = Yes |\n",
    "| Pclass | Ticket   | class 1 = 1st, 2 = 2nd, 3 = 3rd |\n",
    "| Sex\t |Sex\t\n",
    "| Age | Age in years |\n",
    "| SibSp | number of siblings / spouses aboard the Titanic |\n",
    "|Parch | number of parents / children aboard the Titanic |\n",
    "| Fare | Passenger fare |\n",
    "| Ticket | Ticket number |\n",
    "| Cabin | Cabin number |\n",
    "| Embarked | Port of Embarkation | C = Cherbourg, Q = Queenstown, S = Southampton"
   ]
  },
  {
   "cell_type": "markdown",
   "metadata": {},
   "source": [
    "## 1 Trenowanie modelu"
   ]
  },
  {
   "cell_type": "code",
   "execution_count": 5,
   "metadata": {},
   "outputs": [
    {
     "name": "stderr",
     "output_type": "stream",
     "text": [
      "/home/azapala/.local/lib/python3.8/site-packages/lightgbm/basic.py:1551: UserWarning: Using categorical_feature in Dataset.\n",
      "  warnings.warn('Using categorical_feature in Dataset.')\n"
     ]
    },
    {
     "data": {
      "text/plain": [
       "Pipeline(steps=[('columntransformer',\n",
       "                 ColumnTransformer(transformers=[('standardscaler',\n",
       "                                                  StandardScaler(),\n",
       "                                                  [0, 1, 2, 3]),\n",
       "                                                 ('ordinalencoder',\n",
       "                                                  OrdinalEncoder(), [4, 5])])),\n",
       "                ('lgbmclassifier', LGBMClassifier(max_depth=4))])"
      ]
     },
     "execution_count": 5,
     "metadata": {},
     "output_type": "execute_result"
    }
   ],
   "source": [
    "continous_columns = ['Age', 'SibSp', 'Parch', 'Fare']\n",
    "categorical_columns = [ 'Pclass',  'Sex']\n",
    "\n",
    "model_columns = continous_columns + categorical_columns\n",
    "    \n",
    "X_train, y_train = df_train[model_columns], df_train['Survived']\n",
    "X_test, y_test = df_test[model_columns], df_test['Survived']\n",
    "\n",
    "\n",
    "\n",
    "preprocess = make_column_transformer((StandardScaler(), [model_columns.index(col) for col in continous_columns]),\n",
    "                                     (OrdinalEncoder(), [model_columns.index(col) for col in categorical_columns]))\n",
    "lgbm = LGBMClassifier(max_depth=4)\n",
    "\n",
    "model = make_pipeline(preprocess, lgbm)\n",
    "model.fit(X_train,y_train, lgbmclassifier__categorical_feature=[model_columns.index(col) for col in categorical_columns])"
   ]
  },
  {
   "cell_type": "code",
   "execution_count": 6,
   "metadata": {},
   "outputs": [
    {
     "name": "stdout",
     "output_type": "stream",
     "text": [
      "Roc auc train: 0.9477505553161159\n",
      "Roc auc test: 0.9120923913043479\n"
     ]
    }
   ],
   "source": [
    "train_preds = model.predict_proba(X_train)[:,1]\n",
    "test_preds = model.predict_proba(X_test)[:,1]\n",
    "\n",
    "print(\"Roc auc train:\", roc_auc_score(y_train, train_preds))\n",
    "print(\"Roc auc test:\", roc_auc_score(y_test, test_preds))"
   ]
  },
  {
   "cell_type": "markdown",
   "metadata": {},
   "source": [
    "Wytrenowałem model za pomocą biblioteki lightgbm wykorzystujący technikę gradient boosting tree. Model osiągnął sensowne rezultaty na zbiorze treningowym i testowym. "
   ]
  },
  {
   "cell_type": "markdown",
   "metadata": {},
   "source": [
    "## 2 Predykcje dla 3 wybranych pasażerów"
   ]
  },
  {
   "cell_type": "code",
   "execution_count": 7,
   "metadata": {},
   "outputs": [],
   "source": [
    "passanger_index = [60, 250, 512]"
   ]
  },
  {
   "cell_type": "code",
   "execution_count": 8,
   "metadata": {},
   "outputs": [
    {
     "data": {
      "text/html": [
       "<div>\n",
       "<style scoped>\n",
       "    .dataframe tbody tr th:only-of-type {\n",
       "        vertical-align: middle;\n",
       "    }\n",
       "\n",
       "    .dataframe tbody tr th {\n",
       "        vertical-align: top;\n",
       "    }\n",
       "\n",
       "    .dataframe thead th {\n",
       "        text-align: right;\n",
       "    }\n",
       "</style>\n",
       "<table border=\"1\" class=\"dataframe\">\n",
       "  <thead>\n",
       "    <tr style=\"text-align: right;\">\n",
       "      <th></th>\n",
       "      <th>PassengerId</th>\n",
       "      <th>Survived</th>\n",
       "      <th>Pclass</th>\n",
       "      <th>Name</th>\n",
       "      <th>Sex</th>\n",
       "      <th>Age</th>\n",
       "      <th>SibSp</th>\n",
       "      <th>Parch</th>\n",
       "      <th>Ticket</th>\n",
       "      <th>Fare</th>\n",
       "      <th>Cabin</th>\n",
       "      <th>Embarked</th>\n",
       "    </tr>\n",
       "  </thead>\n",
       "  <tbody>\n",
       "    <tr>\n",
       "      <th>60</th>\n",
       "      <td>61</td>\n",
       "      <td>0</td>\n",
       "      <td>3</td>\n",
       "      <td>Sirayanian, Mr. Orsen</td>\n",
       "      <td>male</td>\n",
       "      <td>22.0</td>\n",
       "      <td>0</td>\n",
       "      <td>0</td>\n",
       "      <td>2669</td>\n",
       "      <td>7.2292</td>\n",
       "      <td>NaN</td>\n",
       "      <td>C</td>\n",
       "    </tr>\n",
       "    <tr>\n",
       "      <th>250</th>\n",
       "      <td>251</td>\n",
       "      <td>0</td>\n",
       "      <td>3</td>\n",
       "      <td>Reed, Mr. James George</td>\n",
       "      <td>male</td>\n",
       "      <td>NaN</td>\n",
       "      <td>0</td>\n",
       "      <td>0</td>\n",
       "      <td>362316</td>\n",
       "      <td>7.2500</td>\n",
       "      <td>NaN</td>\n",
       "      <td>S</td>\n",
       "    </tr>\n",
       "    <tr>\n",
       "      <th>512</th>\n",
       "      <td>513</td>\n",
       "      <td>1</td>\n",
       "      <td>1</td>\n",
       "      <td>McGough, Mr. James Robert</td>\n",
       "      <td>male</td>\n",
       "      <td>36.0</td>\n",
       "      <td>0</td>\n",
       "      <td>0</td>\n",
       "      <td>PC 17473</td>\n",
       "      <td>26.2875</td>\n",
       "      <td>E25</td>\n",
       "      <td>S</td>\n",
       "    </tr>\n",
       "  </tbody>\n",
       "</table>\n",
       "</div>"
      ],
      "text/plain": [
       "     PassengerId  Survived  Pclass                       Name   Sex   Age  \\\n",
       "60            61         0       3      Sirayanian, Mr. Orsen  male  22.0   \n",
       "250          251         0       3     Reed, Mr. James George  male   NaN   \n",
       "512          513         1       1  McGough, Mr. James Robert  male  36.0   \n",
       "\n",
       "     SibSp  Parch    Ticket     Fare Cabin Embarked  \n",
       "60       0      0      2669   7.2292   NaN        C  \n",
       "250      0      0    362316   7.2500   NaN        S  \n",
       "512      0      0  PC 17473  26.2875   E25        S  "
      ]
     },
     "execution_count": 8,
     "metadata": {},
     "output_type": "execute_result"
    }
   ],
   "source": [
    "df_train.iloc[passanger_index, :]"
   ]
  },
  {
   "cell_type": "code",
   "execution_count": 9,
   "metadata": {},
   "outputs": [],
   "source": [
    "df_selected = df_train.iloc[passanger_index, :]"
   ]
  },
  {
   "cell_type": "code",
   "execution_count": 10,
   "metadata": {},
   "outputs": [
    {
     "name": "stderr",
     "output_type": "stream",
     "text": [
      "<ipython-input-10-92052e97f0d5>:1: SettingWithCopyWarning: \n",
      "A value is trying to be set on a copy of a slice from a DataFrame.\n",
      "Try using .loc[row_indexer,col_indexer] = value instead\n",
      "\n",
      "See the caveats in the documentation: https://pandas.pydata.org/pandas-docs/stable/user_guide/indexing.html#returning-a-view-versus-a-copy\n",
      "  df_selected['preds'] = model.predict_proba(df_selected[model_columns])[:, 1]\n"
     ]
    }
   ],
   "source": [
    "df_selected['preds'] = model.predict_proba(df_selected[model_columns])[:, 1]"
   ]
  },
  {
   "cell_type": "code",
   "execution_count": 11,
   "metadata": {},
   "outputs": [
    {
     "data": {
      "text/html": [
       "<div>\n",
       "<style scoped>\n",
       "    .dataframe tbody tr th:only-of-type {\n",
       "        vertical-align: middle;\n",
       "    }\n",
       "\n",
       "    .dataframe tbody tr th {\n",
       "        vertical-align: top;\n",
       "    }\n",
       "\n",
       "    .dataframe thead th {\n",
       "        text-align: right;\n",
       "    }\n",
       "</style>\n",
       "<table border=\"1\" class=\"dataframe\">\n",
       "  <thead>\n",
       "    <tr style=\"text-align: right;\">\n",
       "      <th></th>\n",
       "      <th>PassengerId</th>\n",
       "      <th>Survived</th>\n",
       "      <th>Pclass</th>\n",
       "      <th>Name</th>\n",
       "      <th>Sex</th>\n",
       "      <th>Age</th>\n",
       "      <th>SibSp</th>\n",
       "      <th>Parch</th>\n",
       "      <th>Ticket</th>\n",
       "      <th>Fare</th>\n",
       "      <th>Cabin</th>\n",
       "      <th>Embarked</th>\n",
       "      <th>preds</th>\n",
       "    </tr>\n",
       "  </thead>\n",
       "  <tbody>\n",
       "    <tr>\n",
       "      <th>60</th>\n",
       "      <td>61</td>\n",
       "      <td>0</td>\n",
       "      <td>3</td>\n",
       "      <td>Sirayanian, Mr. Orsen</td>\n",
       "      <td>male</td>\n",
       "      <td>22.0</td>\n",
       "      <td>0</td>\n",
       "      <td>0</td>\n",
       "      <td>2669</td>\n",
       "      <td>7.2292</td>\n",
       "      <td>NaN</td>\n",
       "      <td>C</td>\n",
       "      <td>0.205812</td>\n",
       "    </tr>\n",
       "    <tr>\n",
       "      <th>250</th>\n",
       "      <td>251</td>\n",
       "      <td>0</td>\n",
       "      <td>3</td>\n",
       "      <td>Reed, Mr. James George</td>\n",
       "      <td>male</td>\n",
       "      <td>NaN</td>\n",
       "      <td>0</td>\n",
       "      <td>0</td>\n",
       "      <td>362316</td>\n",
       "      <td>7.2500</td>\n",
       "      <td>NaN</td>\n",
       "      <td>S</td>\n",
       "      <td>0.027942</td>\n",
       "    </tr>\n",
       "    <tr>\n",
       "      <th>512</th>\n",
       "      <td>513</td>\n",
       "      <td>1</td>\n",
       "      <td>1</td>\n",
       "      <td>McGough, Mr. James Robert</td>\n",
       "      <td>male</td>\n",
       "      <td>36.0</td>\n",
       "      <td>0</td>\n",
       "      <td>0</td>\n",
       "      <td>PC 17473</td>\n",
       "      <td>26.2875</td>\n",
       "      <td>E25</td>\n",
       "      <td>S</td>\n",
       "      <td>0.785827</td>\n",
       "    </tr>\n",
       "  </tbody>\n",
       "</table>\n",
       "</div>"
      ],
      "text/plain": [
       "     PassengerId  Survived  Pclass                       Name   Sex   Age  \\\n",
       "60            61         0       3      Sirayanian, Mr. Orsen  male  22.0   \n",
       "250          251         0       3     Reed, Mr. James George  male   NaN   \n",
       "512          513         1       1  McGough, Mr. James Robert  male  36.0   \n",
       "\n",
       "     SibSp  Parch    Ticket     Fare Cabin Embarked     preds  \n",
       "60       0      0      2669   7.2292   NaN        C  0.205812  \n",
       "250      0      0    362316   7.2500   NaN        S  0.027942  \n",
       "512      0      0  PC 17473  26.2875   E25        S  0.785827  "
      ]
     },
     "execution_count": 11,
     "metadata": {},
     "output_type": "execute_result"
    }
   ],
   "source": [
    "df_selected"
   ]
  },
  {
   "cell_type": "markdown",
   "metadata": {},
   "source": [
    "Szacowane prawdopdobienstwa przeżycia 3 wybrancyh osób znacząco się różnią."
   ]
  },
  {
   "cell_type": "markdown",
   "metadata": {},
   "source": [
    "## 3. Dekompozycja predykcji\n",
    "Wykorzystując methodę break down oraz shap. "
   ]
  },
  {
   "cell_type": "code",
   "execution_count": 12,
   "metadata": {},
   "outputs": [],
   "source": [
    "explainer = dx.Explainer(model, X_train, y_train, verbose=0)"
   ]
  },
  {
   "cell_type": "code",
   "execution_count": null,
   "metadata": {
    "scrolled": false
   },
   "outputs": [],
   "source": [
    "for i, row in df_selected.iterrows():\n",
    "    for t in ['shap', 'break_down']:\n",
    "        explainer_res = explainer.predict_parts(row[model_columns], type=t)\n",
    "        explainer_res.plot(title=f\"{row.Name}, method: {t}\")"
   ]
  },
  {
   "cell_type": "markdown",
   "metadata": {},
   "source": [
    "![](3_examples.png)"
   ]
  },
  {
   "cell_type": "markdown",
   "metadata": {},
   "source": [
    "## 4. Dwie obserwacje o różnych najważniejszych cechach"
   ]
  },
  {
   "cell_type": "code",
   "execution_count": 14,
   "metadata": {},
   "outputs": [],
   "source": [
    "def plot_shap_for_observation(df, i, explainer):\n",
    "    shap_res = explainer.predict_parts(df.iloc[i, :], type='shap')\n",
    "    shap_res.plot()"
   ]
  },
  {
   "cell_type": "code",
   "execution_count": null,
   "metadata": {},
   "outputs": [],
   "source": [
    "plot_shap_for_observation(df_train[model_columns], 7, explainer)"
   ]
  },
  {
   "cell_type": "markdown",
   "metadata": {},
   "source": [
    "![](2.png)"
   ]
  },
  {
   "cell_type": "code",
   "execution_count": null,
   "metadata": {},
   "outputs": [],
   "source": [
    "plot_shap_for_observation(df_train[model_columns], 1, explainer)"
   ]
  },
  {
   "cell_type": "markdown",
   "metadata": {},
   "source": [
    "![](3.png)"
   ]
  },
  {
   "cell_type": "markdown",
   "metadata": {},
   "source": [
    "Dla obserwacji 7 najważniejszymi cechami jest SibSp oraz Age (liczba rodzeństwa na pokładzie i wiek), natomiast dla obserwacji 1 Sex i Pclass (płeć i klasa).\n",
    "\n",
    "### Wyjaśnienie dla obserwacji 7:"
   ]
  },
  {
   "cell_type": "code",
   "execution_count": 53,
   "metadata": {},
   "outputs": [
    {
     "name": "stdout",
     "output_type": "stream",
     "text": [
      "Średnia przeżywalność dla całych danych 0.3904494382022472\n"
     ]
    }
   ],
   "source": [
    "print(\"Średnia przeżywalność dla całych danych\", df_train.Survived.mean())"
   ]
  },
  {
   "cell_type": "code",
   "execution_count": 241,
   "metadata": {},
   "outputs": [
    {
     "name": "stdout",
     "output_type": "stream",
     "text": [
      "Nazwa cechy:Pclass, % Survived : 0.25384615384615383, Liczność:  390\n",
      "Nazwa cechy:Sex, % Survived : 0.19298245614035087, Liczność:  456\n",
      "Nazwa cechy:Age, % Survived : 0.5555555555555556, Liczność:  18\n",
      "Nazwa cechy:SibSp, % Survived : 0.21428571428571427, Liczność:  14\n",
      "Nazwa cechy:Parch, % Survived : 0.5108695652173914, Liczność:  92\n",
      "Nazwa cechy:Fare, % Survived : 0.0, Liczność:  4\n"
     ]
    }
   ],
   "source": [
    "for feature_name, value in df_train.iloc[7,:].items():\n",
    "    if feature_name in model_columns:\n",
    "        if feature_name in ['Age']:\n",
    "            df_feature = df_train[df_train[feature_name] <= value]\n",
    "        else:\n",
    "            df_feature = df_train[df_train[feature_name] == value]\n",
    "            \n",
    "        print(f\"Nazwa cechy:{feature_name}, % Survived : {df_feature.Survived.mean()}, Liczność:  {len(df_feature)}\")"
   ]
  },
  {
   "cell_type": "markdown",
   "metadata": {},
   "source": [
    "Dla obserwacji siódmej istotną cechą jest liczba rodzeńśtwa. Ma ona negatywny wpływ na wynik oraz jest rzadko reprezentowana w datasecie, stąd modyfikacja w całym datasecie SibSp na 3 może znacznie obiniżyć średnią odpowiedź modelu. Młody wiek podnosi szanse przeżycia. W tym przypadku również mamy do czynienia ze stosunkową mała grupą, która tym razem charakteryzuje się wysoką szansą przeżycia, stąd dodatnia atrybucja."
   ]
  },
  {
   "cell_type": "markdown",
   "metadata": {},
   "source": [
    "### Wyjaśnienie dla obserwacji 1:"
   ]
  },
  {
   "cell_type": "code",
   "execution_count": 52,
   "metadata": {},
   "outputs": [
    {
     "name": "stdout",
     "output_type": "stream",
     "text": [
      "Nazwa cechy:Pclass, % Survived : 0.6114285714285714, Liczność:  175\n",
      "Nazwa cechy:Sex, % Survived : 0.7421875, Liczność:  256\n",
      "Nazwa cechy:Age, % Survived : 0.4444444444444444, Liczność:  9\n",
      "Nazwa cechy:SibSp, % Survived : 0.5266272189349113, Liczność:  169\n",
      "Nazwa cechy:Parch, % Survived : 0.35911602209944754, Liczność:  543\n",
      "Nazwa cechy:Fare, % Survived : 1.0, Liczność:  1\n"
     ]
    }
   ],
   "source": [
    "for feature_name, value in df_train.iloc[1,:].items():\n",
    "    if feature_name in model_columns:\n",
    "        df_feature = df_train[df_train[feature_name] == value]\n",
    "        print(f\"Nazwa cechy:{feature_name}, % Survived : {df_feature.Survived.mean()}, Liczność:  {len(df_feature)}\")"
   ]
  },
  {
   "cell_type": "markdown",
   "metadata": {},
   "source": [
    "Dla obserwacji pierwszej dwoma najważniejszymi cechami jest Pclass i Sex. Średnia przeżywalność dla kobiet wynosi aż 0.74, a dla pasażerów z klasy pierwszej 0.61. Z przykładów w podpunkcie 3 te dwie cechy zawsze występowały jako najważniejsze wraz z Fare, który jest skorelowany z Pclass, droższy bilet z reguły odpowiadał wyższej klasie."
   ]
  },
  {
   "cell_type": "markdown",
   "metadata": {},
   "source": [
    "## 5 Dwie obserwacje o przeciwnych wartościach atrybucji"
   ]
  },
  {
   "cell_type": "markdown",
   "metadata": {},
   "source": [
    "Dla cechy Pclass i wartości 2, odszukałem dwie obserwacje w których ta cecha o tej wartosci ma wpływ pozytywny a w drugiej negatywny."
   ]
  },
  {
   "cell_type": "code",
   "execution_count": null,
   "metadata": {
    "scrolled": false
   },
   "outputs": [],
   "source": [
    "for i in range(122, 124):\n",
    "    plot_shap_for_observation(df_train[model_columns], i, explainer)    "
   ]
  },
  {
   "cell_type": "markdown",
   "metadata": {},
   "source": [
    "![](4.png)"
   ]
  },
  {
   "cell_type": "markdown",
   "metadata": {},
   "source": [
    "### Wyjaśnienie zmiany wpływu klasy drugiej na model"
   ]
  },
  {
   "cell_type": "code",
   "execution_count": 67,
   "metadata": {},
   "outputs": [
    {
     "name": "stdout",
     "output_type": "stream",
     "text": [
      "Średnia przeżywalność dla całych danych 0.3904494382022472\n"
     ]
    }
   ],
   "source": [
    "print(\"Średnia przeżywalność dla całych danych\", df_train.Survived.mean())"
   ]
  },
  {
   "cell_type": "code",
   "execution_count": 65,
   "metadata": {},
   "outputs": [
    {
     "data": {
      "text/html": [
       "<div>\n",
       "<style scoped>\n",
       "    .dataframe tbody tr th:only-of-type {\n",
       "        vertical-align: middle;\n",
       "    }\n",
       "\n",
       "    .dataframe tbody tr th {\n",
       "        vertical-align: top;\n",
       "    }\n",
       "\n",
       "    .dataframe thead th {\n",
       "        text-align: right;\n",
       "    }\n",
       "</style>\n",
       "<table border=\"1\" class=\"dataframe\">\n",
       "  <thead>\n",
       "    <tr style=\"text-align: right;\">\n",
       "      <th></th>\n",
       "      <th>% Survived</th>\n",
       "      <th>Liczba obserwacji</th>\n",
       "    </tr>\n",
       "    <tr>\n",
       "      <th>Pclass</th>\n",
       "      <th></th>\n",
       "      <th></th>\n",
       "    </tr>\n",
       "  </thead>\n",
       "  <tbody>\n",
       "    <tr>\n",
       "      <th>1</th>\n",
       "      <td>0.611429</td>\n",
       "      <td>175</td>\n",
       "    </tr>\n",
       "    <tr>\n",
       "      <th>2</th>\n",
       "      <td>0.489796</td>\n",
       "      <td>147</td>\n",
       "    </tr>\n",
       "    <tr>\n",
       "      <th>3</th>\n",
       "      <td>0.253846</td>\n",
       "      <td>390</td>\n",
       "    </tr>\n",
       "  </tbody>\n",
       "</table>\n",
       "</div>"
      ],
      "text/plain": [
       "        % Survived  Liczba obserwacji\n",
       "Pclass                               \n",
       "1         0.611429                175\n",
       "2         0.489796                147\n",
       "3         0.253846                390"
      ]
     },
     "execution_count": 65,
     "metadata": {},
     "output_type": "execute_result"
    }
   ],
   "source": [
    "df_train.groupby('Pclass')['Survived'].agg(['mean','count']).rename(columns={'mean':'% Survived', 'count':'Liczba obserwacji'})"
   ]
  },
  {
   "cell_type": "markdown",
   "metadata": {},
   "source": [
    "W ogólności dla całych danych cecha Pclass o wartości ma pozytywny wpływ na przeżywalność. Średnia przeżywalność w tej grupie jest większe o ~0.09. "
   ]
  },
  {
   "cell_type": "code",
   "execution_count": 69,
   "metadata": {},
   "outputs": [],
   "source": [
    "df_female = df_train[df_train.Sex == 'female']"
   ]
  },
  {
   "cell_type": "code",
   "execution_count": 70,
   "metadata": {},
   "outputs": [
    {
     "data": {
      "text/html": [
       "<div>\n",
       "<style scoped>\n",
       "    .dataframe tbody tr th:only-of-type {\n",
       "        vertical-align: middle;\n",
       "    }\n",
       "\n",
       "    .dataframe tbody tr th {\n",
       "        vertical-align: top;\n",
       "    }\n",
       "\n",
       "    .dataframe thead th {\n",
       "        text-align: right;\n",
       "    }\n",
       "</style>\n",
       "<table border=\"1\" class=\"dataframe\">\n",
       "  <thead>\n",
       "    <tr style=\"text-align: right;\">\n",
       "      <th></th>\n",
       "      <th>% Survived</th>\n",
       "      <th>Liczba obserwacji</th>\n",
       "    </tr>\n",
       "    <tr>\n",
       "      <th>Pclass</th>\n",
       "      <th></th>\n",
       "      <th></th>\n",
       "    </tr>\n",
       "  </thead>\n",
       "  <tbody>\n",
       "    <tr>\n",
       "      <th>1</th>\n",
       "      <td>0.958904</td>\n",
       "      <td>73</td>\n",
       "    </tr>\n",
       "    <tr>\n",
       "      <th>2</th>\n",
       "      <td>0.935484</td>\n",
       "      <td>62</td>\n",
       "    </tr>\n",
       "    <tr>\n",
       "      <th>3</th>\n",
       "      <td>0.512397</td>\n",
       "      <td>121</td>\n",
       "    </tr>\n",
       "  </tbody>\n",
       "</table>\n",
       "</div>"
      ],
      "text/plain": [
       "        % Survived  Liczba obserwacji\n",
       "Pclass                               \n",
       "1         0.958904                 73\n",
       "2         0.935484                 62\n",
       "3         0.512397                121"
      ]
     },
     "execution_count": 70,
     "metadata": {},
     "output_type": "execute_result"
    }
   ],
   "source": [
    "df_female.groupby('Pclass')['Survived'].agg(['mean','count']).rename(columns={'mean':'% Survived', 'count':'Liczba obserwacji'})"
   ]
  },
  {
   "cell_type": "markdown",
   "metadata": {},
   "source": [
    "Wśród kobiet klasa druga ma również większą przeżywalność od pozostałych klas."
   ]
  },
  {
   "cell_type": "code",
   "execution_count": 56,
   "metadata": {},
   "outputs": [],
   "source": [
    "df_male_fare_30 = df_train[(df_train.Sex == 'male') & (df_train.Fare >= 30.7)]"
   ]
  },
  {
   "cell_type": "code",
   "execution_count": 64,
   "metadata": {},
   "outputs": [
    {
     "data": {
      "text/html": [
       "<div>\n",
       "<style scoped>\n",
       "    .dataframe tbody tr th:only-of-type {\n",
       "        vertical-align: middle;\n",
       "    }\n",
       "\n",
       "    .dataframe tbody tr th {\n",
       "        vertical-align: top;\n",
       "    }\n",
       "\n",
       "    .dataframe thead th {\n",
       "        text-align: right;\n",
       "    }\n",
       "</style>\n",
       "<table border=\"1\" class=\"dataframe\">\n",
       "  <thead>\n",
       "    <tr style=\"text-align: right;\">\n",
       "      <th></th>\n",
       "      <th>% Survived</th>\n",
       "      <th>Liczba obserwacji</th>\n",
       "    </tr>\n",
       "    <tr>\n",
       "      <th>Pclass</th>\n",
       "      <th></th>\n",
       "      <th></th>\n",
       "    </tr>\n",
       "  </thead>\n",
       "  <tbody>\n",
       "    <tr>\n",
       "      <th>1</th>\n",
       "      <td>0.338462</td>\n",
       "      <td>65</td>\n",
       "    </tr>\n",
       "    <tr>\n",
       "      <th>2</th>\n",
       "      <td>0.200000</td>\n",
       "      <td>10</td>\n",
       "    </tr>\n",
       "    <tr>\n",
       "      <th>3</th>\n",
       "      <td>0.250000</td>\n",
       "      <td>20</td>\n",
       "    </tr>\n",
       "  </tbody>\n",
       "</table>\n",
       "</div>"
      ],
      "text/plain": [
       "        % Survived  Liczba obserwacji\n",
       "Pclass                               \n",
       "1         0.338462                 65\n",
       "2         0.200000                 10\n",
       "3         0.250000                 20"
      ]
     },
     "execution_count": 64,
     "metadata": {},
     "output_type": "execute_result"
    }
   ],
   "source": [
    "df_male_fare_30.groupby('Pclass')['Survived'].agg(['mean','count']).rename(columns={'mean':'% Survived', 'count':'Liczba obserwacji'})"
   ]
  },
  {
   "cell_type": "code",
   "execution_count": 74,
   "metadata": {},
   "outputs": [
    {
     "data": {
      "text/plain": [
       "0.30526315789473685"
      ]
     },
     "execution_count": 74,
     "metadata": {},
     "output_type": "execute_result"
    }
   ],
   "source": [
    "df_male_fare_30.Survived.mean()"
   ]
  },
  {
   "cell_type": "markdown",
   "metadata": {},
   "source": [
    "Natomiast dla mężczyzn o stosunkowo wysokiej opłacie (> 30.7), większość obserwacji należała do klasy I, natomiast klasa druga miała niższą przeżywalność od średniej w tej grupie.\n",
    "Stąd różny znak wpływu Klasy 2 dla tych dwóch obserwacji."
   ]
  },
  {
   "cell_type": "markdown",
   "metadata": {},
   "source": [
    "## 6 Trening sieci neuronowej"
   ]
  },
  {
   "cell_type": "code",
   "execution_count": 76,
   "metadata": {},
   "outputs": [
    {
     "name": "stderr",
     "output_type": "stream",
     "text": [
      "/home/azapala/.local/lib/python3.8/site-packages/sklearn/neural_network/_multilayer_perceptron.py:614: ConvergenceWarning:\n",
      "\n",
      "Stochastic Optimizer: Maximum iterations (500) reached and the optimization hasn't converged yet.\n",
      "\n"
     ]
    },
    {
     "data": {
      "text/plain": [
       "Pipeline(steps=[('columntransformer',\n",
       "                 ColumnTransformer(transformers=[('standardscaler',\n",
       "                                                  StandardScaler(),\n",
       "                                                  [0, 1, 2, 3]),\n",
       "                                                 ('ordinalencoder',\n",
       "                                                  OrdinalEncoder(), [4, 5])])),\n",
       "                ('simpleimputer', SimpleImputer(strategy='most_frequent')),\n",
       "                ('mlpclassifier',\n",
       "                 MLPClassifier(hidden_layer_sizes=(60, 50), max_iter=500))])"
      ]
     },
     "execution_count": 76,
     "metadata": {},
     "output_type": "execute_result"
    }
   ],
   "source": [
    "net = MLPClassifier(hidden_layer_sizes=(60,50), max_iter=500)\n",
    "imp = SimpleImputer(missing_values=np.nan, strategy='most_frequent')\n",
    "model_net = make_pipeline(preprocess,imp, net)\n",
    "model_net.fit(X_train, y_train)"
   ]
  },
  {
   "cell_type": "code",
   "execution_count": 77,
   "metadata": {},
   "outputs": [
    {
     "name": "stdout",
     "output_type": "stream",
     "text": [
      "Roc auc train: 0.9300757550641514\n",
      "Roc auc test: 0.9175271739130435\n"
     ]
    }
   ],
   "source": [
    "train_preds = model_net.predict_proba(X_train)[:,1]\n",
    "test_preds = model_net.predict_proba(X_test)[:,1]\n",
    "\n",
    "print(\"Roc auc train:\", roc_auc_score(y_train, train_preds))\n",
    "print(\"Roc auc test:\", roc_auc_score(y_test, test_preds))"
   ]
  },
  {
   "cell_type": "markdown",
   "metadata": {},
   "source": [
    "Model osiąga podobne metryki roc auc na zbiorach testowych i treningowych jak wcześniejszy model drzewiasty, stąd ma podobną siłę wyrazu i skutecznośc na tych danych."
   ]
  },
  {
   "cell_type": "code",
   "execution_count": 78,
   "metadata": {},
   "outputs": [],
   "source": [
    "explainer_net = dx.Explainer(model_net, X_train, y_train, verbose=0)"
   ]
  },
  {
   "cell_type": "code",
   "execution_count": null,
   "metadata": {
    "scrolled": false
   },
   "outputs": [],
   "source": [
    "plot_shap_for_observation(df_train[model_columns], 12, explainer)   \n",
    "res = plot_shap_for_observation(df_train[model_columns], 12, explainer_net)        "
   ]
  },
  {
   "cell_type": "markdown",
   "metadata": {},
   "source": [
    "![](5.png)"
   ]
  },
  {
   "cell_type": "markdown",
   "metadata": {},
   "source": [
    "**Skupie się na nad zmianą wpływu Fare w tych dwóch klasyfikatorach, bo w jednym klasyfikatorze ma on wpływ dodadni a w drugim ujemny**\n",
    "\n",
    "Porównam predykcję modelu dla obserwacji którzy są mężczyznami w klasie 3 następnie przeanalizuję wpływ ceny na przeżywalność w tej grupie."
   ]
  },
  {
   "cell_type": "code",
   "execution_count": 120,
   "metadata": {},
   "outputs": [],
   "source": [
    "df_male_3_class = df_train[(df_train.Sex == 'male') & (df_train.Pclass == 3)]"
   ]
  },
  {
   "cell_type": "code",
   "execution_count": 121,
   "metadata": {},
   "outputs": [
    {
     "name": "stderr",
     "output_type": "stream",
     "text": [
      "<ipython-input-121-897da87e57a9>:1: SettingWithCopyWarning:\n",
      "\n",
      "\n",
      "A value is trying to be set on a copy of a slice from a DataFrame.\n",
      "Try using .loc[row_indexer,col_indexer] = value instead\n",
      "\n",
      "See the caveats in the documentation: https://pandas.pydata.org/pandas-docs/stable/user_guide/indexing.html#returning-a-view-versus-a-copy\n",
      "\n",
      "<ipython-input-121-897da87e57a9>:2: SettingWithCopyWarning:\n",
      "\n",
      "\n",
      "A value is trying to be set on a copy of a slice from a DataFrame.\n",
      "Try using .loc[row_indexer,col_indexer] = value instead\n",
      "\n",
      "See the caveats in the documentation: https://pandas.pydata.org/pandas-docs/stable/user_guide/indexing.html#returning-a-view-versus-a-copy\n",
      "\n"
     ]
    }
   ],
   "source": [
    "df_male_3_class['lgbm_pred'] = model.predict_proba(df_male_3_class[model_columns])[:, 1]\n",
    "df_male_3_class['net_pred'] = model_net.predict_proba(df_male_3_class[model_columns])[:, 1]"
   ]
  },
  {
   "cell_type": "code",
   "execution_count": 122,
   "metadata": {},
   "outputs": [
    {
     "data": {
      "text/plain": [
       "Survived     0.137546\n",
       "lgbm_pred    0.139189\n",
       "net_pred     0.120995\n",
       "dtype: float64"
      ]
     },
     "execution_count": 122,
     "metadata": {},
     "output_type": "execute_result"
    }
   ],
   "source": [
    "df_male_3_class[['Survived', 'lgbm_pred', 'net_pred']].mean()"
   ]
  },
  {
   "cell_type": "markdown",
   "metadata": {},
   "source": [
    "Średnia warotść prawdopodobieństwa przeżywalności w tej grupie dla sieci bardziej odbiegają od rzeczywistej w porównaniu do modelu drzewiastego. Sieć zaniża prawdopodobieńśtwo."
   ]
  },
  {
   "cell_type": "code",
   "execution_count": 218,
   "metadata": {},
   "outputs": [],
   "source": [
    "fares_range, step = np.linspace(7, 10, 20, retstep=True)\n",
    "\n",
    "fares = []\n",
    "lgbm_means = []\n",
    "net_means = []\n",
    "survived_means = []\n",
    "\n",
    "for start, stop in zip(fares_range[:-1], fares_range[1:]):\n",
    "    df_fare = df_male_3_class[(df_male_3_class.Fare < stop) & (df_male_3_class.Fare >= start)]\n",
    "    fares.append((start + stop) / 2)\n",
    "    lgbm_means.append(df_fare.lgbm_pred.mean()) \n",
    "    net_means.append(df_fare.net_pred.mean())\n",
    "    survived_means.append(df_fare.Survived.mean())"
   ]
  },
  {
   "cell_type": "code",
   "execution_count": 235,
   "metadata": {},
   "outputs": [
    {
     "data": {
      "image/png": "[encoded data removed]",
      "text/plain": [
       "<Figure size 720x720 with 1 Axes>"
      ]
     },
     "metadata": {
      "needs_background": "light"
     },
     "output_type": "display_data"
    }
   ],
   "source": [
    "fig, ax = plt.subplots(figsize=(10,10))\n",
    "ax.scatter(fares, lgbm_means, label='lgbm')\n",
    "ax.scatter(fares, net_means, label='net')\n",
    "ax.scatter(fares, survived_means, label='data')\n",
    "plt.axvline(x=8.05, c='r')\n",
    "plt.hlines(df_male_3_class.lgbm_pred.mean(), 7, 10, label='mean lgbm')\n",
    "plt.hlines(df_male_3_class.net_pred.mean(), 7, 10, colors='orange',label='mean net')\n",
    "\n",
    "\n",
    "ax.set_xlabel('Fare')\n",
    "ax.set_ylabel('Mean survivability')\n",
    "ax.legend()\n",
    "plt.show()"
   ]
  },
  {
   "cell_type": "markdown",
   "metadata": {},
   "source": [
    "Powyższy wykres przedstawia średnie odpowiedzi modeli i rzeczywistą średnią przeżywalność w grupie mężczyzn z 3 klasy w zależności od ceny biletu. Wraz z prostymi przedstawiającymi średnią odpowiedz modelu w tej grupie. Model oparty na sieci niedoszacowuje średnie prawdopodobieństwo w otoczeniu opłaty wynoszącej 8.05, zaniża prawdopodobieństwo odpowiedzi modelu. Odpowiedź sieci w otoczeniu tej opłaty jest niższa niż średnia opdowiedz sieci, stąd w przypadku sieci atrybucja Fare jest ujemna. W przypadku modelu drzewiatego odpowiedz modelu jest większa niż średnia stąd pozytywny wpływ."
   ]
  }
 ],
 "metadata": {
  "kernelspec": {
   "display_name": "xai",
   "language": "python",
   "name": "xai"
  },
  "language_info": {
   "codemirror_mode": {
    "name": "ipython",
    "version": 3
   },
   "file_extension": ".py",
   "mimetype": "text/x-python",
   "name": "python",
   "nbconvert_exporter": "python",
   "pygments_lexer": "ipython3",
   "version": "3.8.5"
  }
 },
 "nbformat": 4,
 "nbformat_minor": 4
}
